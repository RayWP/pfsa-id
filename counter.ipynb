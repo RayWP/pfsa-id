{
 "cells": [
  {
   "cell_type": "code",
   "execution_count": null,
   "id": "161afc3a",
   "metadata": {},
   "outputs": [],
   "source": [
    "import pandas as pd\n",
    "\n",
    "data = pd.read_csv(\"corpus-raymond/usecase-test-hf.csv\")\n",
    "# data2 = pd.read_csv(\"corpus-raymond/usecase-val-hf.csv\")\n",
    "# data.add(data2)\n",
    "item = data['IOB_tag'].apply(eval)\n",
    "\n",
    "# Merge all lists in the 'IOB_tag' column into a single list\n",
    "merged_items = []\n",
    "for lst in item:\n",
    "    merged_items.extend(lst)\n",
    "\n",
    "# Display the result\n",
    "print(f\"Total items after merging: {len(merged_items)}\")\n",
    "print(merged_items[:10])"
   ]
  },
  {
   "cell_type": "code",
   "execution_count": null,
   "id": "2ad4b3fa",
   "metadata": {},
   "outputs": [],
   "source": [
    "from collections import Counter\n",
    "\n",
    "# Calculate frequency of each tag\n",
    "tag_counts = Counter(merged_items)\n",
    "\n",
    "# Display the results\n",
    "print(f\"Number of unique tags: {len(tag_counts)}\")\n",
    "print(\"\\nMost common tags:\")\n",
    "for tag, count in tag_counts.most_common(10):  # Show top 10 most common tags\n",
    "    print(f\"{tag}: {count}\")\n",
    "\n",
    "# To see all tags and their counts in a more structured format\n",
    "tag_counts_df = pd.DataFrame.from_dict(tag_counts, orient='index', columns=['count'])\n",
    "tag_counts_df = tag_counts_df.sort_values('count', ascending=False).reset_index()\n",
    "tag_counts_df.columns = ['tag', 'count']\n",
    "\n",
    "# Display the DataFrame\n",
    "tag_counts_df.head(10)  # Show top 10 tags"
   ]
  },
  {
   "cell_type": "code",
   "execution_count": 15,
   "id": "3c60304a",
   "metadata": {},
   "outputs": [
    {
     "name": "stdout",
     "output_type": "stream",
     "text": [
      "Number of unique structure focus types: 2\n",
      "\n",
      "Most common types:\n",
      "False: 118\n",
      "True: 27\n"
     ]
    },
    {
     "data": {
      "text/html": [
       "<div>\n",
       "<style scoped>\n",
       "    .dataframe tbody tr th:only-of-type {\n",
       "        vertical-align: middle;\n",
       "    }\n",
       "\n",
       "    .dataframe tbody tr th {\n",
       "        vertical-align: top;\n",
       "    }\n",
       "\n",
       "    .dataframe thead th {\n",
       "        text-align: right;\n",
       "    }\n",
       "</style>\n",
       "<table border=\"1\" class=\"dataframe\">\n",
       "  <thead>\n",
       "    <tr style=\"text-align: right;\">\n",
       "      <th></th>\n",
       "      <th>structure_focus</th>\n",
       "      <th>count</th>\n",
       "    </tr>\n",
       "  </thead>\n",
       "  <tbody>\n",
       "    <tr>\n",
       "      <th>0</th>\n",
       "      <td>False</td>\n",
       "      <td>118</td>\n",
       "    </tr>\n",
       "    <tr>\n",
       "      <th>1</th>\n",
       "      <td>True</td>\n",
       "      <td>27</td>\n",
       "    </tr>\n",
       "  </tbody>\n",
       "</table>\n",
       "</div>"
      ],
      "text/plain": [
       "   structure_focus  count\n",
       "0            False    118\n",
       "1             True     27"
      ]
     },
     "execution_count": 15,
     "metadata": {},
     "output_type": "execute_result"
    }
   ],
   "source": [
    "import pandas as pd\n",
    "from collections import Counter\n",
    "\n",
    "data = pd.read_csv(\"requirement_classification/type_classification-validation.csv\")\n",
    "# data2 = pd.read_csv(\"corpus-raymond/usecase-val-hf.csv\")\n",
    "# data.add(data2)\n",
    "item = data['usecase_focus']\n",
    "\n",
    "# Check if the column contains lists/arrays or single values\n",
    "if isinstance(item.iloc[0], (list, tuple)):\n",
    "    # If items are lists, flatten them first\n",
    "    merged_items = []\n",
    "    for lst in item:\n",
    "        if isinstance(lst, (list, tuple)):\n",
    "            merged_items.extend(lst)\n",
    "        else:\n",
    "            merged_items.append(lst)\n",
    "else:\n",
    "    # If items are single values, use them directly\n",
    "    merged_items = item.tolist()\n",
    "\n",
    "# Calculate frequency\n",
    "structure_focus_counts = Counter(merged_items)\n",
    "\n",
    "# Display the results\n",
    "print(f\"Number of unique structure focus types: {len(structure_focus_counts)}\")\n",
    "print(\"\\nMost common types:\")\n",
    "for focus_type, count in structure_focus_counts.most_common(10):\n",
    "    print(f\"{focus_type}: {count}\")\n",
    "\n",
    "# Create a DataFrame for better visualization\n",
    "focus_counts_df = pd.DataFrame.from_dict(structure_focus_counts, orient='index', columns=['count'])\n",
    "focus_counts_df = focus_counts_df.sort_values('count', ascending=False).reset_index()\n",
    "focus_counts_df.columns = ['structure_focus', 'count']\n",
    "\n",
    "# Display the DataFrame\n",
    "focus_counts_df.head(10)  # Show top 10 types"
   ]
  }
 ],
 "metadata": {
  "kernelspec": {
   "display_name": "Python 3",
   "language": "python",
   "name": "python3"
  },
  "language_info": {
   "codemirror_mode": {
    "name": "ipython",
    "version": 3
   },
   "file_extension": ".py",
   "mimetype": "text/x-python",
   "name": "python",
   "nbconvert_exporter": "python",
   "pygments_lexer": "ipython3",
   "version": "3.11.0"
  }
 },
 "nbformat": 4,
 "nbformat_minor": 5
}
