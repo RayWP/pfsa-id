{
 "cells": [
  {
   "cell_type": "markdown",
   "id": "a9266993-52b1-44c2-b2d0-445757ec66b4",
   "metadata": {},
   "source": [
    "## PFSA-ID: An Annotated Indonesian Corpus and Baseline Model of Public Figures Statements Attributions "
   ]
  },
  {
   "cell_type": "markdown",
   "id": "4960a755-a694-4d8c-8745-5ccab733f54a",
   "metadata": {},
   "source": [
    "### Import the library"
   ]
  },
  {
   "cell_type": "code",
   "execution_count": 1,
   "id": "5b255e2e-4b16-488e-84b4-d148bb118141",
   "metadata": {
    "tags": []
   },
   "outputs": [],
   "source": [
    "import spacy\n",
    "from spacy import displacy"
   ]
  },
  {
   "cell_type": "markdown",
   "id": "846c11ae-576b-4d72-994c-79e20dd96633",
   "metadata": {},
   "source": [
    "### Loading the baseline model"
   ]
  },
  {
   "cell_type": "code",
   "execution_count": 2,
   "id": "4fe51d6c-bfc6-410e-92b8-adca1544c338",
   "metadata": {},
   "outputs": [],
   "source": [
    "nlp = spacy.load(\"baseline-model\")"
   ]
  },
  {
   "cell_type": "markdown",
   "id": "4fc2bc0f-5da1-425e-85c9-4ed4fa0b63f7",
   "metadata": {},
   "source": [
    "### Setting the text from the news article"
   ]
  },
  {
   "cell_type": "code",
   "execution_count": 3,
   "id": "f5d986f7-9e41-4a58-892c-2f46b4e03435",
   "metadata": {},
   "outputs": [],
   "source": [
    "#text = 'JAKARTA, KOMPAS — Para delegasi pemangku kebijakan moneter dan fiskal negara-negara anggota G-20 sepakat bahwa selain kebijakan pemulihan yang terkalibrasi dengan baik, peringanan utang negara miskin menjadi kunci ketahanan dan stabilitas dunia menuju pertumbuhan ekonomi yang berkelanjutan dan inklusif. Sebagai pemegang tampuk presidensi, Indonesia menjembatani kesepakatan yang terbentuk pada hari kedua pertemuan pertama tingkat Menteri Keuangan dan Gubernur Bank Sentral (Finance Ministers and Central Bank Governors/FMCBG) Jalur Keuangan G-20 yang berlangsung secara hibrida di Jakarta, Jumat (18/2/2022). Seusai pertemuan tersebut, Gubernur Bank Indonesia Perry Warjiyo mengatakan, dalam rangka mendukung stabilitas ekonomi makro, G-20 berkomitmen menerapkan kebijakan moneter yang terkalibrasi, terencana, dan terkomunikasikan dengan baik. ”Ini penting agar normalisasi yang dilakukan oleh negara maju berdampak minimal terhadap negara berkembang. Jika kebijakan ekonomi bisa terkalibrasi dengan baik, pemulihan ekonomi global bisa berlangsung dan scarring effect (efek kerusakan struktur ekonomi jangka menengah) bisa dihindari,” ujar Perry. Normalisasi kebijakan moneter dan fiskal yang terutama dilakukan oleh negara maju, lanjut Perry, berpotensi menciptakan pengetatan likuiditas keuangan global. Situasi ini dapat menyebabkan arus keluar modal dari pasar negara berkembang ataupun negara miskin. Pandemi Covid-19 yang terjadi sejak awal 2020 juga disadari telah menyebabkan gangguan ekonomi global yang mendalam, baik di sisi penawaran maupun permintaan di pasar global. Dampak yang ditimbulkan oleh mengetatnya likuiditas keuangan global diyakini bakal memperburuk neraca pembayaran yang menghambat pemulihan ekonomi global. Di sisi lain, negara ekonomi berkembang perlu menempuh kebijakan ekonomi makro dan sistem keuangan secara sehat, termasuk di dalamnya melakukan kebijakan moneter yang secara kuat dapat mengatasi dampak rembetan keuangan global. ”Kami sepakat agar negara berkembang melakukan kebijakan untuk mengelola arus lalu lintas modal. Ini penting untuk memperkuat aliran modal masuk ke negara berkembang yang dibutuhkan untuk mendukung pemulihan ekonomi,” ujarnya. Agar kebijakan negara maju dan negara berkembang dapat bersinergi dengan baik, lanjut Perry, dibutuhkan ketahanan yang kuat dari negara-negara berkembang dalam menghadapi guncangan pasar keuangan global. Ketahanan bisa didapat melalui penyesuaian mata uang lokal (local currency settlement) antarnegara. Dalam kesempatan yang sama, Menteri Keuangan Sri Mulyani Indrawati menegaskan, kerja sama para kreditor terutama untuk negara berpenghasilan rendah yang sedang mengalami krisis utang. Penangguhan utang menjadi jalan bagi negara-negara miskin untuk keluar dari krisis kesehatan dan ekonomi. ”Dibutuhkan kerja sama global dari negara-negara kreditor untuk dapat memberikan ruang bagi negara-negara tersebut untuk bisa pulih kembali,” ujarnya. Secara spesifik di dalam komunike atau kesepakatan bersama anggota forum FMCBG tertulis, terdapat tiga negara, yakni Chad, Zambia, dan Etiopia, yang saat ini sedang melalui proses persetujuan penangguhan utang dari para kreditor. ”Banyak kreditor, yang merupakan anggota G-20, memiliki mekanisme masing-masing terkait penangguhan utang. Di sinilah pentingnya pertemuan ini, yakni untuk menyatukan perspektif para kreditor dalam memandang permasalahan yang ada,” ujarnya. Menanggapi pertemuan FMCBG Jalur Keuangan G-20 di Indonesia, Direktur Pelaksana Dana Moneter Internasional (IMF) Kristalina Georgieva mengingatkan, kerja sama internasional yang kuat dan kelincahan kebijakan yang luar biasa akan sangat penting untuk menavigasi pemulihan pada 2022. ”Banyak negara perlu menavigasi siklus moneter yang ketat. Dalam konteks tingkat ketidakpastian yang tinggi dan perbedaan yang signifikan antarnegara, kebijakan ekonomi makro perlu dikalibrasi secara hati-hati dengan keadaan masing-masing negara,” kata Georgieva. Untuk memenuhi kebutuhan pembiayaan berkelanjutan secara global, tahun ini Bank Investasi Eropa (EIB) siap menggelontorkan dana hingga 1 triliun euro (Rp 16.280 triliun). Kucuran dana ini akan membiayai proyek-proyek hijau, termasuk proyek untuk memitigasi perubahan iklim di ratusan negara dunia, termasuk Indonesia. Wakil Presiden EIB Gelsomina Vigliotti mengatakan, aliran pembiayaan untuk memitigasi perubahan iklim sewajarnya mengalir ke seluruh dunia. Pasalnya, proyek-proyek yang bersifat berkelanjutan yang memberikan dampak ekonomi positif di suatu kawasan pastinya akan turut berdampak ke kawasan lainnya. ”Sasaran kami adalah pada 2025 sebanyak 50 persen aktivitas pembiayaan kami diarahkan untuk proyek berkelanjutan sehingga pada 2030 kami berharap bisa memobilisasi sumber daya sampai 1 triliun euro untuk proyek berkelanjutan,” kata Vigliotti. Di Indonesia, penyaluran kredit atau pinjaman dengan konsep berkelanjutan atau biasa disebut kredit hijau masih sulit diakses oleh sektor publik. Padahal, perkembangan instrumen keuangan berkelanjutan sebetulnya sudah berkembang sejak 2007. Pembiayaan berkelanjutan merupakan dukungan jasa keuangan untuk mengembangkan ekonomi yang selaras dengan kepentingan sosial dan lingkungan, termasuk untuk proyek-proyek mitigasi perubahan iklim. Perry Warjiyo dalam webinar bertajuk ”Scaling Up The Utilization Of Sustainable Financial Instruments” sebagai rangkaian acara Presidensi G-20 di Indonesia, Jumat, mengungkapkan, perluasan akses pembiayaan berkelanjutan terbentur lambatnya pengembangan metrik data dan layanan verifikasi lembaga keuangan. Untuk memperluas jangkauan pembiayaan hijau, Indonesia menyusun berbagai cara, di antaranya membuat Peta Jalan Keuangan Berkelanjutan 2021-2025 serta mengembangkan taksonomi hijau sebagai basis investasi berkelanjutan. Untuk memenuhi kebutuhan pembangunan berkelanjutan, secara total Indonesia membutuhkan biaya mencapai Rp 67,8 ribu triliun sampai 2030. Sementara berdasarkan data Perhimpunan Bank Nasional (Perbanas), perbankan nasional telah menyalurkan Rp 809,55 triliun untuk pembiayaan ekonomi berkelanjutan.'\n",
    "#text = 'JAKARTA, KOMPAS — Pemerintah serius mewujudkan transformasi energi menuju energi baru dan terbarukan, termasuk penggunaan kendaraan listrik. Pemerintah menargetkan pada 2025 sebanyak 2 juta kendaraan listrik dapat digunakan oleh masyarakat Indonesia. Apresiasi diberikan kepada perusahaan-perusahaan dalam negeri yang berkiprah dari hulu hingga hilir untuk memulai pembangunan ekosistem kendaraan listrik tersebut. ”Pemerintah sangat serius untuk masuk pada energi baru terbarukan, termasuk di dalamnya adalah menuju pada kendaraan listrik. Oleh sebab itu, saya sangat menghargai keberanian perusahaan-perusahaan yang tadi saya sebut para CEO-nya masuk dari hulu sampai hilir untuk memulai membangun ekosistem kendaraan listrik,” ujar Presiden Joko Widodo saat memberikan sambutan pada acara Peluncuran Kolaborasi Pengembangan Ekosistem Kendaraan Listrik yang digelar di Stasiun Pengisian Bahan Bakar untuk Umum (SPBU) MT Haryono, di Jakarta, Selasa (22/2/2022). Pemerintah menargetkan 2 juta unit kendaraan listrik sudah digunakan masyarakat Indonesia pada 2025. ”Dan, selanjutnya kita akan menuju ke pasar-pasar ekspor. Sekali lagi, saya sangat menghargai upaya ini dan kita harapkan nanti pabrik baterainya, baterai listriknya, segera bisa selesai dalam jumlah yang kapasitas besar,” tuturnya. Biro Pers, Media, dan Informasi Sekretariat Presiden merilis bahwa kolaborasi BUMN (badan usaha milik negara) serta swasta tersebut merupakan langkah nyata guna mempercepat terwujudnya ekosistem kendaraan listrik yang terintegrasi di Indonesia. Electrum, perusahaan patungan Gojek dan TBS Energi Utama (TBS), bersama Pertamina, Gogoro, dan Gesits bersinergi untuk mengakselerasi pengembangan ekosistem kendaraan listrik terintegrasi dan terlengkap di Indonesia. ”Kemudian kendaraannya, yang di sini sudah ada Wika Gesits, juga akan ditingkatkan lagi kapasitas produksinya. Mungkin bekerja sama dengan perusahaan dari Taiwan, Gogoro misalnya, sehingga betul-betul ekosistem kendaraan listrik ini benar-benar terbangun dan siap untuk berkompetisi dengan negara-negara lain,” kata Presiden Jokowi. Mantan Gubernur DKI Jakarta itu melihat cara pengisian daya listrik kendaraan dengan peranti yang sudah disiapkan. Proses tersebut tidak memakan waktu lama dan dilakukan dengan mudah. ”Saya kira proses manajemen seperti ini yang diinginkan oleh pemakai-pemakai kendaraan dan itu akan menarik minat semua orang untuk masuk pada kendaraan listrik karena lebih murah dan, yang paling penting, tidak menimbulkan polusi,” kata Presiden Jokowi.  Pemerintah mengharapkan, sesuai target, emisi karbon pada tahun 2030 berada di angka 29 persen dan pada tahun 2060 berada di kondisi emisi nol (net zero carbon). ”Oleh sebab itu dengan didukung oleh ekosistem kendaraan listrik dari hulu sampai hilir, kita harapkan negara kita, Indonesia, nanti betul-betul mampu merajai, menjadi produsen dari kendaraan listrik,” katanya. Direktur Utama PT Pertamina (Persero) Nicke Widyawati pada sesi konferensi pers mengatakan, program kerja sama yang diluncurkan Presiden Jokowi kali ini merupakan salah satu program transisi energi yang dilakukan Pertamina. ”(Hal ini) Karena kita menyadari bahwa program transisi ini akan berhasil kalau semuanya terintegrasi, jadi suatu ekosistem, tidak bisa hanya menyediakan sebagian-sebagian,” katanya. Integrasi hulu-hilir Kerja sama tersebut saling melengkapi. Terkait pengembangan kendaraan listrik, Pertamina merencanakan membangun dari hulu ke hilir, yakni mulai ekosistem industri baterai sampai infrastruktur pengisian baterai, dan nantinya ada pendaurulangan. ”Sehingga, dalam satu value chain (rantai nilai) secara terintegrasi, Pertamina memberikan komitmen untuk mendorong target-target yang tadi disebut Pak Presiden,” ujar Nicke. Nicke menuturkan, Pertamina menyadari bahwa hal yang harus dikembangkan bukan semata kendaraan listrik, melainkan juga energi. Energi listrik yang digunakan tersebut harus pula merupakan energi hijau. Oleh karena itu, Pertamina telah membangun green energy station, yakni SPBU yang listriknya didapat dari pembangkit listrik tenaga surya. Sejauh ini sudah ada 143 SPBU yang merupakan stasiun energi hijau. ”Tahun ini akan kami tambah menjadi 1.000 (SPBU). Dan, itu nanti targetnya semuanya akan dilistriki dari (energi hijau). Jadi, bukan hanya baterainya saja yang membuat lingkungan menjadi lebih hijau, tapi listrik untuk ngecas (mengisi daya) pun dari energi hijau,” kata Nicke. Direktur Electrum dan Co-founder serta CEO Gojek Kevin Aluwi menuturkan, pihaknya sudah menjalankan proyek percontohan selama beberapa bulan. ”Sudah ada beberapa ratus unit motor listrik yang sudah dipakai oleh mitra-mitra driver Gojek. Jadi, sekarang kami sudah mendapat masukan dari masyarakat, baik mitra driver maupun konsumen,” katanya. Kevin menuturkan, sekarang konsumen sudah ada beberapa yang dijemput dengan motor listrik. ”Dan, kami lumayan bersyukur bahwa responsnya positif sekali. Dari sudut pandang mitra driver yang (mengatakan) tarikannya mulus (dan) jangkauan kendaraan lumayan jauh. Dan, tentunya dari sudut pandang biaya kami juga senang karena lebih murah. Untuk driver kami, biaya operasional turun sekitar 30 persen, di mana per bulan bisa lebih murah sekitar Rp 500.000 sampai Rp 700.000,” ujarnya. Adapun dari sudut pandang konsumen, Kevin menuturkan, penilaian di akhir perjalanan menunjukkan bahwa orderan dari motor listrik sangat positif. ”Banyak masyarakat yang sebenarnya sudah menunggu kesempatan untuk menggunakan motor listrik dan setelah mereka mencoba, kayaknya antusiasme untuk membeli motor listrik juga ada,” katanya. CEO Electrum Pandu Sjahrir mengatakan, kolaborasi tidak dapat dibangun sendirian. ”Semua harus menjadi satu. Jadi, tadi tiga yang kami sampaikan kepada Bapak Presiden. Satu, dari sisi manufaktur, pembangunan kendaraan bermotornya. (Lalu) Juga pembangunan untuk baterainya. Dan, salah satunya juga hilirisasi, bagaimana kita bisa memanfaatkan reserve (cadangan) nikel terbesar di dunia untuk benefit kita sebesar-besarnya,” katanya. Sementara itu, Direktur Utama PT Wika Industri Manufaktur (WIMA) M Samyarto menuturkan, sudah sejak beberapa waktu lalu pihaknya bekerja sama dengan Gojek untuk pengembangan kendaraan listrik yang cocok. Kendaraan listrik diharapkan dapat dimanfaatkan secara maksimal oleh pengemudi Gojek dan masyarakat Indonesia.'\n",
    "text = \"Presiden Prabowo Subianto resmi meluncurkan Badan Pengelola Investasi Daya Anagata Nusantara (Danantara) di Halaman Istana Kepresidenan Jakarta, pada Senin, 24 Februari 2025. Peluncuran Danantara ini menandai langkah strategis pemerintah dalam mengelola investasi nasional guna mendukung pertumbuhan investasi yang berkelanjutan. “Peluncuran Danantara Indonesia hari ini memiliki arti yang sangat penting karena Danantara Indonesia bukan sekadar badan pengelola investasi melainkan harus menjadi instrumen pembangunan nasional yang akan mengoptimalkan cara kita mengelola kekayaan Indonesia,” ucap Presiden. Tidak hanya sebuah dana investasi, Presiden mengatakan bahwa pengelolaan Danantara diharapkan dapat mengubah cara pengelolaan kekayaan bangsa demi kesejahteraan rakyat. Menurut Presiden, pemerintah telah membuktikan komitmennya dengan disiplin dan tata keuangan yang bertanggung jawab. “Kita telah membuktikan komitmen dalam mengelola kekayaan negara dengan disiplin keuangan yang ketat dan tata kelola yang bertanggungjawab dalam 100 hari pertama pemerintah yang saya pimpin, kami berhasil mengamankan lebh dari 300 triliun rupiah, hampir 20 miliar dolar dalam bentuk tabungan negara,” katanya. Dana tersebut kemudian akan dikelola Danantara dan diinvestasikan dalam proyek nasional industrialisasi dan hilirisasi. Presiden Prabowo meyakini proyek-proyek tersebut memberikan dampak dalam menciptakan nilai tambah yang signifikan untuk Indonesia. “Proyek-poroyek yang berdampak tinggi yang akan menciptakan nilai tambah yang signifikan untuk bangsa kita, menciptakan manfaat nyata, lapangan kerja yang bermutu, dan kemakmuran yang berjangka panjang bagi masyarakat Indonesia,” tambahnya. Pada kesempatan tersebut, Presiden menyampaikan apresiasi atas kerja keras seluruh pihak dalam mewujudkan Danantara Indonesia. Menurutnya, ini merupakan tonggak sejarah dalam perjalanan Indonesia menuju kemandirian ekonomi, ketahanan, dan kesejahteraan. “Dengan Daya Anagata Nusantara, yang artinya adalah energi kekuatan masa depan bagi nusantara, kekuatan energi masa depan bagi Indonesia,” ucap Presiden. Kepala Negara mengingatkan agar Danantara Indonesia dapat dikelola dengan hati-hati dan transparan. Dengan peluncuran ini, Presiden meyakini Indonesia dapat terus melangkah maju dan lebih kuat serta bersatu dari sebelumnya. “Dengan keyakinan ini, mari kita bergerak bersama, bersatu dalam tujuan, teguh dalam tekad, dan yakin bahwa pencapaian terbesar Indonesia masih ada di depan kita. Saudara-saudara sekalian, percayalah Indonesia akan capai cita-citanya, kita akan menjadi negara maju, negara makmur, negara terhormat,” tandasnya. Turut hadir dalam acara tersebut yakni Wakil Presiden Gibran Rakabuming, Presiden ke-6 Republik Indonesia (RI) Susilo Bambang Yudhoyono, Presiden ke-7 RI Joko Widodo, Wakil Presiden ke-10 & 12 RI Jusuf Kalla, Wakil Presiden ke-11 RI Boediono, dan Wakil Presiden ke-13 RI Ma’ruf Amin. Selain itu, hadir pula para pimpinan lembaga negara, para menteri kabinet Merah Putih, para duta besar negara sahabat, para Ketua Umum Partai Politik, para pemimpin redaksi media nasional, dan para tokoh agama serta tokoh masyarakat.\""
   ]
  },
  {
   "cell_type": "markdown",
   "id": "16fc0e46-120b-4ca1-9c55-b2ede3cfb928",
   "metadata": {},
   "source": [
    "### Extract the public figure's statements atribution using the model"
   ]
  },
  {
   "cell_type": "code",
   "execution_count": 4,
   "id": "39498efd-eeb4-463e-8cc9-5aad6e1e8992",
   "metadata": {},
   "outputs": [],
   "source": [
    "doc = nlp(text)"
   ]
  },
  {
   "cell_type": "code",
   "execution_count": 5,
   "id": "855b0bce-3f40-4edf-8a23-3ef7de317bd5",
   "metadata": {},
   "outputs": [],
   "source": [
    "colors = { \"PERSON\": \"#ffff00\",\n",
    "    \"PERSONCOREF\": \"#9932cc\",\n",
    "    \"ROLE\": \"#ff00ff\",\n",
    "    \"AFFILIATION\": \"#00ff7f\",\n",
    "    \"CUE\": \"#ff6347\",\n",
    "    \"CUECOREF\": \"#00bfff\",\n",
    "    \"STATEMENT\": \"#ffa500\",\n",
    "    \"ISSUE\": \"#7fffd4\",\n",
    "    \"DATETIME\": \"#ffdab9\",\n",
    "    \"LOCATION\": \"#adff2f\",\n",
    "    \"EVENT\": \"#d2b48c\"\n",
    "         }\n",
    "options = { \"ents\": [\"PERSON\",\"PERSONCOREF\",\"ROLE\",\"AFFILIATION\",\"CUE\",\"CUECOREF\",\"STATEMENT\",\"ISSUE\",\"DATETIME\",\"LOCATION\",\"EVENT\"],\"colors\":colors}"
   ]
  },
  {
   "cell_type": "markdown",
   "id": "3eafdac2-fdec-4d99-b6af-436bda8a8285",
   "metadata": {},
   "source": [
    "### Display the public figure's statement attribution results"
   ]
  },
  {
   "cell_type": "code",
   "execution_count": null,
   "id": "fdb7514d-c8d5-4c8b-8b83-9dee41d063b6",
   "metadata": {},
   "outputs": [
    {
     "name": "stderr",
     "output_type": "stream",
     "text": [
      "/usr/local/lib/python3.7/site-packages/spacy/displacy/__init__.py:94: UserWarning: [W011] It looks like you're calling displacy.serve from within a Jupyter notebook or a similar environment. This likely means you're already running a local web server, so there's no need to make displaCy start another one. Instead, you should be able to replace displacy.serve with displacy.render to show the visualization.\n",
      "  warnings.warn(Warnings.W011)\n"
     ]
    },
    {
     "data": {
      "text/html": [
       "<span class=\"tex2jax_ignore\"><!DOCTYPE html>\n",
       "<html lang=\"id\">\n",
       "    <head>\n",
       "        <title>displaCy</title>\n",
       "    </head>\n",
       "\n",
       "    <body style=\"font-size: 16px; font-family: -apple-system, BlinkMacSystemFont, 'Segoe UI', Helvetica, Arial, sans-serif, 'Apple Color Emoji', 'Segoe UI Emoji', 'Segoe UI Symbol'; padding: 4rem 2rem; direction: ltr\">\n",
       "<figure style=\"margin-bottom: 6rem\">\n",
       "<div class=\"entities\" style=\"line-height: 2.5; direction: ltr\">\n",
       "<mark class=\"entity\" style=\"background: #7fffd4; padding: 0.45em 0.6em; margin: 0 0.25em; line-height: 1; border-radius: 0.35em;\">\n",
       "    Presiden Prabowo Subianto resmi meluncurkan Badan Pengelola Investasi Daya Anagata Nusantara (Danantara) di Halaman Istana Kepresidenan Jakarta, pada Senin, 24 Februari 2025\n",
       "    <span style=\"font-size: 0.8em; font-weight: bold; line-height: 1; border-radius: 0.35em; text-transform: uppercase; vertical-align: middle; margin-left: 0.5rem\">ISSUE</span>\n",
       "</mark>\n",
       ". Peluncuran Danantara ini menandai langkah strategis pemerintah dalam mengelola investasi nasional guna mendukung pertumbuhan investasi yang berkelanjutan. \n",
       "<mark class=\"entity\" style=\"background: #ffa500; padding: 0.45em 0.6em; margin: 0 0.25em; line-height: 1; border-radius: 0.35em;\">\n",
       "    “Peluncuran Danantara Indonesia hari ini memiliki arti yang sangat penting karena Danantara Indonesia bukan sekadar badan pengelola investasi melainkan harus menjadi instrumen pembangunan nasional yang akan mengoptimalkan cara kita mengelola kekayaan Indonesia,”\n",
       "    <span style=\"font-size: 0.8em; font-weight: bold; line-height: 1; border-radius: 0.35em; text-transform: uppercase; vertical-align: middle; margin-left: 0.5rem\">STATEMENT</span>\n",
       "</mark>\n",
       " \n",
       "<mark class=\"entity\" style=\"background: #ff6347; padding: 0.45em 0.6em; margin: 0 0.25em; line-height: 1; border-radius: 0.35em;\">\n",
       "    ucap\n",
       "    <span style=\"font-size: 0.8em; font-weight: bold; line-height: 1; border-radius: 0.35em; text-transform: uppercase; vertical-align: middle; margin-left: 0.5rem\">CUE</span>\n",
       "</mark>\n",
       " \n",
       "<mark class=\"entity\" style=\"background: #9932cc; padding: 0.45em 0.6em; margin: 0 0.25em; line-height: 1; border-radius: 0.35em;\">\n",
       "    Presiden\n",
       "    <span style=\"font-size: 0.8em; font-weight: bold; line-height: 1; border-radius: 0.35em; text-transform: uppercase; vertical-align: middle; margin-left: 0.5rem\">PERSONCOREF</span>\n",
       "</mark>\n",
       ". Tidak hanya sebuah dana investasi, Presiden mengatakan bahwa pengelolaan Danantara diharapkan dapat mengubah cara pengelolaan kekayaan bangsa demi kesejahteraan rakyat. Menurut Presiden, pemerintah telah membuktikan komitmennya dengan disiplin dan tata keuangan yang bertanggung jawab. \n",
       "<mark class=\"entity\" style=\"background: #ffa500; padding: 0.45em 0.6em; margin: 0 0.25em; line-height: 1; border-radius: 0.35em;\">\n",
       "    “Kita telah membuktikan komitmen dalam mengelola kekayaan negara dengan disiplin keuangan yang ketat dan tata kelola yang bertanggungjawab dalam 100 hari pertama pemerintah yang saya pimpin, kami berhasil mengamankan lebh dari 300 triliun rupiah, hampir 20 miliar dolar dalam bentuk tabungan negara,”\n",
       "    <span style=\"font-size: 0.8em; font-weight: bold; line-height: 1; border-radius: 0.35em; text-transform: uppercase; vertical-align: middle; margin-left: 0.5rem\">STATEMENT</span>\n",
       "</mark>\n",
       " \n",
       "<mark class=\"entity\" style=\"background: #00bfff; padding: 0.45em 0.6em; margin: 0 0.25em; line-height: 1; border-radius: 0.35em;\">\n",
       "    katanya\n",
       "    <span style=\"font-size: 0.8em; font-weight: bold; line-height: 1; border-radius: 0.35em; text-transform: uppercase; vertical-align: middle; margin-left: 0.5rem\">CUECOREF</span>\n",
       "</mark>\n",
       ". Dana tersebut kemudian akan dikelola Danantara dan diinvestasikan dalam proyek nasional industrialisasi dan hilirisasi. Presiden Prabowo meyakini proyek-proyek tersebut memberikan dampak dalam menciptakan nilai tambah yang signifikan untuk Indonesia. \n",
       "<mark class=\"entity\" style=\"background: #ffa500; padding: 0.45em 0.6em; margin: 0 0.25em; line-height: 1; border-radius: 0.35em;\">\n",
       "    “Proyek-poroyek yang berdampak tinggi yang akan menciptakan nilai tambah yang signifikan untuk bangsa kita, menciptakan manfaat nyata, lapangan kerja yang bermutu, dan kemakmuran yang berjangka panjang bagi masyarakat Indonesia,”\n",
       "    <span style=\"font-size: 0.8em; font-weight: bold; line-height: 1; border-radius: 0.35em; text-transform: uppercase; vertical-align: middle; margin-left: 0.5rem\">STATEMENT</span>\n",
       "</mark>\n",
       " \n",
       "<mark class=\"entity\" style=\"background: #00bfff; padding: 0.45em 0.6em; margin: 0 0.25em; line-height: 1; border-radius: 0.35em;\">\n",
       "    tambahnya\n",
       "    <span style=\"font-size: 0.8em; font-weight: bold; line-height: 1; border-radius: 0.35em; text-transform: uppercase; vertical-align: middle; margin-left: 0.5rem\">CUECOREF</span>\n",
       "</mark>\n",
       ". Pada kesempatan tersebut, Presiden menyampaikan apresiasi atas kerja keras seluruh pihak dalam mewujudkan Danantara Indonesia. Menurutnya, ini merupakan tonggak sejarah dalam perjalanan Indonesia menuju kemandirian ekonomi, ketahanan, dan kesejahteraan. \n",
       "<mark class=\"entity\" style=\"background: #ffa500; padding: 0.45em 0.6em; margin: 0 0.25em; line-height: 1; border-radius: 0.35em;\">\n",
       "    “Dengan Daya Anagata Nusantara, yang artinya adalah energi kekuatan masa depan bagi nusantara, kekuatan energi masa depan bagi Indonesia,”\n",
       "    <span style=\"font-size: 0.8em; font-weight: bold; line-height: 1; border-radius: 0.35em; text-transform: uppercase; vertical-align: middle; margin-left: 0.5rem\">STATEMENT</span>\n",
       "</mark>\n",
       " \n",
       "<mark class=\"entity\" style=\"background: #ff6347; padding: 0.45em 0.6em; margin: 0 0.25em; line-height: 1; border-radius: 0.35em;\">\n",
       "    ucap\n",
       "    <span style=\"font-size: 0.8em; font-weight: bold; line-height: 1; border-radius: 0.35em; text-transform: uppercase; vertical-align: middle; margin-left: 0.5rem\">CUE</span>\n",
       "</mark>\n",
       " \n",
       "<mark class=\"entity\" style=\"background: #9932cc; padding: 0.45em 0.6em; margin: 0 0.25em; line-height: 1; border-radius: 0.35em;\">\n",
       "    Presiden\n",
       "    <span style=\"font-size: 0.8em; font-weight: bold; line-height: 1; border-radius: 0.35em; text-transform: uppercase; vertical-align: middle; margin-left: 0.5rem\">PERSONCOREF</span>\n",
       "</mark>\n",
       ". \n",
       "<mark class=\"entity\" style=\"background: #ff00ff; padding: 0.45em 0.6em; margin: 0 0.25em; line-height: 1; border-radius: 0.35em;\">\n",
       "    Kepala Negara mengingatkan agar Danantara Indonesia dapat dikelola dengan hati-hati dan transparan\n",
       "    <span style=\"font-size: 0.8em; font-weight: bold; line-height: 1; border-radius: 0.35em; text-transform: uppercase; vertical-align: middle; margin-left: 0.5rem\">ROLE</span>\n",
       "</mark>\n",
       ". Dengan peluncuran ini, Presiden meyakini Indonesia dapat terus melangkah maju dan lebih kuat serta bersatu dari sebelumnya. \n",
       "<mark class=\"entity\" style=\"background: #ffa500; padding: 0.45em 0.6em; margin: 0 0.25em; line-height: 1; border-radius: 0.35em;\">\n",
       "    “Dengan keyakinan ini, mari kita bergerak bersama, bersatu dalam tujuan, teguh dalam tekad, dan yakin bahwa pencapaian terbesar Indonesia masih ada di depan kita. Saudara-saudara sekalian, percayalah Indonesia akan capai cita-citanya, kita akan menjadi negara maju, negara makmur, negara terhormat,”\n",
       "    <span style=\"font-size: 0.8em; font-weight: bold; line-height: 1; border-radius: 0.35em; text-transform: uppercase; vertical-align: middle; margin-left: 0.5rem\">STATEMENT</span>\n",
       "</mark>\n",
       " \n",
       "<mark class=\"entity\" style=\"background: #00bfff; padding: 0.45em 0.6em; margin: 0 0.25em; line-height: 1; border-radius: 0.35em;\">\n",
       "    tandasnya\n",
       "    <span style=\"font-size: 0.8em; font-weight: bold; line-height: 1; border-radius: 0.35em; text-transform: uppercase; vertical-align: middle; margin-left: 0.5rem\">CUECOREF</span>\n",
       "</mark>\n",
       ". Turut hadir dalam acara tersebut yakni \n",
       "<mark class=\"entity\" style=\"background: #ff00ff; padding: 0.45em 0.6em; margin: 0 0.25em; line-height: 1; border-radius: 0.35em;\">\n",
       "    Wakil Presiden\n",
       "    <span style=\"font-size: 0.8em; font-weight: bold; line-height: 1; border-radius: 0.35em; text-transform: uppercase; vertical-align: middle; margin-left: 0.5rem\">ROLE</span>\n",
       "</mark>\n",
       " Gibran Rakabuming, Presiden ke-6 Republik Indonesia (RI) Susilo \n",
       "<mark class=\"entity\" style=\"background: #ffff00; padding: 0.45em 0.6em; margin: 0 0.25em; line-height: 1; border-radius: 0.35em;\">\n",
       "    Bambang Yudhoyono\n",
       "    <span style=\"font-size: 0.8em; font-weight: bold; line-height: 1; border-radius: 0.35em; text-transform: uppercase; vertical-align: middle; margin-left: 0.5rem\">PERSON</span>\n",
       "</mark>\n",
       ", Presiden ke-7 RI Joko Widodo, Wakil Presiden ke-10 &amp; 12 RI Jusuf Kalla, Wakil Presiden ke-11 RI Boediono, dan Wakil Presiden ke-13 RI Ma’ruf Amin. Selain itu, hadir pula para pimpinan lembaga negara, para menteri kabinet Merah Putih, para duta besar negara sahabat, para Ketua Umum Partai Politik, para pemimpin redaksi media nasional, dan para tokoh agama serta tokoh masyarakat.</div>\n",
       "</figure>\n",
       "</body>\n",
       "</html></span>"
      ],
      "text/plain": [
       "<IPython.core.display.HTML object>"
      ]
     },
     "metadata": {},
     "output_type": "display_data"
    },
    {
     "name": "stdout",
     "output_type": "stream",
     "text": [
      "\n",
      "Using the 'ent' visualizer\n",
      "Serving on http://0.0.0.0:5000 ...\n",
      "\n"
     ]
    }
   ],
   "source": [
    "displacy.serve(doc, style=\"ent\",options=options)"
   ]
  },
  {
   "cell_type": "code",
   "execution_count": null,
   "id": "ae5d50af-4969-4e21-b911-3618d823aff3",
   "metadata": {
    "tags": []
   },
   "outputs": [],
   "source": [
    "print(\"X\")"
   ]
  }
 ],
 "metadata": {
  "kernelspec": {
   "display_name": "Python 3",
   "language": "python",
   "name": "python3"
  },
  "language_info": {
   "codemirror_mode": {
    "name": "ipython",
    "version": 3
   },
   "file_extension": ".py",
   "mimetype": "text/x-python",
   "name": "python",
   "nbconvert_exporter": "python",
   "pygments_lexer": "ipython3",
   "version": "3.7.17"
  }
 },
 "nbformat": 4,
 "nbformat_minor": 5
}
