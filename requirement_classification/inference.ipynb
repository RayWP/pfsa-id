{
 "cells": [
  {
   "cell_type": "code",
   "execution_count": 3,
   "id": "348ff693-8dd8-4c37-abec-cd430c0d79c3",
   "metadata": {},
   "outputs": [
    {
     "name": "stderr",
     "output_type": "stream",
     "text": [
      "/usr/local/lib/python3.11/site-packages/transformers/convert_slow_tokenizer.py:561: UserWarning: The sentencepiece tokenizer that you are converting to a fast tokenizer uses the byte fallback option which is not implemented in the fast tokenizers. In practice this means that the fast version of the tokenizer can produce unknown tokens whereas the sentencepiece version would have converted these unknown tokens into a sequence of byte tokens matching the original piece of text.\n",
      "  warnings.warn(\n"
     ]
    },
    {
     "name": "stdout",
     "output_type": "stream",
     "text": [
      "saved\n"
     ]
    }
   ],
   "source": [
    "import torch\n",
    "from transformers import AutoConfig, AutoTokenizer, AutoModelForSequenceClassification, pipeline\n",
    "\n",
    "# === Step 1: Define paths ===\n",
    "base_model = \"microsoft/deberta-v3-large\"         # base HF model\n",
    "bin_path = \"all_model/microsoft-deberta-v3-large_structure_focus_epochs4_kfold5_batch8.bin\"                           # your saved .bin file\n",
    "save_dir = \"all_model/deberta_v3\"                            # where to save Hugging Face-compatible model\n",
    "\n",
    "# === Step 2: Rebuild model with matching config ===\n",
    "config = AutoConfig.from_pretrained(base_model)\n",
    "config.num_labels = 2  # binary classification\n",
    "\n",
    "model = AutoModelForSequenceClassification.from_config(config)\n",
    "state_dict = torch.load(bin_path, map_location=\"cpu\")\n",
    "model.load_state_dict(state_dict)\n",
    "# === Step 3: Save the model in Hugging Face format ===\n",
    "model.save_pretrained(save_dir)\n",
    "# (Optional but recommended) Save tokenizer too\n",
    "tokenizer = AutoTokenizer.from_pretrained(base_model)\n",
    "tokenizer.save_pretrained(save_dir)\n",
    "print(\"saved\")"
   ]
  },
  {
   "cell_type": "code",
   "execution_count": 6,
   "id": "e4669c58-e9e5-4379-b866-1e17d3f4f10c",
   "metadata": {},
   "outputs": [
    {
     "name": "stderr",
     "output_type": "stream",
     "text": [
      "Device set to use cuda:1\n"
     ]
    },
    {
     "name": "stdout",
     "output_type": "stream",
     "text": [
      "\n",
      "Input: when user want to escape, it escape.\n",
      "  False: 0.7711\n",
      "  True: 0.2289\n",
      "  → Prediction: False (Confidence: 0.7711)\n"
     ]
    }
   ],
   "source": [
    "# === Step 4: Load for inference using pipeline ===\n",
    "# === Step 4: Load for inference using pipeline ===\n",
    "clf = pipeline(\n",
    "    \"text-classification\",\n",
    "    model=save_dir,\n",
    "    tokenizer=save_dir,\n",
    "    return_all_scores=True,\n",
    "    device=1  # 👈 Use second GPU (cuda:1)\n",
    ")\n",
    "\n",
    "# === Step 5: Example inference ===\n",
    "texts = [\"when user want to escape, it escape.\"]\n",
    "results = clf(texts)\n",
    "\n",
    "# === Step 6: Print nicely ===\n",
    "label_map = {\"LABEL_0\": \"False\", \"LABEL_1\": \"True\"}\n",
    "\n",
    "for text, scores in zip(texts, results):\n",
    "    pred = max(scores, key=lambda x: x[\"score\"])\n",
    "    print(f\"\\nInput: {text}\")\n",
    "    for s in scores:\n",
    "        print(f\"  {label_map[s['label']]}: {s['score']:.4f}\")\n",
    "    print(f\"  → Prediction: {label_map[pred['label']]} (Confidence: {pred['score']:.4f})\")"
   ]
  },
  {
   "cell_type": "code",
   "execution_count": null,
   "id": "d430fd30-e963-4a9b-9889-3c5c8c4fc2ae",
   "metadata": {},
   "outputs": [],
   "source": []
  }
 ],
 "metadata": {
  "kernelspec": {
   "display_name": "Python 3 (ipykernel)",
   "language": "python",
   "name": "python3"
  },
  "language_info": {
   "codemirror_mode": {
    "name": "ipython",
    "version": 3
   },
   "file_extension": ".py",
   "mimetype": "text/x-python",
   "name": "python",
   "nbconvert_exporter": "python",
   "pygments_lexer": "ipython3",
   "version": "3.11.11"
  }
 },
 "nbformat": 4,
 "nbformat_minor": 5
}
