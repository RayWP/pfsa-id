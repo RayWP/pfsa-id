{
 "cells": [
  {
   "cell_type": "code",
   "execution_count": null,
   "id": "initial_id",
   "metadata": {},
   "outputs": [],
   "source": [
    "document = \"\"\"The processes we want to describe are recording the product on the shelf, the customer collecting product, and payment after choosing items; in this part, we have two types of customers: Normal and Extra-customer.\n",
    "\n",
    "Before purchasing products from different continents, the supermarket puts on store according to or following on type of each product. They use physical inventory where every product purchased is recorded by using the form of stock. When the chief of the store wants to check the number on the store, they take all forms for each product and then count products to verify if the number written on the form matches the number of products stored.\n",
    "\n",
    "After purchasing a new product or getting the outcome from a supplier, those products are recorded in stock. For selling, Products are recorded on the shelf of supermarkets. Others to the cold chamber (cheese, meat) or in the fridge and freezer sometimes come from the cold chamber toward the freezer before being recorded to the shelf, checking the product's expiration date.\n",
    "\n",
    "All products are recorded according to the group of each product, the group of alimentation products, the group of pastry/bakery, and butcher products. After recording all products on stock and shelf, it is necessary to record on the cashier's machine where recordable depending on the group. There is a person loaded that action in the supermarket who controller when the shelf is taken care of or occupied of products.\n",
    "\n",
    "When clients or customers enter the supermarket, saw the product wanted in a different group of products, and some employees can help us or orient clients/customers by showing where products are placed. After choosing and selecting products, one can take a basket for storing goods; before going, check the price, expiration date, and ingredients, then go to the cashier. Arriving there, they deposit around him; the cashier takes one by one entering on machine according also on a group of the product when finished, gives us to the controller to make the product on free packing. When the cashier finishes those transactions, they calculate and show the client/customer on-screen of the machine and tell the customer total of money they can pay, and give us an invoice when the customer or client needed.\n",
    "\n",
    "The delivery process begins when the customer first interacts with the service organization and ends when the delivery of the desired service is completed and the customer exits the process. At the supermarket, after getting the order from the chief of order, the bakery and pastry agent prepare the goods and quantities of the order. When finished, they package according to each category of product. Then the chief of order checks and counts if there is no mistake; when the number of orders written to the proforma invoice is well prepared, they give the order for put out before arriving to the customer. Some controllers check again to see if there is some product stolen. After those actions, customers get their order of items ordered; after delivery of that product, the stump and original of the proforma invoice are transferred to the office of the general director.\n",
    "\n",
    "After selecting the product and calculating the total money, the payment to the customer is made in the following ways:\n",
    "Cash: where the customer presents cash to the cashier or where the cashier receives money, and the customer gets an invoice. \n",
    "Cheques: where customers present checks to the cashier for extra-person, not every customer, for example, MINISANTE, CNLS, Rwanda Revenue Authority, and Top Tower Hotel\n",
    "\"\"\"\n"
   ]
  },
  {
   "cell_type": "markdown",
   "id": "7ee2b92ebdd13c16",
   "metadata": {},
   "source": [
    "# Data Preprocessing"
   ]
  },
  {
   "cell_type": "code",
   "execution_count": null,
   "id": "6f445d7f25577abb",
   "metadata": {},
   "outputs": [],
   "source": [
    "# remove newlines, and extra spaces\n",
    "import re\n",
    "\n",
    "document = re.sub(r'\\n', ' ', document)\n",
    "document = re.sub(r'\\s+', ' ', document)\n",
    "\n",
    "document"
   ]
  },
  {
   "cell_type": "code",
   "execution_count": null,
   "id": "23f5dc38ded6d463",
   "metadata": {},
   "outputs": [],
   "source": [
    "import pandas as pd\n",
    "\n",
    "#separate document by sentence into a df\n",
    "document_sentence = pd.DataFrame(document.split('.'), columns=['sentence'])\n",
    "document_sentence"
   ]
  },
  {
   "cell_type": "markdown",
   "id": "40fc28ae74e7906f",
   "metadata": {},
   "source": [
    "# Categorization of data"
   ]
  },
  {
   "cell_type": "code",
   "execution_count": null,
   "id": "9fe615579695ddb6",
   "metadata": {},
   "outputs": [],
   "source": [
    "# taking whether this is useful for Class Diagram or not\n",
    "document_sentence['useful'] = 0\n",
    "\n",
    "import os\n",
    "from tqdm import tqdm\n",
    "import time\n",
    "from openai import AzureOpenAI\n",
    "from dotenv import load_dotenv\n",
    "\n",
    "load_dotenv()\n",
    "\n",
    "endpoint = os.getenv(\"AZURE_OPENAI_ENDPOINT_URL_1\", \"\")\n",
    "deployment = os.getenv(\"AZURE_OPENAI_DEPLOYMENT_NAME_1\", \"\")\n",
    "subscription_key = os.getenv(\"AZURE_OPENAI_API_KEY_1\", \"\")\n",
    "api_version = os.getenv(\"AZURE_OPENAI_API_VERSION_1\")\n",
    "\n",
    "print(endpoint)\n",
    "print(deployment)\n",
    "print(subscription_key)\n",
    "print(api_version)\n",
    "\n",
    "# Initialize Azure OpenAI Service client with key-based authentication    \n",
    "client = AzureOpenAI(\n",
    "    azure_endpoint=endpoint,\n",
    "    api_key=subscription_key,\n",
    "    api_version=api_version,\n",
    ")\n",
    "\n",
    "\n"
   ]
  },
  {
   "cell_type": "code",
   "execution_count": null,
   "id": "10a3b9b5414df304",
   "metadata": {},
   "outputs": [],
   "source": [
    "print(\"Running labelling\")\n",
    "for index, row in tqdm(document_sentence.iterrows(), total=len(document_sentence)):\n",
    "    chat_prompt = [{\n",
    "        \"role\": \"system\",\n",
    "        \"content\": [\n",
    "            {\n",
    "                \"type\": \"text\",\n",
    "                \"text\": \"You are an AI Model that help to classify whether a sentence can be used to support information to create Class Diagram or Use Case Diagram or Activity Diagram\\n\\nBelow are given 5 sentences and whether it is useful for any of the diagram\\n1. \\\"AP : As a case progresses , I need to record all the individuals and organizations that Verdict: take part in the case activities and the specific role they play .\\\"\\nUseful for Class Diagram, Useful for Use Case Diagram, Useful for Activity Diagram\\n\\n2. \\\"Unless you are a celebrity or a good friend of Romano you will need a reservation .\\\"\\nVerdict: Useful for Class Diagram, Useful for Use Case Diagram, Not Useful for Activity Diagram\\n\\n3. \\\"Therefore , there can be overlapping table reservations .\\\"\\nVerdict: Useful for Class Diagram, Not Useful for Use Case Diagram, Not Useful for Activity Diagram\\n\\n4. \\\"These samples are sometimes sub - divided and distributed to multiple research teams or labs for different specialized observations .\\\"\\nVerdict: Not Useful for Class Diagram, Useful for Use Case Diagram, Useful for Activity Diagram\\n\\n5. \\\"When the reservation party arrives at Romano 's the reservation is assigned to one waiter .\\\"\\nVerdict: Useful for Class Diagram, Useful for Use Case Diagram, Not Useful for Activity Diagram\\n\\n6. \\\"Yes , we do have customers rent two or more vehicles at the same time .\\\"\\nVerdict: Useful for Class Diagram, Useful for Use Case Diagram, Not Useful for Activity Diagram\\n\\n7. \\\"Geological samples are retrieved from the field and then processed in the laboratory to determine various properties , including chemistry , mineralogy , age , and petrophysical properties like density , porosity , permeability .\\\"\\nVerdict: Useful for Class Diagram, Not Useful for Use Case Diagram, Useful for Activity Diagram\\n\\n8. \\\"For a hygienist 's appointment , preparation could be as simple as seating the patient in dental chair and putting a bib around his or her neck .\\\"\\nVerdict: Not Useful for Class Diagram, Not Useful for Use Case Diagram, Useful for Activity Diagram\\n\\n9. \\\"AP : Actually , that is a constant source of confusion and pain .\\\"\\nVerdict: Not Useful for Class Diagram, Not Useful for Use Case Diagram, Not Useful for Activity Diagram\\n\\n10. \\\"Romano tends to overbook tables .\\\"\\nVerdict: Not Useful for Class Diagram, Useful for Use Case Diagram, Not Useful for Activity Diagram\\n\\nUser will put a sentence and decide whether it will be useful for any of the category as an example output like this [Useful Class, Useful Use Case, Not Useful Activity]\\n\\n\\n\"\n",
    "            }\n",
    "        ]\n",
    "    }, {\n",
    "        \"role\": \"user\",\n",
    "        \"content\": [\n",
    "            {\n",
    "                \"type\": \"text\",\n",
    "                \"text\": row['sentence']\n",
    "            }\n",
    "        ]\n",
    "    }]\n",
    "\n",
    "    if index % 30 == 0 and index != 0:\n",
    "        time.sleep(60)\n",
    "\n",
    "    # Generate the completion  \n",
    "    completion = client.chat.completions.create(\n",
    "        model=deployment,\n",
    "        messages=chat_prompt,\n",
    "        max_tokens=800,\n",
    "        temperature=0.7,\n",
    "        top_p=0.95,\n",
    "        frequency_penalty=0,\n",
    "        presence_penalty=0,\n",
    "        stop=None,\n",
    "        stream=False\n",
    "    )\n",
    "    result = completion.choices[0].message.content\n",
    "    document_sentence.at[index, 'verdict'] = result\n",
    "    if \"Useful Class\" in result and \"Not Useful Class\" not in result:\n",
    "        document_sentence.at[index, 'useful'] = 1\n",
    "\n",
    "document_sentence.to_csv(\"checkpoint_document_sentence_class.csv\")"
   ]
  },
  {
   "cell_type": "code",
   "execution_count": null,
   "id": "52a2d481e2dec5a6",
   "metadata": {},
   "outputs": [],
   "source": [
    "# read from checkpoint_document_sentence_class.csv\n",
    "import pandas as pd\n",
    "document_sentence = pd.read_csv(\"checkpoint_document_sentence_class.csv\")\n",
    "sentence_class_diagram_only = document_sentence[document_sentence['useful'] == 1]\n",
    "sentence_class_diagram_only"
   ]
  },
  {
   "cell_type": "markdown",
   "id": "f00ba494f23ed829",
   "metadata": {},
   "source": [
    "# Class Diagram Extraction\n",
    "\n"
   ]
  },
  {
   "cell_type": "code",
   "execution_count": null,
   "id": "3f953310-89be-44c7-84c7-f409dc1e9b49",
   "metadata": {},
   "outputs": [],
   "source": [
    "# combine all sentences to a single document\n",
    "document_class = ' '.join(sentence_class_diagram_only['sentence'].tolist())\n",
    "document_class"
   ]
  },
  {
   "cell_type": "code",
   "execution_count": null,
   "id": "7b447361-c8ce-4234-9667-fdac774f80ed",
   "metadata": {
    "ExecuteTime": {
     "end_time": "2025-03-23T12:57:12.141810600Z",
     "start_time": "2025-03-23T12:57:07.644022Z"
    }
   },
   "outputs": [],
   "source": [
    "from transformers import pipeline\n",
    "\n",
    "# Load Hugging Face pipeline\n",
    "model_name = \"../microsoft/deberta-v3-large-4-epoch-8-bs\"\n",
    "ner_pipeline = pipeline(\"ner\", model=model_name, aggregation_strategy=\"simple\")\n",
    "\n",
    "text = document_class\n",
    "entities = ner_pipeline(text)\n",
    "entities"
   ]
  },
  {
   "cell_type": "markdown",
   "id": "6225e468af991cce",
   "metadata": {},
   "source": [
    "# Visualize\n"
   ]
  },
  {
   "cell_type": "code",
   "execution_count": null,
   "id": "495815ee0f0036dd",
   "metadata": {},
   "outputs": [],
   "source": [
    "colors = {\n",
    "    \"CLASS\": \"#ffff00\",\n",
    "    \"ATTR\": \"#9932cc\",\n",
    "}\n",
    "options = {\"ents\": [\"CLASS\", \"ATTR\"], \"colors\": colors}\n",
    "# Convert Hugging Face output to spaCy format\n",
    "from spacy import displacy\n",
    "\n",
    "spacy_ents = {\n",
    "    \"text\": text,\n",
    "    \"ents\": [\n",
    "        {\"start\": ent[\"start\"], \"end\": ent[\"end\"], \"label\": ent[\"entity_group\"]}\n",
    "        for ent in entities\n",
    "    ],\n",
    "    \"title\": \"Named Entity Recognition\",\n",
    "}\n",
    "\n",
    "# Render the visualization\n",
    "displacy.render(spacy_ents, style=\"ent\", manual=True, jupyter=True, options = options)"
   ]
  },
  {
   "cell_type": "markdown",
   "id": "ba7cb5d7-7b73-45eb-9066-5a17394e55c4",
   "metadata": {},
   "source": [
    "# Group Class and Attributes"
   ]
  },
  {
   "cell_type": "code",
   "execution_count": null,
   "id": "c46f7dec-40f3-40ea-b93f-a683e684f94a",
   "metadata": {},
   "outputs": [],
   "source": [
    "from collections import defaultdict\n",
    "\n",
    "# Given entity list\n",
    "entities_to_group = entities\n",
    "\n",
    "# Initialize dictionary\n",
    "summary = {\n",
    "    \"class\": defaultdict(int),\n",
    "    \"attr\": defaultdict(int)\n",
    "}\n",
    "\n",
    "# Process entities\n",
    "for ent in entities_to_group:\n",
    "    entity_type = ent[\"entity_group\"]\n",
    "    word = ent[\"word\"]\n",
    "    \n",
    "    # Store counts based on entity type\n",
    "    if entity_type in summary:\n",
    "        summary[entity_type][word] += 1\n",
    "\n",
    "# Convert defaultdict to normal dict\n",
    "summary = {key: list(value.keys()) for key, value in summary.items()}\n",
    "\n",
    "# Format output\n",
    "summary_string = f\"class: {summary['class']}, attribute: {summary['attr']}, description: {document_class}\"\n",
    "\n",
    "print(summary_string)"
   ]
  },
  {
   "cell_type": "code",
   "execution_count": null,
   "id": "62a99f86-2bff-4099-b7c9-f4177e5300ed",
   "metadata": {},
   "outputs": [],
   "source": [
    "chat_prompt = [\n",
    "    {\n",
    "        \"role\": \"system\",\n",
    "        \"content\": [\n",
    "            {\n",
    "                \"type\": \"text\",\n",
    "                \"text\": \"You will be given a JSON of class names, attributes, and a system description. Your task is to generate plantuml script containing classes, attributes, and relationships according to the system description. Strictly produce only plantuml script\"\n",
    "            }\n",
    "        ]\n",
    "    },\n",
    "    {\n",
    "        \"role\": \"user\",\n",
    "        \"content\": [\n",
    "            {\n",
    "                \"type\": \"text\",\n",
    "                \"text\": summary_string\n",
    "            }\n",
    "        ]\n",
    "    }\n",
    "]\n",
    "\n",
    "# Generate the completion  \n",
    "completion = client.chat.completions.create(\n",
    "    model=deployment,\n",
    "    messages=chat_prompt,\n",
    "    max_tokens=800,\n",
    "    temperature=0,\n",
    "    top_p=0.95,\n",
    "    frequency_penalty=0,\n",
    "    presence_penalty=0,\n",
    "    stop=None,\n",
    "    stream=False\n",
    ")\n",
    "result = completion.choices[0].message.content\n",
    "result"
   ]
  },
  {
   "cell_type": "code",
   "execution_count": null,
   "id": "bad3be45-a1a4-4cef-937b-ea64972a21bf",
   "metadata": {},
   "outputs": [],
   "source": [
    "result = result.strip('```plantuml')\n",
    "result = result.strip('```')\n",
    "with open(\"code.txt\", \"w\", encoding=\"utf-8\") as file:\n",
    "    file.write(result)"
   ]
  },
  {
   "cell_type": "code",
   "execution_count": null,
   "id": "c46bec71-d82f-42c3-90aa-c0faf4c68a23",
   "metadata": {},
   "outputs": [],
   "source": []
  }
 ],
 "metadata": {
  "kernelspec": {
   "display_name": "Python 3 (ipykernel)",
   "language": "python",
   "name": "python3"
  },
  "language_info": {
   "codemirror_mode": {
    "name": "ipython",
    "version": 3
   },
   "file_extension": ".py",
   "mimetype": "text/x-python",
   "name": "python",
   "nbconvert_exporter": "python",
   "pygments_lexer": "ipython3",
   "version": "3.11.11"
  }
 },
 "nbformat": 4,
 "nbformat_minor": 5
}
