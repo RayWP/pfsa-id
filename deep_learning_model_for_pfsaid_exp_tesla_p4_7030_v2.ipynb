{
 "cells": [
  {
   "cell_type": "markdown",
   "metadata": {
    "id": "mf73iaRVXL_M"
   },
   "source": [
    "# Extraction And Attribution Of Public Figures Statements For Journalism In Indonesia Using Deep Learning\n",
    "\n",
    "## Objectives\n",
    "To develop a single pipeline model for the extraction and attribution of public figures statement in Indonesian news articles using deep learning algorithms"
   ]
  },
  {
   "cell_type": "markdown",
   "metadata": {},
   "source": [
    "## EXP at Tesla P4 - Weight and Bias with More Data 70-30 V2"
   ]
  },
  {
   "cell_type": "markdown",
   "metadata": {},
   "source": [
    "## Importing Python Library"
   ]
  },
  {
   "cell_type": "code",
   "metadata": {
    "colab": {
     "base_uri": "https://localhost:8080/",
     "height": 476
    },
    "id": "OQ2wlfYDGPiA",
    "outputId": "cf45e908-446f-4cf4-aea4-415b784e6942",
    "ExecuteTime": {
     "end_time": "2025-02-27T08:18:29.834905Z",
     "start_time": "2025-02-27T08:18:29.820425Z"
    }
   },
   "source": [
    "import math\n",
    "import time\n",
    "import gensim\n",
    "import torch\n",
    "import torchcrf\n",
    "import matplotlib.pyplot as plt\n",
    "import random\n",
    "import numpy as np\n",
    "import pandas as pd\n",
    "from torch import nn\n",
    "from torch.optim import Adam\n",
    "from torch.optim.lr_scheduler import ReduceLROnPlateau\n",
    "from torchtext.data import Field, NestedField, BucketIterator\n",
    "from torchtext.datasets import SequenceTaggingDataset\n",
    "from torchtext.vocab import Vocab\n",
    "from collections import Counter\n",
    "from spacy.lang.id import Indonesian\n",
    "from sklearn.metrics import f1_score, classification_report, precision_recall_fscore_support\n",
    "from torch_lr_finder import LRFinder"
   ],
   "outputs": [],
   "execution_count": 53
  },
  {
   "cell_type": "markdown",
   "metadata": {},
   "source": [
    "## Checking GPU Availability"
   ]
  },
  {
   "cell_type": "code",
   "metadata": {
    "colab": {
     "base_uri": "https://localhost:8080/",
     "height": 35
    },
    "id": "EC-uewkVGSrx",
    "outputId": "51fa1257-6624-42fe-fea9-63a54d606b8e",
    "ExecuteTime": {
     "end_time": "2025-02-27T08:18:29.865802Z",
     "start_time": "2025-02-27T08:18:29.848619Z"
    }
   },
   "source": [
    "available_gpu = torch.cuda.is_available()\n",
    "if available_gpu:\n",
    "    print(f\"GPU is available: {torch.cuda.get_device_name(0)}\")\n",
    "    use_device = torch.device(\"cuda\")\n",
    "else:\n",
    "    use_device = torch.device(\"cpu\")"
   ],
   "outputs": [
    {
     "name": "stdout",
     "output_type": "stream",
     "text": [
      "GPU is available: NVIDIA GeForce RTX 3050 Laptop GPU\n"
     ]
    }
   ],
   "execution_count": 54
  },
  {
   "metadata": {
    "ExecuteTime": {
     "end_time": "2025-02-27T08:18:29.896800Z",
     "start_time": "2025-02-27T08:18:29.890799Z"
    }
   },
   "cell_type": "code",
   "source": "use_device",
   "outputs": [
    {
     "data": {
      "text/plain": [
       "device(type='cuda')"
      ]
     },
     "execution_count": 55,
     "metadata": {},
     "output_type": "execute_result"
    }
   ],
   "execution_count": 55
  },
  {
   "cell_type": "markdown",
   "metadata": {},
   "source": [
    "## Weight and Bias Integration to Track the Experiments"
   ]
  },
  {
   "cell_type": "code",
   "metadata": {
    "ExecuteTime": {
     "end_time": "2025-02-27T08:18:29.959855Z",
     "start_time": "2025-02-27T08:18:29.936847Z"
    }
   },
   "source": [
    "import wandb\n",
    "import os\n",
    "import os\n",
    "from dotenv import load_dotenv\n",
    "load_dotenv()\n",
    "\n",
    "wandb_api_key = os.getenv(\"WANDB_API_KEY\", \"\")\n",
    "wandb.login(key = wandb_api_key)"
   ],
   "outputs": [
    {
     "name": "stderr",
     "output_type": "stream",
     "text": [
      "\u001B[34m\u001B[1mwandb\u001B[0m: \u001B[33mWARNING\u001B[0m If you're specifying your api key in code, ensure this code is not shared publically.\n",
      "\u001B[34m\u001B[1mwandb\u001B[0m: \u001B[33mWARNING\u001B[0m Consider setting the WANDB_API_KEY environment variable, or running `wandb login` from the command line.\n",
      "\u001B[34m\u001B[1mwandb\u001B[0m: \u001B[33mWARNING\u001B[0m Calling wandb.login() without arguments from jupyter should prompt you for an api key.\n",
      "\u001B[34m\u001B[1mwandb\u001B[0m: Appending key for api.wandb.ai to your netrc file: C:\\Users\\RAYMOND/.netrc\n"
     ]
    },
    {
     "data": {
      "text/plain": [
       "True"
      ]
     },
     "execution_count": 56,
     "metadata": {},
     "output_type": "execute_result"
    }
   ],
   "execution_count": 56
  },
  {
   "cell_type": "code",
   "metadata": {
    "ExecuteTime": {
     "end_time": "2025-02-27T08:18:36.275660Z",
     "start_time": "2025-02-27T08:18:30.062948Z"
    }
   },
   "source": "wandb.init(project=\"pfsa-id-teslap4-7030-v2\",entity=\"r76127011-wkdl\")",
   "outputs": [
    {
     "data": {
      "text/plain": [
       "<IPython.core.display.HTML object>"
      ],
      "text/html": [
       "\n",
       "                Logging results to <a href=\"https://wandb.com\" target=\"_blank\">Weights & Biases</a> <a href=\"https://docs.wandb.com/integrations/jupyter.html\" target=\"_blank\">(Documentation)</a>.<br/>\n",
       "                Project page: <a href=\"https://app.wandb.ai/r76127011-wkdl/pfsa-id-teslap4-7030-v2\" target=\"_blank\">https://app.wandb.ai/r76127011-wkdl/pfsa-id-teslap4-7030-v2</a><br/>\n",
       "                Run page: <a href=\"https://app.wandb.ai/r76127011-wkdl/pfsa-id-teslap4-7030-v2/runs/5c86n0au\" target=\"_blank\">https://app.wandb.ai/r76127011-wkdl/pfsa-id-teslap4-7030-v2/runs/5c86n0au</a><br/>\n",
       "            "
      ]
     },
     "metadata": {},
     "output_type": "display_data"
    },
    {
     "name": "stderr",
     "output_type": "stream",
     "text": [
      "\u001B[34m\u001B[1mwandb\u001B[0m: Wandb version 0.19.7 is available!  To upgrade, please run:\n",
      "\u001B[34m\u001B[1mwandb\u001B[0m:  $ pip install wandb --upgrade\n"
     ]
    },
    {
     "data": {
      "text/plain": [
       "W&B Run: https://app.wandb.ai/r76127011-wkdl/pfsa-id-teslap4-7030-v2/runs/5c86n0au"
      ]
     },
     "execution_count": 57,
     "metadata": {},
     "output_type": "execute_result"
    }
   ],
   "execution_count": 57
  },
  {
   "cell_type": "code",
   "metadata": {
    "ExecuteTime": {
     "end_time": "2025-02-27T08:18:36.369682Z",
     "start_time": "2025-02-27T08:18:36.352663Z"
    }
   },
   "source": [
    "columns_metrics_train=[\"model\",\"epoch\",\"train_loss\",\"train_p\",\"train_r\",\"train_f1\",\"val_loss\",\"val_p\",\"val_r\",\"val_f1\"]\n",
    "data_table_metrics_train = wandb.Table(columns=columns_metrics_train)"
   ],
   "outputs": [],
   "execution_count": 58
  },
  {
   "cell_type": "code",
   "metadata": {
    "ExecuteTime": {
     "end_time": "2025-02-27T08:18:36.496038Z",
     "start_time": "2025-02-27T08:18:36.482036Z"
    }
   },
   "source": [
    "columns_metrics_test=[\"model\",\"test_loss\",\"test_p\",\"test_r\",\"test_f1\",\"best_epoch\",\"best_val_f1\",\"ellapse_train_times\"]\n",
    "data_table_metrics_test = wandb.Table(columns=columns_metrics_test)"
   ],
   "outputs": [],
   "execution_count": 59
  },
  {
   "cell_type": "markdown",
   "metadata": {},
   "source": [
    "### Setting Random Seed"
   ]
  },
  {
   "cell_type": "code",
   "metadata": {
    "ExecuteTime": {
     "end_time": "2025-02-27T08:18:36.527554Z",
     "start_time": "2025-02-27T08:18:36.514555Z"
    }
   },
   "source": [
    "torch.manual_seed(42)\n",
    "random.seed(42)\n",
    "np.random.seed(42)\n",
    "if available_gpu:\n",
    "    torch.cuda.manual_seed(42)\n",
    "    torch.cuda.manual_seed_all(42)\n",
    "    torch.backends.cudnn.enabled = False "
   ],
   "outputs": [],
   "execution_count": 60
  },
  {
   "cell_type": "markdown",
   "metadata": {
    "id": "iYkejIkFF1Wh"
   },
   "source": [
    "## Corpus Loader\n",
    "\n",
    "Setting the path location of corpus and class declaration that used for loading the corpus and converting the field into vocabulary list."
   ]
  },
  {
   "cell_type": "code",
   "metadata": {
    "id": "uz245NlJV9_7",
    "ExecuteTime": {
     "end_time": "2025-02-27T08:18:36.558559Z",
     "start_time": "2025-02-27T08:18:36.545554Z"
    }
   },
   "source": [
    "import sys\n",
    "DRIVE_ROOT = \"corpus-raymond\"\n",
    "if DRIVE_ROOT not in sys.path:\n",
    "    sys.path.append(DRIVE_ROOT)\n"
   ],
   "outputs": [],
   "execution_count": 61
  },
  {
   "cell_type": "code",
   "metadata": {
    "id": "BkSJCLrVWIc2",
    "ExecuteTime": {
     "end_time": "2025-02-27T08:25:08.419106Z",
     "start_time": "2025-02-27T08:25:08.392936Z"
    }
   },
   "source": [
    "import gensim.downloader as api\n",
    "\n",
    "class Corpus(object):\n",
    "\n",
    "    def __init__(self, input_folder, min_word_freq, batch_size, wv_file=None):\n",
    "        # list all the fields\n",
    "        self.word_field = Field(lower=True)  # [sent len, batch_size]\n",
    "        self.tag_field = Field(\n",
    "            \n",
    "            unk_token=None)  # [sent len, batch_size]\n",
    "        # Character-level input\n",
    "        self.char_nesting_field = Field(tokenize=list)\n",
    "        self.char_field = NestedField(self.char_nesting_field)  # [batch_size, sent len, max len char]\n",
    "        # create dataset using built-in parser from torchtext\n",
    "        self.train_dataset, self.val_dataset, self.test_dataset = SequenceTaggingDataset.splits(\n",
    "            path=input_folder,\n",
    "            train=\"train-full.txt\",\n",
    "            validation=\"validation-full.txt\",\n",
    "            test=\"validation-full.txt\",\n",
    "            fields=(\n",
    "                ((\"word\", \"char\"), (self.word_field, self.char_field)),\n",
    "                (\"tag\", self.tag_field)\n",
    "            )\n",
    "        )\n",
    "        # convert fields to vocabulary list\n",
    "        if wv_file:\n",
    "            self.wv_model = gensim.models.word2vec.Word2Vec.load(wv_file)\n",
    "            self.embedding_dim = self.wv_model.vector_size\n",
    "            word_freq = {word: self.wv_model.wv.vocab[word].count for word in self.wv_model.wv.vocab}\n",
    "            word_counter = Counter(word_freq)\n",
    "            self.word_field.vocab = Vocab(word_counter, min_freq=min_word_freq)\n",
    "            vectors = []\n",
    "            for word, idx in self.word_field.vocab.stoi.items():\n",
    "                if word in self.wv_model.wv.vocab.keys():\n",
    "                    vectors.append(torch.as_tensor(self.wv_model.wv[word].tolist()))\n",
    "                else:\n",
    "                    vectors.append(torch.zeros(self.embedding_dim))\n",
    "            self.word_field.vocab.set_vectors(\n",
    "                stoi=self.word_field.vocab.stoi,\n",
    "                vectors=vectors,\n",
    "                dim=self.embedding_dim\n",
    "            )\n",
    "        else:\n",
    "            self.wv_model = api.load(\"word2vec-google-news-300\")\n",
    "            self.embedding_dim = self.wv_model.vector_size\n",
    "            word_freq = {word: self.wv_model.wv.vocab[word].count for word in self.wv_model.wv.vocab}\n",
    "            word_counter = Counter(word_freq)\n",
    "            self.word_field.vocab = Vocab(word_counter, min_freq=min_word_freq)\n",
    "            vectors = []\n",
    "            for word, idx in self.word_field.vocab.stoi.items():\n",
    "                if word in self.wv_model.wv.vocab.keys():\n",
    "                    vectors.append(torch.as_tensor(self.wv_model.wv[word].tolist()))\n",
    "                else:\n",
    "                    vectors.append(torch.zeros(self.embedding_dim))\n",
    "            self.word_field.vocab.set_vectors(\n",
    "                stoi=self.word_field.vocab.stoi,\n",
    "                vectors=vectors,\n",
    "                dim=self.embedding_dim\n",
    "            )\n",
    "\n",
    "        # build vocab for tag and characters\n",
    "        self.char_field.build_vocab(self.train_dataset.char)\n",
    "        self.tag_field.build_vocab(self.train_dataset.tag)\n",
    "        # create iterator for batch input\n",
    "        self.train_iter, self.val_iter, self.test_iter = BucketIterator.splits(\n",
    "            datasets=(self.train_dataset, self.val_dataset, self.test_dataset),\n",
    "            batch_size=batch_size\n",
    "        )\n",
    "        # prepare padding index to be ignored during model training/evaluation\n",
    "        self.word_pad_idx = self.word_field.vocab.stoi[self.word_field.pad_token]\n",
    "        self.char_pad_idx = self.char_field.vocab.stoi[self.char_field.pad_token]\n",
    "        self.tag_pad_idx = self.tag_field.vocab.stoi[self.tag_field.pad_token]"
   ],
   "outputs": [],
   "execution_count": 72
  },
  {
   "cell_type": "code",
   "metadata": {
    "colab": {
     "base_uri": "https://localhost:8080/"
    },
    "id": "gPN8mgL5WLcd",
    "outputId": "f8677156-3216-45ca-fa47-02fa66c8fd19",
    "jupyter": {
     "is_executing": true
    },
    "ExecuteTime": {
     "start_time": "2025-02-27T08:25:09.204895Z"
    }
   },
   "source": [
    "corpus = Corpus(\n",
    "    input_folder=f\"{DRIVE_ROOT}\",\n",
    "    min_word_freq=3,\n",
    "    batch_size=64\n",
    "    # wv_file=f\"{DRIVE_ROOT}/id.bin\"\n",
    ")\n",
    "print(f\"Train set: {len(corpus.train_dataset)} sentences\")\n",
    "print(f\"Val set: {len(corpus.val_dataset)} sentences\")\n",
    "print(f\"Test set: {len(corpus.test_dataset)} sentences\")"
   ],
   "outputs": [
    {
     "name": "stdout",
     "output_type": "stream",
     "text": [
      "[--------------------------------------------------] 1.4% 23.4/1662.8MB downloaded"
     ]
    },
    {
     "name": "stderr",
     "output_type": "stream",
     "text": [
      "IOPub message rate exceeded.\n",
      "The notebook server will temporarily stop sending output\n",
      "to the client in order to avoid crashing it.\n",
      "To change this limit, set the config variable\n",
      "`--NotebookApp.iopub_msg_rate_limit`.\n",
      "\n",
      "Current values:\n",
      "NotebookApp.iopub_msg_rate_limit=1000.0 (msgs/sec)\n",
      "NotebookApp.rate_limit_window=3.0 (secs)\n",
      "\n"
     ]
    },
    {
     "name": "stdout",
     "output_type": "stream",
     "text": [
      "[==------------------------------------------------] 4.2% 69.5/1662.8MB downloaded"
     ]
    },
    {
     "name": "stderr",
     "output_type": "stream",
     "text": [
      "IOPub message rate exceeded.\n",
      "The notebook server will temporarily stop sending output\n",
      "to the client in order to avoid crashing it.\n",
      "To change this limit, set the config variable\n",
      "`--NotebookApp.iopub_msg_rate_limit`.\n",
      "\n",
      "Current values:\n",
      "NotebookApp.iopub_msg_rate_limit=1000.0 (msgs/sec)\n",
      "NotebookApp.rate_limit_window=3.0 (secs)\n",
      "\n"
     ]
    },
    {
     "name": "stdout",
     "output_type": "stream",
     "text": [
      "[===-----------------------------------------------] 6.2% 103.5/1662.8MB downloaded"
     ]
    },
    {
     "name": "stderr",
     "output_type": "stream",
     "text": [
      "IOPub message rate exceeded.\n",
      "The notebook server will temporarily stop sending output\n",
      "to the client in order to avoid crashing it.\n",
      "To change this limit, set the config variable\n",
      "`--NotebookApp.iopub_msg_rate_limit`.\n",
      "\n",
      "Current values:\n",
      "NotebookApp.iopub_msg_rate_limit=1000.0 (msgs/sec)\n",
      "NotebookApp.rate_limit_window=3.0 (secs)\n",
      "\n"
     ]
    },
    {
     "name": "stdout",
     "output_type": "stream",
     "text": [
      "[====----------------------------------------------] 8.9% 147.8/1662.8MB downloaded"
     ]
    },
    {
     "name": "stderr",
     "output_type": "stream",
     "text": [
      "IOPub message rate exceeded.\n",
      "The notebook server will temporarily stop sending output\n",
      "to the client in order to avoid crashing it.\n",
      "To change this limit, set the config variable\n",
      "`--NotebookApp.iopub_msg_rate_limit`.\n",
      "\n",
      "Current values:\n",
      "NotebookApp.iopub_msg_rate_limit=1000.0 (msgs/sec)\n",
      "NotebookApp.rate_limit_window=3.0 (secs)\n",
      "\n"
     ]
    },
    {
     "name": "stdout",
     "output_type": "stream",
     "text": [
      "[=====---------------------------------------------] 11.6% 192.4/1662.8MB downloaded"
     ]
    },
    {
     "name": "stderr",
     "output_type": "stream",
     "text": [
      "IOPub message rate exceeded.\n",
      "The notebook server will temporarily stop sending output\n",
      "to the client in order to avoid crashing it.\n",
      "To change this limit, set the config variable\n",
      "`--NotebookApp.iopub_msg_rate_limit`.\n",
      "\n",
      "Current values:\n",
      "NotebookApp.iopub_msg_rate_limit=1000.0 (msgs/sec)\n",
      "NotebookApp.rate_limit_window=3.0 (secs)\n",
      "\n"
     ]
    },
    {
     "name": "stdout",
     "output_type": "stream",
     "text": [
      "[=======-------------------------------------------] 14.4% 238.6/1662.8MB downloaded"
     ]
    },
    {
     "name": "stderr",
     "output_type": "stream",
     "text": [
      "IOPub message rate exceeded.\n",
      "The notebook server will temporarily stop sending output\n",
      "to the client in order to avoid crashing it.\n",
      "To change this limit, set the config variable\n",
      "`--NotebookApp.iopub_msg_rate_limit`.\n",
      "\n",
      "Current values:\n",
      "NotebookApp.iopub_msg_rate_limit=1000.0 (msgs/sec)\n",
      "NotebookApp.rate_limit_window=3.0 (secs)\n",
      "\n"
     ]
    },
    {
     "name": "stdout",
     "output_type": "stream",
     "text": [
      "[========------------------------------------------] 16.9% 281.5/1662.8MB downloaded"
     ]
    },
    {
     "name": "stderr",
     "output_type": "stream",
     "text": [
      "IOPub message rate exceeded.\n",
      "The notebook server will temporarily stop sending output\n",
      "to the client in order to avoid crashing it.\n",
      "To change this limit, set the config variable\n",
      "`--NotebookApp.iopub_msg_rate_limit`.\n",
      "\n",
      "Current values:\n",
      "NotebookApp.iopub_msg_rate_limit=1000.0 (msgs/sec)\n",
      "NotebookApp.rate_limit_window=3.0 (secs)\n",
      "\n"
     ]
    },
    {
     "name": "stdout",
     "output_type": "stream",
     "text": [
      "[==========----------------------------------------] 20.8% 345.5/1662.8MB downloaded"
     ]
    },
    {
     "name": "stderr",
     "output_type": "stream",
     "text": [
      "IOPub message rate exceeded.\n",
      "The notebook server will temporarily stop sending output\n",
      "to the client in order to avoid crashing it.\n",
      "To change this limit, set the config variable\n",
      "`--NotebookApp.iopub_msg_rate_limit`.\n",
      "\n",
      "Current values:\n",
      "NotebookApp.iopub_msg_rate_limit=1000.0 (msgs/sec)\n",
      "NotebookApp.rate_limit_window=3.0 (secs)\n",
      "\n"
     ]
    },
    {
     "name": "stdout",
     "output_type": "stream",
     "text": [
      "[==========----------------------------------------] 21.9% 363.7/1662.8MB downloaded"
     ]
    },
    {
     "name": "stderr",
     "output_type": "stream",
     "text": [
      "IOPub message rate exceeded.\n",
      "The notebook server will temporarily stop sending output\n",
      "to the client in order to avoid crashing it.\n",
      "To change this limit, set the config variable\n",
      "`--NotebookApp.iopub_msg_rate_limit`.\n",
      "\n",
      "Current values:\n",
      "NotebookApp.iopub_msg_rate_limit=1000.0 (msgs/sec)\n",
      "NotebookApp.rate_limit_window=3.0 (secs)\n",
      "\n"
     ]
    },
    {
     "name": "stdout",
     "output_type": "stream",
     "text": [
      "[===========---------------------------------------] 22.9% 380.8/1662.8MB downloaded"
     ]
    },
    {
     "name": "stderr",
     "output_type": "stream",
     "text": [
      "IOPub message rate exceeded.\n",
      "The notebook server will temporarily stop sending output\n",
      "to the client in order to avoid crashing it.\n",
      "To change this limit, set the config variable\n",
      "`--NotebookApp.iopub_msg_rate_limit`.\n",
      "\n",
      "Current values:\n",
      "NotebookApp.iopub_msg_rate_limit=1000.0 (msgs/sec)\n",
      "NotebookApp.rate_limit_window=3.0 (secs)\n",
      "\n"
     ]
    },
    {
     "name": "stdout",
     "output_type": "stream",
     "text": [
      "[============--------------------------------------] 24.9% 414.9/1662.8MB downloaded"
     ]
    },
    {
     "name": "stderr",
     "output_type": "stream",
     "text": [
      "IOPub message rate exceeded.\n",
      "The notebook server will temporarily stop sending output\n",
      "to the client in order to avoid crashing it.\n",
      "To change this limit, set the config variable\n",
      "`--NotebookApp.iopub_msg_rate_limit`.\n",
      "\n",
      "Current values:\n",
      "NotebookApp.iopub_msg_rate_limit=1000.0 (msgs/sec)\n",
      "NotebookApp.rate_limit_window=3.0 (secs)\n",
      "\n"
     ]
    },
    {
     "name": "stdout",
     "output_type": "stream",
     "text": [
      "[=============-------------------------------------] 27.4% 456.0/1662.8MB downloaded"
     ]
    },
    {
     "name": "stderr",
     "output_type": "stream",
     "text": [
      "IOPub message rate exceeded.\n",
      "The notebook server will temporarily stop sending output\n",
      "to the client in order to avoid crashing it.\n",
      "To change this limit, set the config variable\n",
      "`--NotebookApp.iopub_msg_rate_limit`.\n",
      "\n",
      "Current values:\n",
      "NotebookApp.iopub_msg_rate_limit=1000.0 (msgs/sec)\n",
      "NotebookApp.rate_limit_window=3.0 (secs)\n",
      "\n"
     ]
    },
    {
     "name": "stdout",
     "output_type": "stream",
     "text": [
      "[==============------------------------------------] 29.8% 495.2/1662.8MB downloaded"
     ]
    },
    {
     "name": "stderr",
     "output_type": "stream",
     "text": [
      "IOPub message rate exceeded.\n",
      "The notebook server will temporarily stop sending output\n",
      "to the client in order to avoid crashing it.\n",
      "To change this limit, set the config variable\n",
      "`--NotebookApp.iopub_msg_rate_limit`.\n",
      "\n",
      "Current values:\n",
      "NotebookApp.iopub_msg_rate_limit=1000.0 (msgs/sec)\n",
      "NotebookApp.rate_limit_window=3.0 (secs)\n",
      "\n"
     ]
    },
    {
     "name": "stdout",
     "output_type": "stream",
     "text": [
      "[================----------------------------------] 32.3% 537.8/1662.8MB downloaded"
     ]
    },
    {
     "name": "stderr",
     "output_type": "stream",
     "text": [
      "IOPub message rate exceeded.\n",
      "The notebook server will temporarily stop sending output\n",
      "to the client in order to avoid crashing it.\n",
      "To change this limit, set the config variable\n",
      "`--NotebookApp.iopub_msg_rate_limit`.\n",
      "\n",
      "Current values:\n",
      "NotebookApp.iopub_msg_rate_limit=1000.0 (msgs/sec)\n",
      "NotebookApp.rate_limit_window=3.0 (secs)\n",
      "\n"
     ]
    },
    {
     "name": "stdout",
     "output_type": "stream",
     "text": [
      "[=================---------------------------------] 34.7% 576.2/1662.8MB downloaded"
     ]
    },
    {
     "name": "stderr",
     "output_type": "stream",
     "text": [
      "IOPub message rate exceeded.\n",
      "The notebook server will temporarily stop sending output\n",
      "to the client in order to avoid crashing it.\n",
      "To change this limit, set the config variable\n",
      "`--NotebookApp.iopub_msg_rate_limit`.\n",
      "\n",
      "Current values:\n",
      "NotebookApp.iopub_msg_rate_limit=1000.0 (msgs/sec)\n",
      "NotebookApp.rate_limit_window=3.0 (secs)\n",
      "\n"
     ]
    },
    {
     "name": "stdout",
     "output_type": "stream",
     "text": [
      "[==================--------------------------------] 36.9% 613.5/1662.8MB downloaded"
     ]
    },
    {
     "name": "stderr",
     "output_type": "stream",
     "text": [
      "IOPub message rate exceeded.\n",
      "The notebook server will temporarily stop sending output\n",
      "to the client in order to avoid crashing it.\n",
      "To change this limit, set the config variable\n",
      "`--NotebookApp.iopub_msg_rate_limit`.\n",
      "\n",
      "Current values:\n",
      "NotebookApp.iopub_msg_rate_limit=1000.0 (msgs/sec)\n",
      "NotebookApp.rate_limit_window=3.0 (secs)\n",
      "\n"
     ]
    },
    {
     "name": "stdout",
     "output_type": "stream",
     "text": [
      "[===================-------------------------------] 38.8% 644.9/1662.8MB downloaded"
     ]
    },
    {
     "name": "stderr",
     "output_type": "stream",
     "text": [
      "IOPub message rate exceeded.\n",
      "The notebook server will temporarily stop sending output\n",
      "to the client in order to avoid crashing it.\n",
      "To change this limit, set the config variable\n",
      "`--NotebookApp.iopub_msg_rate_limit`.\n",
      "\n",
      "Current values:\n",
      "NotebookApp.iopub_msg_rate_limit=1000.0 (msgs/sec)\n",
      "NotebookApp.rate_limit_window=3.0 (secs)\n",
      "\n"
     ]
    },
    {
     "name": "stdout",
     "output_type": "stream",
     "text": [
      "[====================------------------------------] 40.6% 675.4/1662.8MB downloaded"
     ]
    },
    {
     "name": "stderr",
     "output_type": "stream",
     "text": [
      "IOPub message rate exceeded.\n",
      "The notebook server will temporarily stop sending output\n",
      "to the client in order to avoid crashing it.\n",
      "To change this limit, set the config variable\n",
      "`--NotebookApp.iopub_msg_rate_limit`.\n",
      "\n",
      "Current values:\n",
      "NotebookApp.iopub_msg_rate_limit=1000.0 (msgs/sec)\n",
      "NotebookApp.rate_limit_window=3.0 (secs)\n",
      "\n"
     ]
    },
    {
     "name": "stdout",
     "output_type": "stream",
     "text": [
      "[=====================-----------------------------] 42.9% 713.5/1662.8MB downloaded"
     ]
    },
    {
     "name": "stderr",
     "output_type": "stream",
     "text": [
      "IOPub message rate exceeded.\n",
      "The notebook server will temporarily stop sending output\n",
      "to the client in order to avoid crashing it.\n",
      "To change this limit, set the config variable\n",
      "`--NotebookApp.iopub_msg_rate_limit`.\n",
      "\n",
      "Current values:\n",
      "NotebookApp.iopub_msg_rate_limit=1000.0 (msgs/sec)\n",
      "NotebookApp.rate_limit_window=3.0 (secs)\n",
      "\n"
     ]
    },
    {
     "name": "stdout",
     "output_type": "stream",
     "text": [
      "[======================----------------------------] 45.3% 752.9/1662.8MB downloaded"
     ]
    },
    {
     "name": "stderr",
     "output_type": "stream",
     "text": [
      "IOPub message rate exceeded.\n",
      "The notebook server will temporarily stop sending output\n",
      "to the client in order to avoid crashing it.\n",
      "To change this limit, set the config variable\n",
      "`--NotebookApp.iopub_msg_rate_limit`.\n",
      "\n",
      "Current values:\n",
      "NotebookApp.iopub_msg_rate_limit=1000.0 (msgs/sec)\n",
      "NotebookApp.rate_limit_window=3.0 (secs)\n",
      "\n"
     ]
    },
    {
     "name": "stdout",
     "output_type": "stream",
     "text": [
      "[=======================---------------------------] 47.1% 782.4/1662.8MB downloaded"
     ]
    },
    {
     "name": "stderr",
     "output_type": "stream",
     "text": [
      "IOPub message rate exceeded.\n",
      "The notebook server will temporarily stop sending output\n",
      "to the client in order to avoid crashing it.\n",
      "To change this limit, set the config variable\n",
      "`--NotebookApp.iopub_msg_rate_limit`.\n",
      "\n",
      "Current values:\n",
      "NotebookApp.iopub_msg_rate_limit=1000.0 (msgs/sec)\n",
      "NotebookApp.rate_limit_window=3.0 (secs)\n",
      "\n"
     ]
    },
    {
     "name": "stdout",
     "output_type": "stream",
     "text": [
      "[========================--------------------------] 49.6% 825.5/1662.8MB downloaded"
     ]
    },
    {
     "name": "stderr",
     "output_type": "stream",
     "text": [
      "IOPub message rate exceeded.\n",
      "The notebook server will temporarily stop sending output\n",
      "to the client in order to avoid crashing it.\n",
      "To change this limit, set the config variable\n",
      "`--NotebookApp.iopub_msg_rate_limit`.\n",
      "\n",
      "Current values:\n",
      "NotebookApp.iopub_msg_rate_limit=1000.0 (msgs/sec)\n",
      "NotebookApp.rate_limit_window=3.0 (secs)\n",
      "\n"
     ]
    },
    {
     "name": "stdout",
     "output_type": "stream",
     "text": [
      "[=========================-------------------------] 51.4% 854.5/1662.8MB downloaded"
     ]
    },
    {
     "name": "stderr",
     "output_type": "stream",
     "text": [
      "IOPub message rate exceeded.\n",
      "The notebook server will temporarily stop sending output\n",
      "to the client in order to avoid crashing it.\n",
      "To change this limit, set the config variable\n",
      "`--NotebookApp.iopub_msg_rate_limit`.\n",
      "\n",
      "Current values:\n",
      "NotebookApp.iopub_msg_rate_limit=1000.0 (msgs/sec)\n",
      "NotebookApp.rate_limit_window=3.0 (secs)\n",
      "\n"
     ]
    },
    {
     "name": "stdout",
     "output_type": "stream",
     "text": [
      "[==========================------------------------] 53.8% 893.9/1662.8MB downloaded"
     ]
    },
    {
     "name": "stderr",
     "output_type": "stream",
     "text": [
      "IOPub message rate exceeded.\n",
      "The notebook server will temporarily stop sending output\n",
      "to the client in order to avoid crashing it.\n",
      "To change this limit, set the config variable\n",
      "`--NotebookApp.iopub_msg_rate_limit`.\n",
      "\n",
      "Current values:\n",
      "NotebookApp.iopub_msg_rate_limit=1000.0 (msgs/sec)\n",
      "NotebookApp.rate_limit_window=3.0 (secs)\n",
      "\n"
     ]
    },
    {
     "name": "stdout",
     "output_type": "stream",
     "text": [
      "[============================----------------------] 56.4% 937.6/1662.8MB downloaded"
     ]
    },
    {
     "name": "stderr",
     "output_type": "stream",
     "text": [
      "IOPub message rate exceeded.\n",
      "The notebook server will temporarily stop sending output\n",
      "to the client in order to avoid crashing it.\n",
      "To change this limit, set the config variable\n",
      "`--NotebookApp.iopub_msg_rate_limit`.\n",
      "\n",
      "Current values:\n",
      "NotebookApp.iopub_msg_rate_limit=1000.0 (msgs/sec)\n",
      "NotebookApp.rate_limit_window=3.0 (secs)\n",
      "\n"
     ]
    },
    {
     "name": "stdout",
     "output_type": "stream",
     "text": [
      "[============================----------------------] 57.7% 959.2/1662.8MB downloaded"
     ]
    },
    {
     "name": "stderr",
     "output_type": "stream",
     "text": [
      "IOPub message rate exceeded.\n",
      "The notebook server will temporarily stop sending output\n",
      "to the client in order to avoid crashing it.\n",
      "To change this limit, set the config variable\n",
      "`--NotebookApp.iopub_msg_rate_limit`.\n",
      "\n",
      "Current values:\n",
      "NotebookApp.iopub_msg_rate_limit=1000.0 (msgs/sec)\n",
      "NotebookApp.rate_limit_window=3.0 (secs)\n",
      "\n"
     ]
    },
    {
     "name": "stdout",
     "output_type": "stream",
     "text": [
      "[=============================---------------------] 58.5% 973.3/1662.8MB downloaded"
     ]
    },
    {
     "name": "stderr",
     "output_type": "stream",
     "text": [
      "IOPub message rate exceeded.\n",
      "The notebook server will temporarily stop sending output\n",
      "to the client in order to avoid crashing it.\n",
      "To change this limit, set the config variable\n",
      "`--NotebookApp.iopub_msg_rate_limit`.\n",
      "\n",
      "Current values:\n",
      "NotebookApp.iopub_msg_rate_limit=1000.0 (msgs/sec)\n",
      "NotebookApp.rate_limit_window=3.0 (secs)\n",
      "\n"
     ]
    },
    {
     "name": "stdout",
     "output_type": "stream",
     "text": [
      "[==============================--------------------] 60.5% 1006.0/1662.8MB downloaded"
     ]
    },
    {
     "name": "stderr",
     "output_type": "stream",
     "text": [
      "IOPub message rate exceeded.\n",
      "The notebook server will temporarily stop sending output\n",
      "to the client in order to avoid crashing it.\n",
      "To change this limit, set the config variable\n",
      "`--NotebookApp.iopub_msg_rate_limit`.\n",
      "\n",
      "Current values:\n",
      "NotebookApp.iopub_msg_rate_limit=1000.0 (msgs/sec)\n",
      "NotebookApp.rate_limit_window=3.0 (secs)\n",
      "\n"
     ]
    },
    {
     "name": "stdout",
     "output_type": "stream",
     "text": [
      "[===============================-------------------] 62.6% 1041.6/1662.8MB downloaded"
     ]
    },
    {
     "name": "stderr",
     "output_type": "stream",
     "text": [
      "IOPub message rate exceeded.\n",
      "The notebook server will temporarily stop sending output\n",
      "to the client in order to avoid crashing it.\n",
      "To change this limit, set the config variable\n",
      "`--NotebookApp.iopub_msg_rate_limit`.\n",
      "\n",
      "Current values:\n",
      "NotebookApp.iopub_msg_rate_limit=1000.0 (msgs/sec)\n",
      "NotebookApp.rate_limit_window=3.0 (secs)\n",
      "\n"
     ]
    },
    {
     "name": "stdout",
     "output_type": "stream",
     "text": [
      "[================================------------------] 65.0% 1080.7/1662.8MB downloaded"
     ]
    },
    {
     "name": "stderr",
     "output_type": "stream",
     "text": [
      "IOPub message rate exceeded.\n",
      "The notebook server will temporarily stop sending output\n",
      "to the client in order to avoid crashing it.\n",
      "To change this limit, set the config variable\n",
      "`--NotebookApp.iopub_msg_rate_limit`.\n",
      "\n",
      "Current values:\n",
      "NotebookApp.iopub_msg_rate_limit=1000.0 (msgs/sec)\n",
      "NotebookApp.rate_limit_window=3.0 (secs)\n",
      "\n"
     ]
    },
    {
     "name": "stdout",
     "output_type": "stream",
     "text": [
      "[=================================-----------------] 67.0% 1113.6/1662.8MB downloaded"
     ]
    },
    {
     "name": "stderr",
     "output_type": "stream",
     "text": [
      "IOPub message rate exceeded.\n",
      "The notebook server will temporarily stop sending output\n",
      "to the client in order to avoid crashing it.\n",
      "To change this limit, set the config variable\n",
      "`--NotebookApp.iopub_msg_rate_limit`.\n",
      "\n",
      "Current values:\n",
      "NotebookApp.iopub_msg_rate_limit=1000.0 (msgs/sec)\n",
      "NotebookApp.rate_limit_window=3.0 (secs)\n",
      "\n"
     ]
    },
    {
     "name": "stdout",
     "output_type": "stream",
     "text": [
      "[==================================----------------] 69.3% 1152.0/1662.8MB downloaded"
     ]
    },
    {
     "name": "stderr",
     "output_type": "stream",
     "text": [
      "IOPub message rate exceeded.\n",
      "The notebook server will temporarily stop sending output\n",
      "to the client in order to avoid crashing it.\n",
      "To change this limit, set the config variable\n",
      "`--NotebookApp.iopub_msg_rate_limit`.\n",
      "\n",
      "Current values:\n",
      "NotebookApp.iopub_msg_rate_limit=1000.0 (msgs/sec)\n",
      "NotebookApp.rate_limit_window=3.0 (secs)\n",
      "\n"
     ]
    },
    {
     "name": "stdout",
     "output_type": "stream",
     "text": [
      "[===================================---------------] 71.3% 1185.3/1662.8MB downloaded"
     ]
    },
    {
     "name": "stderr",
     "output_type": "stream",
     "text": [
      "IOPub message rate exceeded.\n",
      "The notebook server will temporarily stop sending output\n",
      "to the client in order to avoid crashing it.\n",
      "To change this limit, set the config variable\n",
      "`--NotebookApp.iopub_msg_rate_limit`.\n",
      "\n",
      "Current values:\n",
      "NotebookApp.iopub_msg_rate_limit=1000.0 (msgs/sec)\n",
      "NotebookApp.rate_limit_window=3.0 (secs)\n",
      "\n"
     ]
    },
    {
     "name": "stdout",
     "output_type": "stream",
     "text": [
      "[====================================--------------] 73.7% 1224.7/1662.8MB downloaded"
     ]
    },
    {
     "name": "stderr",
     "output_type": "stream",
     "text": [
      "IOPub message rate exceeded.\n",
      "The notebook server will temporarily stop sending output\n",
      "to the client in order to avoid crashing it.\n",
      "To change this limit, set the config variable\n",
      "`--NotebookApp.iopub_msg_rate_limit`.\n",
      "\n",
      "Current values:\n",
      "NotebookApp.iopub_msg_rate_limit=1000.0 (msgs/sec)\n",
      "NotebookApp.rate_limit_window=3.0 (secs)\n",
      "\n"
     ]
    },
    {
     "name": "stdout",
     "output_type": "stream",
     "text": [
      "[======================================------------] 76.1% 1265.7/1662.8MB downloaded"
     ]
    },
    {
     "name": "stderr",
     "output_type": "stream",
     "text": [
      "IOPub message rate exceeded.\n",
      "The notebook server will temporarily stop sending output\n",
      "to the client in order to avoid crashing it.\n",
      "To change this limit, set the config variable\n",
      "`--NotebookApp.iopub_msg_rate_limit`.\n",
      "\n",
      "Current values:\n",
      "NotebookApp.iopub_msg_rate_limit=1000.0 (msgs/sec)\n",
      "NotebookApp.rate_limit_window=3.0 (secs)\n",
      "\n"
     ]
    },
    {
     "name": "stdout",
     "output_type": "stream",
     "text": [
      "[======================================------------] 78.0% 1297.0/1662.8MB downloaded"
     ]
    },
    {
     "name": "stderr",
     "output_type": "stream",
     "text": [
      "IOPub message rate exceeded.\n",
      "The notebook server will temporarily stop sending output\n",
      "to the client in order to avoid crashing it.\n",
      "To change this limit, set the config variable\n",
      "`--NotebookApp.iopub_msg_rate_limit`.\n",
      "\n",
      "Current values:\n",
      "NotebookApp.iopub_msg_rate_limit=1000.0 (msgs/sec)\n",
      "NotebookApp.rate_limit_window=3.0 (secs)\n",
      "\n"
     ]
    },
    {
     "name": "stdout",
     "output_type": "stream",
     "text": [
      "[=======================================-----------] 78.7% 1308.0/1662.8MB downloaded"
     ]
    },
    {
     "name": "stderr",
     "output_type": "stream",
     "text": [
      "IOPub message rate exceeded.\n",
      "The notebook server will temporarily stop sending output\n",
      "to the client in order to avoid crashing it.\n",
      "To change this limit, set the config variable\n",
      "`--NotebookApp.iopub_msg_rate_limit`.\n",
      "\n",
      "Current values:\n",
      "NotebookApp.iopub_msg_rate_limit=1000.0 (msgs/sec)\n",
      "NotebookApp.rate_limit_window=3.0 (secs)\n",
      "\n"
     ]
    },
    {
     "name": "stdout",
     "output_type": "stream",
     "text": [
      "[========================================----------] 81.4% 1353.4/1662.8MB downloaded"
     ]
    },
    {
     "name": "stderr",
     "output_type": "stream",
     "text": [
      "IOPub message rate exceeded.\n",
      "The notebook server will temporarily stop sending output\n",
      "to the client in order to avoid crashing it.\n",
      "To change this limit, set the config variable\n",
      "`--NotebookApp.iopub_msg_rate_limit`.\n",
      "\n",
      "Current values:\n",
      "NotebookApp.iopub_msg_rate_limit=1000.0 (msgs/sec)\n",
      "NotebookApp.rate_limit_window=3.0 (secs)\n",
      "\n"
     ]
    },
    {
     "name": "stdout",
     "output_type": "stream",
     "text": [
      "[=========================================---------] 83.8% 1393.9/1662.8MB downloaded"
     ]
    },
    {
     "name": "stderr",
     "output_type": "stream",
     "text": [
      "IOPub message rate exceeded.\n",
      "The notebook server will temporarily stop sending output\n",
      "to the client in order to avoid crashing it.\n",
      "To change this limit, set the config variable\n",
      "`--NotebookApp.iopub_msg_rate_limit`.\n",
      "\n",
      "Current values:\n",
      "NotebookApp.iopub_msg_rate_limit=1000.0 (msgs/sec)\n",
      "NotebookApp.rate_limit_window=3.0 (secs)\n",
      "\n"
     ]
    },
    {
     "name": "stdout",
     "output_type": "stream",
     "text": [
      "[==========================================--------] 85.5% 1421.6/1662.8MB downloaded"
     ]
    },
    {
     "name": "stderr",
     "output_type": "stream",
     "text": [
      "IOPub message rate exceeded.\n",
      "The notebook server will temporarily stop sending output\n",
      "to the client in order to avoid crashing it.\n",
      "To change this limit, set the config variable\n",
      "`--NotebookApp.iopub_msg_rate_limit`.\n",
      "\n",
      "Current values:\n",
      "NotebookApp.iopub_msg_rate_limit=1000.0 (msgs/sec)\n",
      "NotebookApp.rate_limit_window=3.0 (secs)\n",
      "\n"
     ]
    },
    {
     "name": "stdout",
     "output_type": "stream",
     "text": [
      "[===========================================-------] 86.4% 1436.7/1662.8MB downloaded"
     ]
    },
    {
     "name": "stderr",
     "output_type": "stream",
     "text": [
      "IOPub message rate exceeded.\n",
      "The notebook server will temporarily stop sending output\n",
      "to the client in order to avoid crashing it.\n",
      "To change this limit, set the config variable\n",
      "`--NotebookApp.iopub_msg_rate_limit`.\n",
      "\n",
      "Current values:\n",
      "NotebookApp.iopub_msg_rate_limit=1000.0 (msgs/sec)\n",
      "NotebookApp.rate_limit_window=3.0 (secs)\n",
      "\n"
     ]
    },
    {
     "name": "stdout",
     "output_type": "stream",
     "text": [
      "[============================================------] 88.5% 1471.1/1662.8MB downloaded"
     ]
    },
    {
     "name": "stderr",
     "output_type": "stream",
     "text": [
      "IOPub message rate exceeded.\n",
      "The notebook server will temporarily stop sending output\n",
      "to the client in order to avoid crashing it.\n",
      "To change this limit, set the config variable\n",
      "`--NotebookApp.iopub_msg_rate_limit`.\n",
      "\n",
      "Current values:\n",
      "NotebookApp.iopub_msg_rate_limit=1000.0 (msgs/sec)\n",
      "NotebookApp.rate_limit_window=3.0 (secs)\n",
      "\n"
     ]
    },
    {
     "name": "stdout",
     "output_type": "stream",
     "text": [
      "[=============================================-----] 90.7% 1508.4/1662.8MB downloaded"
     ]
    },
    {
     "name": "stderr",
     "output_type": "stream",
     "text": [
      "IOPub message rate exceeded.\n",
      "The notebook server will temporarily stop sending output\n",
      "to the client in order to avoid crashing it.\n",
      "To change this limit, set the config variable\n",
      "`--NotebookApp.iopub_msg_rate_limit`.\n",
      "\n",
      "Current values:\n",
      "NotebookApp.iopub_msg_rate_limit=1000.0 (msgs/sec)\n",
      "NotebookApp.rate_limit_window=3.0 (secs)\n",
      "\n"
     ]
    },
    {
     "name": "stdout",
     "output_type": "stream",
     "text": [
      "[==============================================----] 92.9% 1544.4/1662.8MB downloaded"
     ]
    },
    {
     "name": "stderr",
     "output_type": "stream",
     "text": [
      "IOPub message rate exceeded.\n",
      "The notebook server will temporarily stop sending output\n",
      "to the client in order to avoid crashing it.\n",
      "To change this limit, set the config variable\n",
      "`--NotebookApp.iopub_msg_rate_limit`.\n",
      "\n",
      "Current values:\n",
      "NotebookApp.iopub_msg_rate_limit=1000.0 (msgs/sec)\n",
      "NotebookApp.rate_limit_window=3.0 (secs)\n",
      "\n"
     ]
    },
    {
     "name": "stdout",
     "output_type": "stream",
     "text": [
      "[===============================================---] 95.1% 1582.1/1662.8MB downloaded"
     ]
    },
    {
     "name": "stderr",
     "output_type": "stream",
     "text": [
      "IOPub message rate exceeded.\n",
      "The notebook server will temporarily stop sending output\n",
      "to the client in order to avoid crashing it.\n",
      "To change this limit, set the config variable\n",
      "`--NotebookApp.iopub_msg_rate_limit`.\n",
      "\n",
      "Current values:\n",
      "NotebookApp.iopub_msg_rate_limit=1000.0 (msgs/sec)\n",
      "NotebookApp.rate_limit_window=3.0 (secs)\n",
      "\n"
     ]
    },
    {
     "name": "stdout",
     "output_type": "stream",
     "text": [
      "[================================================--] 97.7% 1624.2/1662.8MB downloaded"
     ]
    },
    {
     "name": "stderr",
     "output_type": "stream",
     "text": [
      "IOPub message rate exceeded.\n",
      "The notebook server will temporarily stop sending output\n",
      "to the client in order to avoid crashing it.\n",
      "To change this limit, set the config variable\n",
      "`--NotebookApp.iopub_msg_rate_limit`.\n",
      "\n",
      "Current values:\n",
      "NotebookApp.iopub_msg_rate_limit=1000.0 (msgs/sec)\n",
      "NotebookApp.rate_limit_window=3.0 (secs)\n",
      "\n"
     ]
    },
    {
     "name": "stdout",
     "output_type": "stream",
     "text": [
      "[=================================================-] 99.8% 1659.3/1662.8MB downloaded"
     ]
    },
    {
     "name": "stderr",
     "output_type": "stream",
     "text": [
      "IOPub message rate exceeded.\n",
      "The notebook server will temporarily stop sending output\n",
      "to the client in order to avoid crashing it.\n",
      "To change this limit, set the config variable\n",
      "`--NotebookApp.iopub_msg_rate_limit`.\n",
      "\n",
      "Current values:\n",
      "NotebookApp.iopub_msg_rate_limit=1000.0 (msgs/sec)\n",
      "NotebookApp.rate_limit_window=3.0 (secs)\n",
      "\n"
     ]
    },
    {
     "name": "stdout",
     "output_type": "stream",
     "text": [
      "\n"
     ]
    },
    {
     "name": "stderr",
     "output_type": "stream",
     "text": [
      "X:\\research\\pfsa-id\\.venv\\lib\\site-packages\\ipykernel_launcher.py:46: DeprecationWarning: Call to deprecated `wv` (Attribute will be removed in 4.0.0, use self instead).\n",
      "X:\\research\\pfsa-id\\.venv\\lib\\site-packages\\ipykernel_launcher.py:51: DeprecationWarning: Call to deprecated `wv` (Attribute will be removed in 4.0.0, use self instead).\n",
      "X:\\research\\pfsa-id\\.venv\\lib\\site-packages\\ipykernel_launcher.py:52: DeprecationWarning: Call to deprecated `wv` (Attribute will be removed in 4.0.0, use self instead).\n"
     ]
    }
   ],
   "execution_count": null
  },
  {
   "cell_type": "markdown",
   "metadata": {
    "id": "lw7AEpNmGqbD"
   },
   "source": [
    "## Model Components\n",
    "\n",
    "### Embedding Layer"
   ]
  },
  {
   "cell_type": "code",
   "metadata": {
    "id": "T8wLgemGWZJ7",
    "ExecuteTime": {
     "end_time": "2025-02-27T08:18:36.839285Z",
     "start_time": "2025-02-27T08:18:36.825118Z"
    }
   },
   "source": [
    "class Embeddings(nn.Module):\n",
    "\n",
    "    def __init__(self,\n",
    "                 word_input_dim,\n",
    "                 word_emb_dim,\n",
    "                 word_emb_pretrained,\n",
    "                 word_emb_dropout,\n",
    "                 word_emb_froze,\n",
    "                 use_char_emb,\n",
    "                 char_input_dim,\n",
    "                 char_emb_dim,\n",
    "                 char_emb_dropout,\n",
    "                 char_cnn_filter_num,\n",
    "                 char_cnn_kernel_size,\n",
    "                 char_cnn_dropout,\n",
    "                 word_pad_idx,\n",
    "                 char_pad_idx,\n",
    "                 device\n",
    "                 ):\n",
    "        super().__init__()\n",
    "        self.device = device\n",
    "        self.word_pad_idx = word_pad_idx\n",
    "        self.char_pad_idx = char_pad_idx\n",
    "        # Word Embedding\n",
    "        # initialize embedding with pretrained weights if given\n",
    "        if word_emb_pretrained is not None:\n",
    "            self.word_emb = nn.Embedding.from_pretrained(\n",
    "                embeddings=torch.as_tensor(word_emb_pretrained),\n",
    "                padding_idx=self.word_pad_idx,\n",
    "                freeze=word_emb_froze\n",
    "            )\n",
    "        else:\n",
    "            self.word_emb = nn.Embedding(\n",
    "                num_embeddings=word_input_dim,\n",
    "                embedding_dim=word_emb_dim,\n",
    "                padding_idx=self.word_pad_idx\n",
    "            )\n",
    "            self.word_emb.weight.data[self.word_pad_idx] = torch.zeros(word_emb_dim)\n",
    "        self.word_emb_dropout = nn.Dropout(word_emb_dropout)\n",
    "        self.output_dim = word_emb_dim\n",
    "        # Char Embedding\n",
    "        self.use_char_emb = use_char_emb\n",
    "        if self.use_char_emb:\n",
    "            self.char_emb_dim = char_emb_dim\n",
    "            self.char_emb = nn.Embedding(\n",
    "                num_embeddings=char_input_dim,\n",
    "                embedding_dim=char_emb_dim,\n",
    "                padding_idx=char_pad_idx\n",
    "            )\n",
    "            # initialize embedding for char padding as zero\n",
    "            self.char_emb.weight.data[self.char_pad_idx] = torch.zeros(self.char_emb_dim)\n",
    "            self.char_emb_dropout = nn.Dropout(char_emb_dropout)\n",
    "            # Char CNN\n",
    "            self.char_cnn = nn.Conv1d(\n",
    "                in_channels=char_emb_dim,\n",
    "                out_channels=char_emb_dim * char_cnn_filter_num,\n",
    "                kernel_size=char_cnn_kernel_size,\n",
    "                groups=char_emb_dim  # different 1d conv for each embedding dim\n",
    "            )\n",
    "            self.char_cnn_dropout = nn.Dropout(char_cnn_dropout)\n",
    "            self.output_dim += char_emb_dim * char_cnn_filter_num\n",
    "\n",
    "    def forward(self, words, chars):\n",
    "        # words = [sentence length, batch size]\n",
    "        # chars = [batch size, sentence length, word length)\n",
    "        # tags = [sentence length, batch size]\n",
    "        # embedding_out = [sentence length, batch size, embedding dim]\n",
    "        embedding_out = self.word_emb_dropout(self.word_emb(words))\n",
    "        if not self.use_char_emb: return embedding_out\n",
    "        # character cnn layer forward\n",
    "        # reference: https://github.com/achernodub/targer/blob/master/src/layers/layer_char_cnn.py\n",
    "        # char_emb_out = [batch size, sentence length, word length, char emb dim]\n",
    "        char_emb_out = self.char_emb_dropout(self.char_emb(chars))\n",
    "        batch_size, sent_len, word_len, char_emb_dim = char_emb_out.shape\n",
    "        char_cnn_max_out = torch.zeros(batch_size, sent_len, self.char_cnn.out_channels, device=self.device)\n",
    "        for sent_i in range(sent_len):\n",
    "            # sent_char_emb = [batch size, word length, char emb dim]\n",
    "            sent_char_emb = char_emb_out[:, sent_i, :, :]\n",
    "            # sent_char_emb_p = [batch size, char emb dim, word length]\n",
    "            sent_char_emb_p = sent_char_emb.permute(0, 2, 1)\n",
    "            # char_cnn_sent_out = [batch size, out channels * char emb dim, word length - kernel size + 1]\n",
    "            char_cnn_sent_out = self.char_cnn(sent_char_emb_p)\n",
    "            char_cnn_max_out[:, sent_i, :], _ = torch.max(char_cnn_sent_out, dim=2)\n",
    "        char_cnn = self.char_cnn_dropout(char_cnn_max_out)\n",
    "        # concat word and char embedding\n",
    "        # char_cnn_p = [sentence length, batch size, char emb dim * num filter]\n",
    "        char_cnn_p = char_cnn.permute(1, 0, 2)\n",
    "        word_features = torch.cat((embedding_out, char_cnn_p), dim=2)\n",
    "        return word_features\n"
   ],
   "outputs": [],
   "execution_count": 64
  },
  {
   "cell_type": "markdown",
   "metadata": {},
   "source": [
    "### LSTM Layer"
   ]
  },
  {
   "cell_type": "code",
   "metadata": {
    "ExecuteTime": {
     "end_time": "2025-02-27T08:18:36.870403Z",
     "start_time": "2025-02-27T08:18:36.856893Z"
    }
   },
   "source": [
    "class LSTMAttn(nn.Module):\n",
    "\n",
    "    def __init__(self,\n",
    "                 input_dim,\n",
    "                 lstm_hidden_dim,\n",
    "                 lstm_layers,\n",
    "                 lstm_dropout,\n",
    "                 word_pad_idx,\n",
    "                 attn_heads=None,\n",
    "                 attn_dropout=None\n",
    "                 ):\n",
    "        super().__init__()\n",
    "        self.word_pad_idx = word_pad_idx\n",
    "        self.lstm = nn.LSTM(\n",
    "            input_size=input_dim,\n",
    "            hidden_size=lstm_hidden_dim,\n",
    "            num_layers=lstm_layers,\n",
    "            bidirectional=True,\n",
    "            dropout=lstm_dropout if lstm_layers > 1 else 0\n",
    "        )\n",
    "        self.attn_heads = attn_heads\n",
    "        if self.attn_heads:\n",
    "            self.attn = nn.MultiheadAttention(\n",
    "                embed_dim=lstm_hidden_dim * 2,\n",
    "                num_heads=attn_heads,\n",
    "                dropout=attn_dropout\n",
    "            )\n",
    "\n",
    "    def forward(self, words, word_features):\n",
    "        lstm_out, _ = self.lstm(word_features)\n",
    "        if not self.attn_heads: return lstm_out\n",
    "        # create masking for paddings\n",
    "        key_padding_mask = torch.as_tensor(words == self.word_pad_idx).permute(1, 0)\n",
    "        attn_out, _ = self.attn(lstm_out, lstm_out, lstm_out, key_padding_mask=key_padding_mask)\n",
    "        return attn_out"
   ],
   "outputs": [],
   "execution_count": 65
  },
  {
   "cell_type": "markdown",
   "metadata": {},
   "source": [
    "### CRF Layer"
   ]
  },
  {
   "cell_type": "code",
   "metadata": {
    "ExecuteTime": {
     "end_time": "2025-02-27T08:18:36.901767Z",
     "start_time": "2025-02-27T08:18:36.887666Z"
    }
   },
   "source": [
    "class CRF(nn.Module):\n",
    "\n",
    "    def __init__(self,\n",
    "                 input_dim,\n",
    "                 fc_dropout,\n",
    "                 word_pad_idx,\n",
    "                 tag_names,\n",
    "                 ):\n",
    "        super().__init__()\n",
    "        self.word_pad_idx = word_pad_idx\n",
    "        # Fully-connected\n",
    "        self.fc_dropout = nn.Dropout(fc_dropout)\n",
    "        self.fc = nn.Linear(input_dim, len(tag_names))\n",
    "        # CRF\n",
    "        self.crf = torchcrf.CRF(num_tags=len(tag_names))\n",
    "        self.init_crf_transitions(tag_names)\n",
    "\n",
    "    def forward(self, words, word_features, tags):\n",
    "        # fc_out = [sentence length, batch size, output dim]\n",
    "        fc_out = self.fc(self.fc_dropout(word_features))\n",
    "        crf_mask = words != self.word_pad_idx\n",
    "        crf_out = self.crf.decode(fc_out, mask=crf_mask)\n",
    "        crf_loss = -self.crf(fc_out, tags=tags, mask=crf_mask) if tags is not None else None\n",
    "        return crf_out, crf_loss\n",
    "\n",
    "    def init_crf_transitions(self, tag_names, imp_value=-100):\n",
    "        num_tags = len(tag_names)\n",
    "        for i in range(num_tags):\n",
    "            tag_name = tag_names[i]\n",
    "            # I and L and <pad> impossible as a start\n",
    "            if tag_name[0] in (\"I\", \"L\") or tag_name == \"<pad>\":\n",
    "                torch.nn.init.constant_(self.crf.start_transitions[i], imp_value)\n",
    "            # B and I impossible as an end\n",
    "            if tag_name[0] in (\"B\", \"I\"):\n",
    "                torch.nn.init.constant_(self.crf.end_transitions[i], imp_value)\n",
    "        # init impossible transitions between positions\n",
    "        tag_is = {}\n",
    "        for tag_position in (\"B\", \"I\", \"O\", \"U\", \"L\"):\n",
    "            tag_is[tag_position] = [i for i, tag in enumerate(tag_names) if tag[0] == tag_position]\n",
    "        tag_is[\"P\"] = [i for i, tag in enumerate(tag_names) if tag == \"tag\"]\n",
    "        impossible_transitions_position = {\n",
    "            \"B\": \"BOUP\",\n",
    "            \"I\": \"BOUP\",\n",
    "            \"O\": \"IL\",\n",
    "            \"U\": \"IL\"\n",
    "        }\n",
    "        for from_tag, to_tag_list in impossible_transitions_position.items():\n",
    "            to_tags = list(to_tag_list)\n",
    "            for from_tag_i in tag_is[from_tag]:\n",
    "                for to_tag in to_tags:\n",
    "                    for to_tag_i in tag_is[to_tag]:\n",
    "                        torch.nn.init.constant_(\n",
    "                            self.crf.transitions[from_tag_i, to_tag_i], imp_value\n",
    "                        )\n",
    "        # init impossible B and I transitions to different entity types\n",
    "        impossible_transitions_tags = {\n",
    "            \"B\": \"IL\",\n",
    "            \"I\": \"IL\"\n",
    "        }\n",
    "        for from_tag, to_tag_list in impossible_transitions_tags.items():\n",
    "            to_tags = list(to_tag_list)\n",
    "            for from_tag_i in tag_is[from_tag]:\n",
    "                for to_tag in to_tags:\n",
    "                    for to_tag_i in tag_is[to_tag]:\n",
    "                        if tag_names[from_tag_i].split(\"-\")[1] != tag_names[to_tag_i].split(\"-\")[1]:\n",
    "                            torch.nn.init.constant_(\n",
    "                                self.crf.transitions[from_tag_i, to_tag_i], imp_value\n",
    "                            )\n",
    "\n"
   ],
   "outputs": [],
   "execution_count": 66
  },
  {
   "cell_type": "markdown",
   "metadata": {},
   "source": [
    "### Encoding Layer for Transformer"
   ]
  },
  {
   "cell_type": "code",
   "metadata": {
    "ExecuteTime": {
     "end_time": "2025-02-27T08:18:36.932432Z",
     "start_time": "2025-02-27T08:18:36.918117Z"
    }
   },
   "source": [
    "class PositionalEncoding(nn.Module):\n",
    "\n",
    "    def __init__(self, d_model, dropout=0.1, max_len=10000):\n",
    "        super(PositionalEncoding, self).__init__()\n",
    "        self.dropout = nn.Dropout(p=dropout)\n",
    "        pe = torch.zeros(max_len, d_model)\n",
    "        position = torch.arange(0, max_len, dtype=torch.float).unsqueeze(1)\n",
    "        div_term = torch.exp(torch.arange(0, d_model, 2).float() * (-math.log(10000.0) / d_model))\n",
    "        pe[:, 0::2] = torch.sin(position * div_term)\n",
    "        pe[:, 1::2] = torch.cos(position * div_term)\n",
    "        pe = pe.unsqueeze(0).transpose(0, 1)\n",
    "        self.register_buffer('pe', pe)\n",
    "\n",
    "    def forward(self, x):\n",
    "        x = x + self.pe[:x.size(0), :]\n",
    "        return self.dropout(x)\n",
    "\n"
   ],
   "outputs": [],
   "execution_count": 67
  },
  {
   "cell_type": "markdown",
   "metadata": {},
   "source": [
    "### Transformer Layer"
   ]
  },
  {
   "cell_type": "code",
   "metadata": {
    "ExecuteTime": {
     "end_time": "2025-02-27T08:18:36.964566Z",
     "start_time": "2025-02-27T08:18:36.950426Z"
    }
   },
   "source": [
    "class Transformer(nn.Module):\n",
    "\n",
    "    def __init__(self,\n",
    "                 input_dim,\n",
    "                 attn_heads,\n",
    "                 attn_dropout,\n",
    "                 trf_layers,\n",
    "                 fc_hidden,\n",
    "                 word_pad_idx\n",
    "                 ):\n",
    "        super().__init__()\n",
    "        self.word_pad_idx = word_pad_idx\n",
    "        self.position_encoder = PositionalEncoding(\n",
    "            d_model=input_dim\n",
    "        )\n",
    "        layers = nn.TransformerEncoderLayer(\n",
    "            d_model=input_dim,\n",
    "            nhead=attn_heads,\n",
    "            activation=\"relu\",\n",
    "            dropout=attn_dropout\n",
    "        )\n",
    "        self.trf = nn.TransformerEncoder(\n",
    "            encoder_layer=layers,\n",
    "            num_layers=trf_layers\n",
    "        )\n",
    "        # 2-layers fully-connected with GELU activation in-between\n",
    "        self.fc = nn.Linear(\n",
    "            in_features=input_dim,\n",
    "            out_features=fc_hidden\n",
    "        )\n",
    "        self.fc_gelu = nn.GELU()\n",
    "        self.fc_norm = nn.LayerNorm(fc_hidden)\n",
    "        self.output_dim = fc_hidden\n",
    "\n",
    "    def forward(self, words, word_features):\n",
    "        # Transformer\n",
    "        key_padding_mask = torch.as_tensor(words == self.word_pad_idx).permute(1, 0)\n",
    "        # pos_out = [sentence length, batch size, embedding dim + char emb dim * num filter]\n",
    "        pos_out = self.position_encoder(word_features)\n",
    "        # enc_out = [sentence length, batch size, embedding dim + char emb dim * num filter]\n",
    "        trf_out = self.trf(pos_out, src_key_padding_mask=key_padding_mask)\n",
    "        # fc_out = [sentence length, batch size, fc hidden]\n",
    "        fc_out = self.fc_norm(self.fc_gelu(self.fc(trf_out)))\n",
    "        return fc_out\n"
   ],
   "outputs": [],
   "execution_count": 68
  },
  {
   "cell_type": "markdown",
   "metadata": {},
   "source": [
    "### Model Architecture for Public Figures Statements For Journalism In Indonesia using NER Approach"
   ]
  },
  {
   "cell_type": "code",
   "metadata": {
    "ExecuteTime": {
     "end_time": "2025-02-27T08:18:36.996049Z",
     "start_time": "2025-02-27T08:18:36.982037Z"
    }
   },
   "source": [
    "class NERModel(nn.Module):\n",
    "\n",
    "    def __init__(self,\n",
    "                 word_input_dim,\n",
    "                 word_pad_idx,\n",
    "                 char_pad_idx,\n",
    "                 tag_names,\n",
    "                 device,\n",
    "                 name=\"\",\n",
    "                 model_arch=\"bilstm\",\n",
    "                 word_emb_dim=300,\n",
    "                 word_emb_pretrained=None,\n",
    "                 word_emb_dropout=0.5,\n",
    "                 word_emb_froze=False,\n",
    "                 use_char_emb=False,\n",
    "                 char_input_dim=None,\n",
    "                 char_emb_dim=None,\n",
    "                 char_emb_dropout=None,\n",
    "                 char_cnn_filter_num=None,\n",
    "                 char_cnn_kernel_size=None,\n",
    "                 char_cnn_dropout=None,\n",
    "                 lstm_hidden_dim=64,\n",
    "                 lstm_layers=2,\n",
    "                 lstm_dropout=0.1,\n",
    "                 attn_heads=None,\n",
    "                 attn_dropout=None,\n",
    "                 trf_layers=None,\n",
    "                 fc_hidden=None,\n",
    "                 fc_dropout=0.25\n",
    "                 ):\n",
    "        super().__init__()\n",
    "        # Embeddings\n",
    "        self.embeddings = Embeddings(\n",
    "            word_input_dim=word_input_dim,\n",
    "            word_emb_dim=word_emb_dim,\n",
    "            word_emb_pretrained=word_emb_pretrained,\n",
    "            word_emb_dropout=word_emb_dropout,\n",
    "            word_emb_froze=word_emb_froze,\n",
    "            use_char_emb=use_char_emb,\n",
    "            char_input_dim=char_input_dim,\n",
    "            char_emb_dim=char_emb_dim,\n",
    "            char_emb_dropout=char_emb_dropout,\n",
    "            char_cnn_filter_num=char_cnn_filter_num,\n",
    "            char_cnn_kernel_size=char_cnn_kernel_size,\n",
    "            char_cnn_dropout=char_cnn_dropout,\n",
    "            word_pad_idx=word_pad_idx,\n",
    "            char_pad_idx=char_pad_idx,\n",
    "            device=device\n",
    "        )\n",
    "        if model_arch.lower() == \"bilstm\":\n",
    "            # LSTM-Attention\n",
    "            self.encoder = LSTMAttn(\n",
    "                 input_dim=self.embeddings.output_dim,\n",
    "                 lstm_hidden_dim=lstm_hidden_dim,\n",
    "                 lstm_layers=lstm_layers,\n",
    "                 lstm_dropout=lstm_dropout,\n",
    "                 word_pad_idx=word_pad_idx,\n",
    "                 attn_heads=attn_heads,\n",
    "                 attn_dropout=attn_dropout\n",
    "            )\n",
    "            encoder_output_dim = lstm_hidden_dim * 2\n",
    "        elif model_arch.lower() == \"transformer\":\n",
    "            # Transformer\n",
    "            self.encoder = Transformer(\n",
    "                input_dim=self.embeddings.output_dim,\n",
    "                attn_heads=attn_heads,\n",
    "                attn_dropout=attn_dropout,\n",
    "                trf_layers=trf_layers,\n",
    "                fc_hidden=fc_hidden,\n",
    "                word_pad_idx=word_pad_idx\n",
    "            )\n",
    "            encoder_output_dim = self.encoder.output_dim\n",
    "        else:\n",
    "            raise ValueError(\"param `model_arch` must be either 'bilstm' or 'transformer'\")\n",
    "        # CRF\n",
    "        self.crf = CRF(\n",
    "            input_dim=encoder_output_dim,\n",
    "            fc_dropout=fc_dropout,\n",
    "            word_pad_idx=word_pad_idx,\n",
    "            tag_names=tag_names\n",
    "        )\n",
    "\n",
    "    def forward(self, words, chars, tags=None):\n",
    "        word_features = self.embeddings(words, chars)\n",
    "        # lstm_out = [sentence length, batch size, hidden dim * 2]\n",
    "        encoder_out = self.encoder(words, word_features)\n",
    "        # fc_out = [sentence length, batch size, output dim]\n",
    "        crf_out, crf_loss = self.crf(words, encoder_out, tags)\n",
    "        \n",
    "        return crf_out, crf_loss\n",
    "\n",
    "    def save_state(self, path):\n",
    "        torch.save(self.state_dict(), path)\n",
    "\n",
    "    def load_state(self, path):\n",
    "        self.load_state_dict(torch.load(path))\n",
    "\n",
    "    def count_parameters(self):\n",
    "        return sum(p.numel() for p in self.parameters() if p.requires_grad)"
   ],
   "outputs": [],
   "execution_count": 69
  },
  {
   "cell_type": "markdown",
   "metadata": {
    "id": "bIEiKwF4Gxuv"
   },
   "source": [
    "### Model Training\n",
    "\n",
    "The training sequence (`train()`) using the LR reduction and early stopping. For reducing LR, the pytorch built-in implementation `ReduceLROnPlateau` is used, while the early stopping is simply executed with a counter based on the F1 score. \n",
    "\n",
    "Note that the new score has to be at least 1% relatively better than the previous best score to be considered as a significant improvement."
   ]
  },
  {
   "cell_type": "code",
   "metadata": {
    "id": "0wIC2GQ9GuRz",
    "ExecuteTime": {
     "end_time": "2025-02-27T08:18:37.057073Z",
     "start_time": "2025-02-27T08:18:37.014038Z"
    }
   },
   "source": [
    "class Trainer(object):\n",
    "\n",
    "    def __init__(self, model, data, optimizer, device, checkpoint_path=None, model_name=None):\n",
    "        self.device = device\n",
    "        self.model = model.to(self.device)\n",
    "        self.data = data\n",
    "        self.optimizer = optimizer\n",
    "        self.checkpoint_path = checkpoint_path\n",
    "        self.model_name = model_name\n",
    "\n",
    "    @staticmethod\n",
    "    def epoch_time(start_time, end_time):\n",
    "        elapsed_time = end_time - start_time\n",
    "        elapsed_mins = int(elapsed_time / 60)\n",
    "        elapsed_secs = int(elapsed_time - (elapsed_mins * 60))\n",
    "        return elapsed_mins, elapsed_secs\n",
    "\n",
    "    def f1_positive(self, preds, y, full_report=False):\n",
    "        index_o = self.data.tag_field.vocab.stoi[\"O\"]\n",
    "        # take all labels except padding and \"O\"\n",
    "        positive_labels = [i for i in range(len(self.data.tag_field.vocab.itos))\n",
    "                           if i not in (self.data.tag_pad_idx, index_o)]\n",
    "        # make the prediction one dimensional to follow sklearn f1 score input param\n",
    "        flatten_preds = [pred for sent_pred in preds for pred in sent_pred]\n",
    "        # remove prediction for padding and \"O\"\n",
    "        positive_preds = [pred for pred in flatten_preds\n",
    "                          if pred not in (self.data.tag_pad_idx, index_o)]\n",
    "        # make the true tags one dimensional to follow sklearn f1 score input param\n",
    "        flatten_y = [tag for sent_tag in y for tag in sent_tag]\n",
    "        if full_report:\n",
    "            # take all names except padding and \"O\"\n",
    "            positive_names = [self.data.tag_field.vocab.itos[i]\n",
    "                              for i in range(len(self.data.tag_field.vocab.itos))\n",
    "                              if i not in (self.data.tag_pad_idx, index_o)]\n",
    "            print(classification_report(\n",
    "                y_true=flatten_y,\n",
    "                y_pred=flatten_preds,\n",
    "                labels=positive_labels,\n",
    "                target_names=positive_names\n",
    "            ))\n",
    "            \n",
    "        # average \"micro\" means we take weighted average of the class f1 score\n",
    "        # weighted based on the number of support\n",
    "        return precision_recall_fscore_support(\n",
    "            y_true=flatten_y,\n",
    "            y_pred=flatten_preds,\n",
    "            labels=positive_labels,\n",
    "            average=\"micro\"\n",
    "        ) if len(positive_preds) > 0 else 0\n",
    "\n",
    "    def epoch(self):\n",
    "        epoch_loss = 0\n",
    "        true_tags_epoch = []\n",
    "        pred_tags_epoch = []\n",
    "        self.model.train()\n",
    "        for batch in self.data.train_iter:\n",
    "            # words = [sent len, batch size]\n",
    "            words = batch.word.to(self.device)\n",
    "            # chars = [batch size, sent len, char len]\n",
    "            chars = batch.char.to(self.device)\n",
    "            # tags = [sent len, batch size]\n",
    "            true_tags = batch.tag.to(self.device)\n",
    "            self.optimizer.zero_grad()\n",
    "            pred_tags_list, batch_loss = self.model(words, chars, true_tags)\n",
    "            pred_tags_epoch += pred_tags_list\n",
    "            # to calculate the loss and f1, we flatten true tags\n",
    "            true_tags_epoch += [\n",
    "                [tag for tag in sent_tag if tag != self.data.tag_pad_idx]\n",
    "                for sent_tag in true_tags.permute(1, 0).tolist()\n",
    "            ]\n",
    "            batch_loss.backward()\n",
    "            self.optimizer.step()\n",
    "        \n",
    "            epoch_loss += batch_loss.item()\n",
    "        \n",
    "        epoch_score = self.f1_positive(pred_tags_epoch, true_tags_epoch)\n",
    "        return epoch_loss / len(self.data.train_iter), epoch_score\n",
    " \n",
    "    def evaluate(self, iterator, full_report=False):\n",
    "        epoch_loss = 0\n",
    "        true_tags_epoch = []\n",
    "        pred_tags_epoch = []\n",
    "        self.model.eval()\n",
    "        with torch.no_grad():\n",
    "            # similar to epoch() but model is in evaluation mode and no backprop\n",
    "            for batch in iterator:\n",
    "                words = batch.word.to(self.device)\n",
    "                chars = batch.char.to(self.device)\n",
    "                true_tags = batch.tag.to(self.device)\n",
    "                pred_tags, batch_loss = self.model(words, chars, true_tags)\n",
    "                pred_tags_epoch += pred_tags\n",
    "                true_tags_epoch += [\n",
    "                    [tag for tag in sent_tag if tag != self.data.tag_pad_idx]\n",
    "                    for sent_tag in true_tags.permute(1, 0).tolist()\n",
    "                ]          \n",
    "            \n",
    "                epoch_loss += batch_loss.item()\n",
    "                \n",
    "        epoch_score = self.f1_positive(pred_tags_epoch, true_tags_epoch, full_report)\n",
    "        return epoch_loss / len(iterator), epoch_score\n",
    "\n",
    "    ### BEGIN MODIFIED SECTION: LEARNING RATE ###\n",
    "    def train(self, max_epochs, no_improvement=None):\n",
    "        history = {\n",
    "            \"num_params\": self.model.count_parameters(),\n",
    "            \"train_loss\": [],\n",
    "            \"train_f1\": [],\n",
    "            \"train_p\": [],\n",
    "            \"train_r\": [],\n",
    "            \"val_loss\": [],\n",
    "            \"val_f1\": [],\n",
    "            \"val_p\": [],\n",
    "            \"val_r\": [],\n",
    "            \"test_loss\": [],\n",
    "            \"test_f1\": [],\n",
    "            \"test_p\": [],\n",
    "            \"test_r\": [],           \n",
    "        }\n",
    "        data_train = {\n",
    "            \"models\": [],\n",
    "            \"epoch\": [],\n",
    "            \"train_loss\": [],\n",
    "            \"train_f1\": [],\n",
    "            \"train_p\": [],\n",
    "            \"train_r\": [],\n",
    "            \"val_loss\": [],\n",
    "            \"val_f1\": [],\n",
    "            \"val_p\": [],\n",
    "            \"val_r\": [],\n",
    "            \"elapsed_train_time\": [],\n",
    "        }\n",
    "        data_test = {\n",
    "            \"models\": [],\n",
    "            \"best_epoch\": [],\n",
    "            \"best_train_f1\": [],\n",
    "            \"best_val_f1\": [],\n",
    "            \"test_loss\": [],\n",
    "            \"test_f1\": [],\n",
    "            \"test_p\": [],\n",
    "            \"test_r\": [],  \n",
    "        }\n",
    "        df_train = None\n",
    "        df_test = None\n",
    "        \n",
    "        elapsed_train_time = 0\n",
    "        best_val_f1 = 0\n",
    "        best_train_f1 = 0\n",
    "        best_epoch = None\n",
    "        # scheduler object from pytorch\n",
    "        # reduce learning rate by a factor of 0.3 if there is no performance\n",
    "        # improvement after 3 epochs\n",
    "        lr_scheduler = ReduceLROnPlateau(\n",
    "            optimizer=self.optimizer,\n",
    "            patience=3,\n",
    "            factor=0.3,\n",
    "            mode=\"max\",\n",
    "            verbose=True\n",
    "        )\n",
    "        epoch = 1\n",
    "        n_stagnant = 0  # preparation for early stopping\n",
    "        stop = False\n",
    "        while not stop:\n",
    "            start_time = time.time()\n",
    "            train_loss, train_metrics = self.epoch()\n",
    "            end_time = time.time()\n",
    "            elapsed_train_time += end_time - start_time\n",
    "            \n",
    "            history[\"train_loss\"].append(train_loss)\n",
    "            history[\"train_p\"].append(train_metrics[0])\n",
    "            history[\"train_r\"].append(train_metrics[1])\n",
    "            history[\"train_f1\"].append(train_metrics[2])\n",
    "            \n",
    "            data_train[\"models\"].append(str(self.model_name))\n",
    "            data_train[\"epoch\"].append(epoch)\n",
    "            data_train[\"elapsed_train_time\"].append(elapsed_train_time)\n",
    "            data_train[\"train_loss\"].append(train_loss)\n",
    "            data_train[\"train_p\"].append(train_metrics[0])\n",
    "            data_train[\"train_r\"].append(train_metrics[1])\n",
    "            data_train[\"train_f1\"].append(train_metrics[2])\n",
    "            \n",
    "            val_loss, val_metrics = self.evaluate(self.data.val_iter)\n",
    "            \n",
    "            lr_scheduler.step(val_metrics[2])  # inform the scheduler\n",
    "            # take the current model if it is at least 1% better than the previous best F1\n",
    "            if self.checkpoint_path and val_metrics[2] > (1.01 * best_val_f1):\n",
    "                print(f\"Epoch {epoch:5d}: found better Val F1: {val_metrics[2]:.4f} (Train F1: {train_metrics[2]:.4f}), saving model...\")\n",
    "                self.model.save_state(self.checkpoint_path)   \n",
    "                best_val_f1 = val_metrics[2]\n",
    "                best_train_f1 = train_metrics[2]\n",
    "                best_epoch = epoch\n",
    "                n_stagnant = 0\n",
    "            else:\n",
    "                n_stagnant += 1\n",
    "            \n",
    "            history[\"val_loss\"].append(val_loss)\n",
    "            history[\"val_p\"].append(val_metrics[0])\n",
    "            history[\"val_r\"].append(val_metrics[1])\n",
    "            history[\"val_f1\"].append(val_metrics[2])\n",
    "            \n",
    "            data_train[\"val_loss\"].append(val_loss)\n",
    "            data_train[\"val_p\"].append(val_metrics[0])\n",
    "            data_train[\"val_r\"].append(val_metrics[1])\n",
    "            data_train[\"val_f1\"].append(val_metrics[2])\n",
    "            \n",
    "            if epoch >= max_epochs:\n",
    "                print(f\"Reach maximum number of epoch: {epoch}, stop training.\")\n",
    "                stop = True\n",
    "            elif no_improvement is not None and n_stagnant >= no_improvement:\n",
    "                print(f\"No improvement after {n_stagnant} epochs, stop training.\")\n",
    "                stop = True\n",
    "            else:\n",
    "                epoch += 1\n",
    "        \n",
    "        df_train = pd.DataFrame(data_train)\n",
    "        #wandb.log({f\"dataframe_train_{self.model_name}\": wandb.Table(dataframe=df_train)})\n",
    "                \n",
    "        if self.checkpoint_path and best_val_f1 > 0:\n",
    "            self.model.load_state(self.checkpoint_path)\n",
    "        test_loss, test_metrics = self.evaluate(self.data.test_iter)\n",
    "                    \n",
    "        history[\"best_val_f1\"] = best_val_f1\n",
    "        history[\"best_epoch\"] = best_epoch        \n",
    "        history[\"test_loss\"].append(test_loss)\n",
    "        history[\"test_p\"].append(test_metrics[0])\n",
    "        history[\"test_r\"].append(test_metrics[1])\n",
    "        history[\"test_f1\"].append(test_metrics[2])\n",
    "        \n",
    "        data_test[\"models\"].append(str(self.model_name))\n",
    "        data_test[\"best_train_f1\"].append(best_train_f1)\n",
    "        data_test[\"best_val_f1\"].append(best_val_f1)\n",
    "        data_test[\"best_epoch\"].append(best_epoch)\n",
    "        data_test[\"test_loss\"].append(test_loss)\n",
    "        data_test[\"test_p\"].append(test_metrics[0])\n",
    "        data_test[\"test_r\"].append(test_metrics[1])\n",
    "        data_test[\"test_f1\"].append(test_metrics[2])        \n",
    "        \n",
    "        df_test = pd.DataFrame(data_test)\n",
    "        #wandb.log({f\"dataframe_test_{self.model_name}\": wandb.Table(dataframe=df_test)})\n",
    "        \n",
    "        history[\"elapsed_train_time\"] = elapsed_train_time\n",
    "        return history, df_train, df_test\n",
    "    ### END MODIFIED SECTION ###\n",
    "\n",
    "    def infer(self, docs, index=None, true_tags=None):        \n",
    "        data_infer = {\n",
    "            \"models\": [],\n",
    "            \"tokens\": [],\n",
    "            \"unks\": [],\n",
    "            \"predicted_tags\": [],\n",
    "            \"true_tags\": [], \n",
    "        }\n",
    "        data_seqeval = {\n",
    "            \"sentences\": [],\n",
    "            \"tokens_length\": [],\n",
    "            \"tokens\": [],\n",
    "            \"predicted_tags\": [],\n",
    "            \"true_tags\": [],\n",
    "        }\n",
    "        df_infer = None\n",
    "        df_seqeval = None\n",
    "        self.model.eval()\n",
    "        # tokenize sentence\n",
    "        nlp = Indonesian()\n",
    "        #nlp.max_length = 2000000\n",
    "        nlp.add_pipe(nlp.create_pipe('sentencizer'))\n",
    "        doc = nlp(docs)\n",
    "        tokens_len = 0\n",
    "        for sent in doc.sents:\n",
    "            data_seqeval[\"sentences\"].append(sent.text)\n",
    "            tokens = [token.text for token in nlp(sent.text)]\n",
    "            data_seqeval[\"tokens\"].append(tokens)\n",
    "            max_word_len = max([len(token) for token in tokens])\n",
    "            # transform to indices based on corpus vocab\n",
    "            numericalized_tokens = [self.data.word_field.vocab.stoi[token.lower()] for token in tokens]\n",
    "            numericalized_chars = []\n",
    "            char_pad_id = self.data.char_pad_idx\n",
    "            for token in tokens:\n",
    "                numericalized_chars.append(\n",
    "                    [self.data.char_field.vocab.stoi[char] for char in token]\n",
    "                    + [char_pad_id for _ in range(max_word_len - len(token))]\n",
    "                )\n",
    "            # find unknown words\n",
    "            unk_idx = self.data.word_field.vocab.stoi[self.data.word_field.unk_token]\n",
    "            unks = [t for t, n in zip(tokens, numericalized_tokens) if n == unk_idx]\n",
    "            # begin prediction\n",
    "            token_tensor = torch.as_tensor(numericalized_tokens)\n",
    "\n",
    "            token_tensor = token_tensor.unsqueeze(-1).to(self.device)\n",
    "            char_tensor = torch.as_tensor(numericalized_chars)\n",
    "            char_tensor = char_tensor.unsqueeze(0).to(self.device)\n",
    "            predictions, _ = self.model(token_tensor, char_tensor)\n",
    "            # convert results to tags\n",
    "            predicted_tags = [self.data.tag_field.vocab.itos[t] for t in predictions[0]]\n",
    "            # print inferred tags\n",
    "            max_len_token = max([len(token) for token in tokens] + [len('word')])\n",
    "            max_len_tag = max([len(tag) for tag in predicted_tags] + [len('pred')])           \n",
    "            #print(\n",
    "            #    f\"{'word'.ljust(max_len_token)}\\t{'unk'.ljust(max_len_token)}\\t{'pred tag'.ljust(max_len_tag)}\"\n",
    "            #    + (\"\\ttrue tag\" if true_tags else \"\")\n",
    "            #)\n",
    "            endpos = tokens_len+len(tokens)\n",
    "            t_tags = true_tags[tokens_len:endpos]\n",
    "            p_tags = []\n",
    "            for i, token in enumerate(tokens):\n",
    "                is_unk = \"unk\" if token in unks else \"-\"\n",
    "                data_infer[\"models\"].append(str(self.model_name))\n",
    "                data_infer[\"tokens\"].append(str(token))\n",
    "                data_infer[\"unks\"].append(str(is_unk))\n",
    "                data_infer[\"predicted_tags\"].append(str(predicted_tags[i]))\n",
    "                data_infer[\"true_tags\"].append(str(true_tags[i]))\n",
    "                #t_tags.append(str(true_tags[i+tokens_len]).strip())\n",
    "                p_tags.append(str(predicted_tags[i]).strip())     \n",
    "                #print(\n",
    "                #    f\"{token.ljust(max_len_token)}\\t{is_unk.ljust(max_len_token)}\\t{predicted_tags[i].ljust(max_len_tag)}\"\n",
    "                #    + (f\"\\t{true_tags[i]}\" if true_tags else \"-\")\n",
    "                #)\n",
    "           \n",
    "            \n",
    "            data_seqeval[\"true_tags\"].append(str(t_tags))\n",
    "            data_seqeval[\"predicted_tags\"].append(str(p_tags))\n",
    "            tokens_len = tokens_len + len(tokens)\n",
    "            data_seqeval[\"tokens_length\"].append(str(len(tokens)))   \n",
    " \n",
    "        df_infer = pd.DataFrame(data_infer)\n",
    "        wandb.log({f\"dataframe_infer_{self.model_name}\": wandb.Table(dataframe=df_infer)})  \n",
    "        df_infer.to_csv(f\"{DRIVE_ROOT}/models-wandb-7030-v2/infer/{model_name}/df_infer_{model_name}_{index}.csv\")\n",
    "\n",
    "        df_seqeval = pd.DataFrame(data_seqeval)\n",
    "        wandb.log({f\"dataframe_seqeval_{self.model_name}\": wandb.Table(dataframe=df_seqeval)})\n",
    "        df_seqeval.to_csv(f\"{DRIVE_ROOT}/models-wandb-7030-v2/seqeval/{model_name}/df_seqeval_{model_name}_{index}.csv\")\n",
    "        return tokens, predicted_tags, unks\n",
    "        #return tokens, predicted_tags, unks, df_infer, df_seqeval"
   ],
   "outputs": [],
   "execution_count": 70
  },
  {
   "metadata": {},
   "cell_type": "code",
   "outputs": [],
   "execution_count": null,
   "source": "corpus"
  },
  {
   "cell_type": "markdown",
   "metadata": {
    "id": "UpFcgCoTg-B_"
   },
   "source": [
    "LR Finder for each of the architecture config. The plot shown for each model represents the loss at every learning rate value. The rule of thumb is to take the value on which the loss has been steadily decreasing and not yet reach the minimum."
   ]
  },
  {
   "cell_type": "code",
   "metadata": {
    "colab": {
     "base_uri": "https://localhost:8080/",
     "height": 1000
    },
    "id": "I1a_GGkGG5Xm",
    "outputId": "3ef771dc-9e87-4cfd-81eb-82cf4e15a59f",
    "ExecuteTime": {
     "end_time": "2025-02-27T08:18:37.088300Z",
     "start_time": "2025-02-27T08:18:37.074299Z"
    }
   },
   "source": [
    "# configurations building block\n",
    "base = {\n",
    "    \"word_input_dim\": len(corpus.word_field.vocab),\n",
    "    \"char_pad_idx\": corpus.char_pad_idx,\n",
    "    \"word_pad_idx\": corpus.word_pad_idx,\n",
    "    \"tag_names\": corpus.tag_field.vocab.itos,\n",
    "    \"device\": use_device\n",
    "}\n",
    "w2v = {\n",
    "    \"word_emb_pretrained\": corpus.word_field.vocab.vectors if corpus.wv_model else None\n",
    "}\n",
    "cnn = {\n",
    "    \"use_char_emb\": True,\n",
    "    \"char_input_dim\": len(corpus.char_field.vocab),\n",
    "    \"char_emb_dim\": 37,\n",
    "    \"char_emb_dropout\": 0.25,\n",
    "    \"char_cnn_filter_num\": 4,\n",
    "    \"char_cnn_kernel_size\": 3,\n",
    "    \"char_cnn_dropout\": 0.25\n",
    "}\n",
    "attn = {\n",
    "    \"attn_heads\": 16,\n",
    "    \"attn_dropout\": 0.25\n",
    "}\n",
    "transformer = {\n",
    "    \"model_arch\": \"transformer\",\n",
    "    \"trf_layers\": 2,\n",
    "    \"fc_hidden\": 256,\n",
    "}\n",
    "configs = {\n",
    "    \"bilstm\": base,\n",
    "    \"bilstm+w2v\": {**base, **w2v},\n",
    "    \"bilstm+w2v+cnn\": {**base, **w2v, **cnn},\n",
    "    \"bilstm+w2v+cnn+attn\": {**base, **w2v, **cnn, **attn},\n",
    "    \"transformer+w2v+cnn\": {**base, **transformer, **w2v, **cnn, **attn}\n",
    "}\n",
    "\n"
   ],
   "outputs": [
    {
     "ename": "AttributeError",
     "evalue": "'Corpus' object has no attribute 'wv_model'",
     "output_type": "error",
     "traceback": [
      "\u001B[1;31m---------------------------------------------------------------------------\u001B[0m",
      "\u001B[1;31mAttributeError\u001B[0m                            Traceback (most recent call last)",
      "\u001B[1;32m<ipython-input-71-2571a2304712>\u001B[0m in \u001B[0;36m<module>\u001B[1;34m\u001B[0m\n\u001B[0;32m      8\u001B[0m }\n\u001B[0;32m      9\u001B[0m w2v = {\n\u001B[1;32m---> 10\u001B[1;33m     \u001B[1;34m\"word_emb_pretrained\"\u001B[0m\u001B[1;33m:\u001B[0m \u001B[0mcorpus\u001B[0m\u001B[1;33m.\u001B[0m\u001B[0mword_field\u001B[0m\u001B[1;33m.\u001B[0m\u001B[0mvocab\u001B[0m\u001B[1;33m.\u001B[0m\u001B[0mvectors\u001B[0m \u001B[1;32mif\u001B[0m \u001B[0mcorpus\u001B[0m\u001B[1;33m.\u001B[0m\u001B[0mwv_model\u001B[0m \u001B[1;32melse\u001B[0m \u001B[1;32mNone\u001B[0m\u001B[1;33m\u001B[0m\u001B[1;33m\u001B[0m\u001B[0m\n\u001B[0m\u001B[0;32m     11\u001B[0m }\n\u001B[0;32m     12\u001B[0m cnn = {\n",
      "\u001B[1;31mAttributeError\u001B[0m: 'Corpus' object has no attribute 'wv_model'"
     ]
    }
   ],
   "execution_count": 71
  },
  {
   "cell_type": "code",
   "execution_count": 19,
   "metadata": {},
   "outputs": [],
   "source": [
    "search_space = {\n",
    "    \"bilstm\": (1e-5, 10),\n",
    "    \"bilstm+w2v\": (1e-5, 10),\n",
    "    \"bilstm+w2v+cnn\": (1e-5, 2),\n",
    "    \"bilstm+w2v+cnn+attn\": (1e-5, 0.2),\n",
    "    \"transformer+w2v+cnn\": (1e-6, 0.2)\n",
    "}"
   ]
  },
  {
   "cell_type": "code",
   "execution_count": 20,
   "metadata": {},
   "outputs": [
    {
     "name": "stdout",
     "output_type": "stream",
     "text": [
      "Begin LR Finder for model: bilstm\n",
      "Learning rate search finished. See the graph with {finder_name}.plot()\n",
      "Suggested LR: 7.74E-03\n"
     ]
    },
    {
     "data": {
      "image/png": "[encoded data removed]",
      "text/plain": [
       "<Figure size 432x288 with 1 Axes>"
      ]
     },
     "metadata": {
      "needs_background": "light"
     },
     "output_type": "display_data"
    },
    {
     "name": "stdout",
     "output_type": "stream",
     "text": [
      "Begin LR Finder for model: bilstm+w2v\n",
      "Learning rate search finished. See the graph with {finder_name}.plot()\n",
      "Suggested LR: 7.74E-03\n"
     ]
    },
    {
     "data": {
      "image/png": "[encoded data removed]",
      "text/plain": [
       "<Figure size 432x288 with 1 Axes>"
      ]
     },
     "metadata": {
      "needs_background": "light"
     },
     "output_type": "display_data"
    },
    {
     "name": "stdout",
     "output_type": "stream",
     "text": [
      "Begin LR Finder for model: bilstm+w2v+cnn\n",
      "Learning rate search finished. See the graph with {finder_name}.plot()\n",
      "Suggested LR: 5.61E-03\n"
     ]
    },
    {
     "data": {
      "image/png": "[encoded data removed]",
      "text/plain": [
       "<Figure size 432x288 with 1 Axes>"
      ]
     },
     "metadata": {
      "needs_background": "light"
     },
     "output_type": "display_data"
    },
    {
     "name": "stdout",
     "output_type": "stream",
     "text": [
      "Begin LR Finder for model: bilstm+w2v+cnn+attn\n",
      "Learning rate search finished. See the graph with {finder_name}.plot()\n",
      "Suggested LR: 5.11E-03\n"
     ]
    },
    {
     "data": {
      "image/png": "[encoded data removed]",
      "text/plain": [
       "<Figure size 432x288 with 1 Axes>"
      ]
     },
     "metadata": {
      "needs_background": "light"
     },
     "output_type": "display_data"
    },
    {
     "name": "stdout",
     "output_type": "stream",
     "text": [
      "Begin LR Finder for model: transformer+w2v+cnn\n",
      "Learning rate search finished. See the graph with {finder_name}.plot()\n",
      "Suggested LR: 3.72E-05\n"
     ]
    },
    {
     "data": {
      "image/png": "[encoded data removed]",
      "text/plain": [
       "<Figure size 432x288 with 1 Axes>"
      ]
     },
     "metadata": {
      "needs_background": "light"
     },
     "output_type": "display_data"
    }
   ],
   "source": [
    "for model_name in configs:\n",
    "    print(f\"Begin LR Finder for model: {model_name}\")\n",
    "    model = NERModel(**configs[model_name])\n",
    "    start_lr, end_lr = search_space[model_name]\n",
    "    lr_finder = LRFinder(model, Adam(model.parameters(), lr=start_lr, weight_decay=1e-2), device=use_device)\n",
    "    lr_finder.range_test(corpus.train_iter, corpus.val_iter, end_lr=end_lr, num_iter=55, step_mode=\"exp\", diverge_th=3, disable_progress_bar=True,model_name=model_name)\n",
    "    data_table_lr = wandb.Table(dataframe=lr_finder.data_table)\n",
    "    wandb.log({f\"key_table_lr_{model_name}\":data_table_lr})\n",
    "    lr_finder.plot(skip_start=10, skip_end=0, suggest_lr=True,model_name=model_name)\n",
    "    data_table_lr_suggest = wandb.Table(dataframe=lr_finder.data_table_img)\n",
    "    wandb.log({f\"key_table_lr_suggest_{model_name}\":data_table_lr_suggest})\n",
    "    lr_finder.reset()"
   ]
  },
  {
   "cell_type": "markdown",
   "metadata": {},
   "source": [
    "### Model Experiments"
   ]
  },
  {
   "cell_type": "code",
   "execution_count": 21,
   "metadata": {
    "colab": {
     "base_uri": "https://localhost:8080/",
     "height": 1000
    },
    "id": "ovpuM6NXG_iF",
    "outputId": "d4628277-d5cf-468b-f9e9-b79ffffc217a"
   },
   "outputs": [],
   "source": [
    "# New initial learning rate\n",
    "lrs = {\n",
    "    \"bilstm\": 7.74e-03,\n",
    "    \"bilstm+w2v\": 7.74e-03,\n",
    "    \"bilstm+w2v+cnn\": 5.61e-03,\n",
    "    \"bilstm+w2v+cnn+attn\": 5.11e-03,\n",
    "    \"transformer+w2v+cnn\": 3.72e-05\n",
    "}\n",
    "max_epochs = 50\n",
    "no_improvement = 10\n",
    "histories = {}\n",
    "df_train_metrics = None\n",
    "df_test_metrics = None"
   ]
  },
  {
   "cell_type": "code",
   "execution_count": 22,
   "metadata": {},
   "outputs": [
    {
     "name": "stdout",
     "output_type": "stream",
     "text": [
      "Start Training: bilstm\n",
      "Epoch     1: found better Val F1: 0.5077 (Train F1: 0.4606), saving model...\n",
      "Epoch     2: found better Val F1: 0.6720 (Train F1: 0.6381), saving model...\n",
      "Epoch     4: found better Val F1: 0.7008 (Train F1: 0.6813), saving model...\n",
      "Epoch    14: found better Val F1: 0.7122 (Train F1: 0.7146), saving model...\n",
      "Epoch    15: found better Val F1: 0.7203 (Train F1: 0.7106), saving model...\n",
      "Epoch    19: reducing learning rate of group 0 to 2.3220e-03.\n",
      "Epoch    20: found better Val F1: 0.7351 (Train F1: 0.7707), saving model...\n",
      "Epoch    22: found better Val F1: 0.7457 (Train F1: 0.7969), saving model...\n",
      "Epoch    26: reducing learning rate of group 0 to 6.9660e-04.\n",
      "Epoch    27: found better Val F1: 0.7632 (Train F1: 0.8598), saving model...\n",
      "Epoch    31: reducing learning rate of group 0 to 2.0898e-04.\n",
      "Epoch    35: reducing learning rate of group 0 to 6.2694e-05.\n",
      "No improvement after 10 epochs, stop training.\n",
      "Done Training: bilstm\n",
      "Model Information:\n",
      "NERModel(\n",
      "  (embeddings): Embeddings(\n",
      "    (word_emb): Embedding(30050, 300, padding_idx=1)\n",
      "    (word_emb_dropout): Dropout(p=0.5, inplace=False)\n",
      "  )\n",
      "  (encoder): LSTMAttn(\n",
      "    (lstm): LSTM(300, 64, num_layers=2, dropout=0.1, bidirectional=True)\n",
      "  )\n",
      "  (crf): CRF(\n",
      "    (fc_dropout): Dropout(p=0.25, inplace=False)\n",
      "    (fc): Linear(in_features=128, out_features=37, bias=True)\n",
      "    (crf): CRF(num_tags=37)\n",
      "  )\n",
      ")\n",
      "Start Training: bilstm+w2v\n",
      "Epoch     1: found better Val F1: 0.6861 (Train F1: 0.5465), saving model...\n",
      "Epoch     2: found better Val F1: 0.7049 (Train F1: 0.6734), saving model...\n",
      "Epoch     7: found better Val F1: 0.7147 (Train F1: 0.7050), saving model...\n",
      "Epoch    11: reducing learning rate of group 0 to 2.3220e-03.\n",
      "Epoch    12: found better Val F1: 0.7311 (Train F1: 0.7549), saving model...\n",
      "Epoch    14: found better Val F1: 0.7426 (Train F1: 0.7810), saving model...\n",
      "Epoch    19: reducing learning rate of group 0 to 6.9660e-04.\n",
      "Epoch    21: found better Val F1: 0.7638 (Train F1: 0.8764), saving model...\n",
      "Epoch    26: reducing learning rate of group 0 to 2.0898e-04.\n",
      "Epoch    30: reducing learning rate of group 0 to 6.2694e-05.\n",
      "No improvement after 10 epochs, stop training.\n",
      "Done Training: bilstm+w2v\n",
      "Model Information:\n",
      "NERModel(\n",
      "  (embeddings): Embeddings(\n",
      "    (word_emb): Embedding(30050, 300, padding_idx=1)\n",
      "    (word_emb_dropout): Dropout(p=0.5, inplace=False)\n",
      "  )\n",
      "  (encoder): LSTMAttn(\n",
      "    (lstm): LSTM(300, 64, num_layers=2, dropout=0.1, bidirectional=True)\n",
      "  )\n",
      "  (crf): CRF(\n",
      "    (fc_dropout): Dropout(p=0.25, inplace=False)\n",
      "    (fc): Linear(in_features=128, out_features=37, bias=True)\n",
      "    (crf): CRF(num_tags=37)\n",
      "  )\n",
      ")\n",
      "Start Training: bilstm+w2v+cnn\n",
      "Epoch     1: found better Val F1: 0.6744 (Train F1: 0.5183), saving model...\n",
      "Epoch     3: found better Val F1: 0.7236 (Train F1: 0.7154), saving model...\n",
      "Epoch     5: found better Val F1: 0.7344 (Train F1: 0.7326), saving model...\n",
      "Epoch    19: reducing learning rate of group 0 to 1.6830e-03.\n",
      "Epoch    21: found better Val F1: 0.7516 (Train F1: 0.8211), saving model...\n",
      "Epoch    25: reducing learning rate of group 0 to 5.0490e-04.\n",
      "Epoch    30: reducing learning rate of group 0 to 1.5147e-04.\n",
      "No improvement after 10 epochs, stop training.\n",
      "Done Training: bilstm+w2v+cnn\n",
      "Model Information:\n",
      "NERModel(\n",
      "  (embeddings): Embeddings(\n",
      "    (word_emb): Embedding(30050, 300, padding_idx=1)\n",
      "    (word_emb_dropout): Dropout(p=0.5, inplace=False)\n",
      "    (char_emb): Embedding(101, 37, padding_idx=1)\n",
      "    (char_emb_dropout): Dropout(p=0.25, inplace=False)\n",
      "    (char_cnn): Conv1d(37, 148, kernel_size=(3,), stride=(1,), groups=37)\n",
      "    (char_cnn_dropout): Dropout(p=0.25, inplace=False)\n",
      "  )\n",
      "  (encoder): LSTMAttn(\n",
      "    (lstm): LSTM(448, 64, num_layers=2, dropout=0.1, bidirectional=True)\n",
      "  )\n",
      "  (crf): CRF(\n",
      "    (fc_dropout): Dropout(p=0.25, inplace=False)\n",
      "    (fc): Linear(in_features=128, out_features=37, bias=True)\n",
      "    (crf): CRF(num_tags=37)\n",
      "  )\n",
      ")\n",
      "Start Training: bilstm+w2v+cnn+attn\n",
      "Epoch     1: found better Val F1: 0.6438 (Train F1: 0.4797), saving model...\n",
      "Epoch     2: found better Val F1: 0.6596 (Train F1: 0.6406), saving model...\n",
      "Epoch     3: found better Val F1: 0.7443 (Train F1: 0.6675), saving model...\n",
      "Epoch     4: found better Val F1: 0.7666 (Train F1: 0.6853), saving model...\n",
      "Epoch     8: found better Val F1: 0.7930 (Train F1: 0.7328), saving model...\n",
      "Epoch    12: reducing learning rate of group 0 to 1.5330e-03.\n",
      "Epoch    16: reducing learning rate of group 0 to 4.5990e-04.\n",
      "No improvement after 10 epochs, stop training.\n",
      "Done Training: bilstm+w2v+cnn+attn\n",
      "Model Information:\n",
      "NERModel(\n",
      "  (embeddings): Embeddings(\n",
      "    (word_emb): Embedding(30050, 300, padding_idx=1)\n",
      "    (word_emb_dropout): Dropout(p=0.5, inplace=False)\n",
      "    (char_emb): Embedding(101, 37, padding_idx=1)\n",
      "    (char_emb_dropout): Dropout(p=0.25, inplace=False)\n",
      "    (char_cnn): Conv1d(37, 148, kernel_size=(3,), stride=(1,), groups=37)\n",
      "    (char_cnn_dropout): Dropout(p=0.25, inplace=False)\n",
      "  )\n",
      "  (encoder): LSTMAttn(\n",
      "    (lstm): LSTM(448, 64, num_layers=2, dropout=0.1, bidirectional=True)\n",
      "    (attn): MultiheadAttention(\n",
      "      (out_proj): Linear(in_features=128, out_features=128, bias=True)\n",
      "    )\n",
      "  )\n",
      "  (crf): CRF(\n",
      "    (fc_dropout): Dropout(p=0.25, inplace=False)\n",
      "    (fc): Linear(in_features=128, out_features=37, bias=True)\n",
      "    (crf): CRF(num_tags=37)\n",
      "  )\n",
      ")\n",
      "Start Training: transformer+w2v+cnn\n",
      "Epoch     1: found better Val F1: 0.4365 (Train F1: 0.2605), saving model...\n",
      "Epoch     2: found better Val F1: 0.5808 (Train F1: 0.4541), saving model...\n",
      "Epoch     3: found better Val F1: 0.6183 (Train F1: 0.5248), saving model...\n",
      "Epoch     4: found better Val F1: 0.6371 (Train F1: 0.5588), saving model...\n",
      "Epoch     5: found better Val F1: 0.6496 (Train F1: 0.5765), saving model...\n",
      "Epoch     6: found better Val F1: 0.6617 (Train F1: 0.5883), saving model...\n",
      "Epoch     7: found better Val F1: 0.6709 (Train F1: 0.6026), saving model...\n",
      "Epoch     8: found better Val F1: 0.7090 (Train F1: 0.6291), saving model...\n",
      "Epoch    10: found better Val F1: 0.7271 (Train F1: 0.6578), saving model...\n",
      "Epoch    12: found better Val F1: 0.7354 (Train F1: 0.6711), saving model...\n",
      "Epoch    13: found better Val F1: 0.7533 (Train F1: 0.6803), saving model...\n",
      "Epoch    18: found better Val F1: 0.7667 (Train F1: 0.7017), saving model...\n",
      "Epoch    22: reducing learning rate of group 0 to 1.1160e-05.\n",
      "No improvement after 10 epochs, stop training.\n",
      "Done Training: transformer+w2v+cnn\n",
      "Model Information:\n",
      "NERModel(\n",
      "  (embeddings): Embeddings(\n",
      "    (word_emb): Embedding(30050, 300, padding_idx=1)\n",
      "    (word_emb_dropout): Dropout(p=0.5, inplace=False)\n",
      "    (char_emb): Embedding(101, 37, padding_idx=1)\n",
      "    (char_emb_dropout): Dropout(p=0.25, inplace=False)\n",
      "    (char_cnn): Conv1d(37, 148, kernel_size=(3,), stride=(1,), groups=37)\n",
      "    (char_cnn_dropout): Dropout(p=0.25, inplace=False)\n",
      "  )\n",
      "  (encoder): Transformer(\n",
      "    (position_encoder): PositionalEncoding(\n",
      "      (dropout): Dropout(p=0.1, inplace=False)\n",
      "    )\n",
      "    (trf): TransformerEncoder(\n",
      "      (layers): ModuleList(\n",
      "        (0): TransformerEncoderLayer(\n",
      "          (self_attn): MultiheadAttention(\n",
      "            (out_proj): Linear(in_features=448, out_features=448, bias=True)\n",
      "          )\n",
      "          (linear1): Linear(in_features=448, out_features=2048, bias=True)\n",
      "          (dropout): Dropout(p=0.25, inplace=False)\n",
      "          (linear2): Linear(in_features=2048, out_features=448, bias=True)\n",
      "          (norm1): LayerNorm((448,), eps=1e-05, elementwise_affine=True)\n",
      "          (norm2): LayerNorm((448,), eps=1e-05, elementwise_affine=True)\n",
      "          (dropout1): Dropout(p=0.25, inplace=False)\n",
      "          (dropout2): Dropout(p=0.25, inplace=False)\n",
      "        )\n",
      "        (1): TransformerEncoderLayer(\n",
      "          (self_attn): MultiheadAttention(\n",
      "            (out_proj): Linear(in_features=448, out_features=448, bias=True)\n",
      "          )\n",
      "          (linear1): Linear(in_features=448, out_features=2048, bias=True)\n",
      "          (dropout): Dropout(p=0.25, inplace=False)\n",
      "          (linear2): Linear(in_features=2048, out_features=448, bias=True)\n",
      "          (norm1): LayerNorm((448,), eps=1e-05, elementwise_affine=True)\n",
      "          (norm2): LayerNorm((448,), eps=1e-05, elementwise_affine=True)\n",
      "          (dropout1): Dropout(p=0.25, inplace=False)\n",
      "          (dropout2): Dropout(p=0.25, inplace=False)\n",
      "        )\n",
      "      )\n",
      "    )\n",
      "    (fc): Linear(in_features=448, out_features=256, bias=True)\n",
      "    (fc_gelu): GELU()\n",
      "    (fc_norm): LayerNorm((256,), eps=1e-05, elementwise_affine=True)\n",
      "  )\n",
      "  (crf): CRF(\n",
      "    (fc_dropout): Dropout(p=0.25, inplace=False)\n",
      "    (fc): Linear(in_features=256, out_features=37, bias=True)\n",
      "    (crf): CRF(num_tags=37)\n",
      "  )\n",
      ")\n"
     ]
    }
   ],
   "source": [
    "for model_name in configs:\n",
    "    print(f\"Start Training: {model_name}\")\n",
    "    model = NERModel(**configs[model_name])\n",
    "    wandb.watch(model,log=\"all\")\n",
    "    \n",
    "    trainer = Trainer(\n",
    "        model=model,\n",
    "        data=corpus,\n",
    "        optimizer=Adam(model.parameters(), lr=lrs[model_name], weight_decay=1e-2),  # add weight decay for Adam\n",
    "        device=use_device,\n",
    "        checkpoint_path=f\"{DRIVE_ROOT}/models-wandb-7030-v2/{model_name}.pt\",\n",
    "        model_name=f\"{model_name}\"\n",
    "    )\n",
    "    \n",
    "    histories[model_name], df_train_metrics, df_test_metrics = trainer.train(max_epochs, no_improvement)\n",
    "    data_table_train = wandb.Table(dataframe=df_train_metrics)\n",
    "    wandb.log({f\"key_table_train_val_metrics_{model_name}\":data_table_train})\n",
    "    data_table_test = wandb.Table(dataframe=df_test_metrics)\n",
    "    wandb.log({f\"key_table_test_metrics_{model_name}\":data_table_test})\n",
    "    print(f\"Done Training: {model_name}\")\n",
    "    print(f\"Model Information:\")\n",
    "    print(model)"
   ]
  },
  {
   "cell_type": "markdown",
   "metadata": {},
   "source": [
    "### Model Information"
   ]
  },
  {
   "cell_type": "code",
   "execution_count": 23,
   "metadata": {},
   "outputs": [],
   "source": [
    "columns_info=[\"model\",\"num_params\",\"training_time\"]\n",
    "data_model_info = wandb.Table(columns=columns_info)"
   ]
  },
  {
   "cell_type": "code",
   "execution_count": 24,
   "metadata": {
    "colab": {
     "base_uri": "https://localhost:8080/",
     "height": 127
    },
    "id": "46s9a4xYu5CU",
    "outputId": "5c5f885c-4c28-49e1-c9f3-3e9d2c95effe"
   },
   "outputs": [
    {
     "name": "stdout",
     "output_type": "stream",
     "text": [
      "MODEL NAME         \tNUM PARAMS\tTRAINING TIME\n",
      "bilstm             \t9,307,936\t65m 40s\n",
      "bilstm+w2v         \t9,307,936\t55m 2s\n",
      "bilstm+w2v+cnn     \t9,388,041\t71m 2s\n",
      "bilstm+w2v+cnn+attn\t9,454,089\t41m 57s\n",
      "transformer+w2v+cnn\t14,433,545\t72m 38s\n"
     ]
    }
   ],
   "source": [
    "max_len_model_name = max([len(m) for m in histories])\n",
    "print(f\"{'MODEL NAME'.ljust(max_len_model_name)}\\t{'NUM PARAMS'.ljust(10)}\\tTRAINING TIME\")\n",
    "for model_name, history in histories.items():\n",
    "    print(f\"{model_name.ljust(max_len_model_name)}\\t{history['num_params']:,}\\t{int(history['elapsed_train_time']//60)}m {int(history['elapsed_train_time'] % 60)}s\")\n",
    "    data_model_info.add_data(model_name,history['num_params'],f\"{int(history['elapsed_train_time']//60)}m {int(history['elapsed_train_time'] % 60)}s\")\n",
    "    wandb.log({\"key_table_model_info\":data_model_info})"
   ]
  },
  {
   "cell_type": "code",
   "execution_count": 25,
   "metadata": {
    "colab": {
     "base_uri": "https://localhost:8080/",
     "height": 730
    },
    "id": "Xwdd9D6Bl9GS",
    "outputId": "d7e14640-b129-40e4-e8ac-529f8389f09e"
   },
   "outputs": [
    {
     "data": {
      "image/png": "[encoded data removed]",
      "text/plain": [
       "<Figure size 1080x864 with 2 Axes>"
      ]
     },
     "metadata": {
      "needs_background": "light"
     },
     "output_type": "display_data"
    }
   ],
   "source": [
    "model_name = \"bilstm\"\n",
    "val_loss1 = histories[model_name][\"val_loss\"]\n",
    "val_loss2 = histories[\"bilstm+w2v\"][\"val_loss\"]\n",
    "fig, axs = plt.subplots(2, 1, figsize=(15, 12))\n",
    "for model_name in histories:\n",
    "    axs[0].plot(histories[model_name][\"val_loss\"], dashes=[6, 2], label=model_name)\n",
    "    axs[0].plot(histories[model_name][\"train_loss\"], label=model_name)\n",
    "    axs[1].plot(histories[model_name][\"val_f1\"], dashes=[6, 2], label=model_name)\n",
    "    axs[1].plot(histories[model_name][\"train_f1\"], label=model_name)\n",
    "_ = axs[0].set_title(\"Val and Train Loss\")\n",
    "_ = axs[1].set_title(\"Val dan Train F1\")\n",
    "_ = axs[1].set_xlabel(\"epochs\")\n",
    "_ = axs[0].set_ylabel(\"loss\")\n",
    "_ = axs[1].set_ylabel(\"F1\")\n",
    "_ = axs[0].legend(loc=\"upper right\")\n",
    "_ = axs[1].legend(loc=\"lower right\")\n",
    "\n",
    "wandb.log({\"train_val_loss_f1_chart\":wandb.Image(fig)})"
   ]
  },
  {
   "cell_type": "code",
   "execution_count": 26,
   "metadata": {
    "colab": {
     "base_uri": "https://localhost:8080/",
     "height": 281
    },
    "id": "U4ti17nHl_1T",
    "outputId": "7be5a563-0f24-4c98-ac47-a908247ab374"
   },
   "outputs": [
    {
     "name": "stdout",
     "output_type": "stream",
     "text": [
      "[0.7653595371475802, 0.7671083185357191, 0.7674823199801171, 0.7763236422542416, 0.801447867926194]\n"
     ]
    },
    {
     "data": {
      "image/png": "[encoded data removed]",
      "text/plain": [
       "<Figure size 432x288 with 1 Axes>"
      ]
     },
     "metadata": {
      "needs_background": "light"
     },
     "output_type": "display_data"
    }
   ],
   "source": [
    "model_test_f1 = [(m, histories[m][\"test_f1\"]) for m in histories]\n",
    "model_test_f1_sorted = sorted(model_test_f1, key=lambda m: m[1])\n",
    "model_names = [m[0] for m in model_test_f1_sorted]\n",
    "y_pos = list(range(len(model_names)))\n",
    "f1_scores = [m[1] for m in model_test_f1_sorted]\n",
    "flatten_f1 =  [element for sublist in f1_scores for element in sublist]\n",
    "print(str(flatten_f1))\n",
    "\n",
    "fig, ax = plt.subplots()\n",
    "_ = ax.barh(y_pos, flatten_f1, align='center')\n",
    "_ = ax.set_yticks(y_pos)\n",
    "_ = ax.set_yticklabels(model_names)\n",
    "_ = ax.set_title(\"Test F1\")\n",
    "\n",
    "wandb.log({\"test_f1_chart\":wandb.Image(fig)})"
   ]
  },
  {
   "cell_type": "markdown",
   "metadata": {},
   "source": [
    "### Model Testing"
   ]
  },
  {
   "cell_type": "code",
   "execution_count": 27,
   "metadata": {},
   "outputs": [],
   "source": [
    "from ast import literal_eval\n",
    "from tqdm import tqdm"
   ]
  },
  {
   "cell_type": "code",
   "execution_count": 28,
   "metadata": {},
   "outputs": [],
   "source": [
    "data_test = pd.read_csv(\"/home/jupyter-pfsa-id/corpus/data_paragraph.csv\",converters={'tags': literal_eval})"
   ]
  },
  {
   "cell_type": "code",
   "execution_count": 29,
   "metadata": {},
   "outputs": [
    {
     "data": {
      "text/plain": [
       "(144, 5)"
      ]
     },
     "execution_count": 29,
     "metadata": {},
     "output_type": "execute_result"
    }
   ],
   "source": [
    "data_test.shape"
   ]
  },
  {
   "cell_type": "code",
   "execution_count": 30,
   "metadata": {
    "tags": []
   },
   "outputs": [
    {
     "name": "stdout",
     "output_type": "stream",
     "text": [
      "Sample inferences for model: bilstm\n"
     ]
    },
    {
     "name": "stderr",
     "output_type": "stream",
     "text": [
      "100%|██████████| 144/144 [45:52<00:00, 19.11s/it]\n",
      "  0%|          | 0/144 [00:00<?, ?it/s]"
     ]
    },
    {
     "name": "stdout",
     "output_type": "stream",
     "text": [
      "\n",
      "Sample inferences for model: bilstm+w2v\n"
     ]
    },
    {
     "name": "stderr",
     "output_type": "stream",
     "text": [
      " 96%|█████████▌| 138/144 [43:36<01:52, 18.82s/it]\u001B[34m\u001B[1mwandb\u001B[0m: \u001B[33mWARNING\u001B[0m A graphql request initiated by the public wandb API timed out (timeout=9 sec). Create a new API with an integer timeout larger than 9, e.g., `api = wandb.Api(timeout=19)` to increase the graphql timeout.\n",
      "100%|██████████| 144/144 [45:43<00:00, 19.05s/it]\n",
      "  0%|          | 0/144 [00:00<?, ?it/s]"
     ]
    },
    {
     "name": "stdout",
     "output_type": "stream",
     "text": [
      "\n",
      "Sample inferences for model: bilstm+w2v+cnn\n"
     ]
    },
    {
     "name": "stderr",
     "output_type": "stream",
     "text": [
      "100%|██████████| 144/144 [45:52<00:00, 19.12s/it]\n",
      "  0%|          | 0/144 [00:00<?, ?it/s]"
     ]
    },
    {
     "name": "stdout",
     "output_type": "stream",
     "text": [
      "\n",
      "Sample inferences for model: bilstm+w2v+cnn+attn\n"
     ]
    },
    {
     "name": "stderr",
     "output_type": "stream",
     "text": [
      " 75%|███████▌  | 108/144 [34:31<11:39, 19.43s/it]\u001B[34m\u001B[1mwandb\u001B[0m: \u001B[33mWARNING\u001B[0m A graphql request initiated by the public wandb API timed out (timeout=9 sec). Create a new API with an integer timeout larger than 9, e.g., `api = wandb.Api(timeout=19)` to increase the graphql timeout.\n",
      "100%|██████████| 144/144 [46:08<00:00, 19.23s/it]\n",
      "  0%|          | 0/144 [00:00<?, ?it/s]"
     ]
    },
    {
     "name": "stdout",
     "output_type": "stream",
     "text": [
      "\n",
      "Sample inferences for model: transformer+w2v+cnn\n"
     ]
    },
    {
     "name": "stderr",
     "output_type": "stream",
     "text": [
      "100%|██████████| 144/144 [45:40<00:00, 19.03s/it]"
     ]
    },
    {
     "name": "stdout",
     "output_type": "stream",
     "text": [
      "\n"
     ]
    },
    {
     "name": "stderr",
     "output_type": "stream",
     "text": [
      "\n"
     ]
    }
   ],
   "source": [
    "for model_name in configs:\n",
    "    print(f\"Sample inferences for model: {model_name}\")\n",
    "\n",
    "    model = NERModel(**configs[model_name]).to(use_device)\n",
    "    tester = Trainer(\n",
    "        model=model,\n",
    "        data=corpus,\n",
    "        optimizer=Adam(model.parameters(), lr=lrs[model_name], weight_decay=1e-2),  # add weight decay for Adam\n",
    "        device=use_device,\n",
    "        checkpoint_path=f\"{DRIVE_ROOT}/models-wandb-7030-v2/{model_name}.pt\",\n",
    "        model_name=f\"{model_name}\"\n",
    "    )\n",
    "    tester.model.load_state(f\"{DRIVE_ROOT}/models-wandb-7030-v2/{model_name}.pt\")\n",
    "\n",
    "    for index, row in tqdm(data_test.iterrows(),total=data_test.shape[0]):\n",
    "        words, infer_tags, unknown_tokens = tester.infer(docs=row[\"paragraph\"], index=index, true_tags=row[\"tags\"])\n",
    "    \n",
    "    print()\n"
   ]
  },
  {
   "cell_type": "code",
   "execution_count": 31,
   "metadata": {},
   "outputs": [
    {
     "name": "stdout",
     "output_type": "stream",
     "text": [
      "1.5.1\n"
     ]
    }
   ],
   "source": [
    "print(torch.__version__)"
   ]
  },
  {
   "cell_type": "code",
   "execution_count": 32,
   "metadata": {},
   "outputs": [
    {
     "data": {
      "text/html": [
       "Waiting for W&B process to finish... <strong style=\"color:green\">(success).</strong>"
      ],
      "text/plain": [
       "<IPython.core.display.HTML object>"
      ]
     },
     "metadata": {},
     "output_type": "display_data"
    },
    {
     "data": {
      "application/vnd.jupyter.widget-view+json": {
       "model_id": "",
       "version_major": 2,
       "version_minor": 0
      },
      "text/plain": [
       "VBox(children=(Label(value='75.692 MB of 75.713 MB uploaded (0.000 MB deduped)\\r'), FloatProgress(value=0.9997…"
      ]
     },
     "metadata": {},
     "output_type": "display_data"
    },
    {
     "data": {
      "text/html": [
       "Synced <strong style=\"color:#cdcd00\">drawn-sponge-2</strong>: <a href=\"https://wandb.ai/sigitpurnomo/pfsa-id-teslap4-7030-v2/runs/2dyokjni\" target=\"_blank\">https://wandb.ai/sigitpurnomo/pfsa-id-teslap4-7030-v2/runs/2dyokjni</a><br/>Synced 5 W&B file(s), 1463 media file(s), 1436 artifact file(s) and 0 other file(s)"
      ],
      "text/plain": [
       "<IPython.core.display.HTML object>"
      ]
     },
     "metadata": {},
     "output_type": "display_data"
    },
    {
     "data": {
      "text/html": [
       "Find logs at: <code>./wandb/run-20220801_063522-2dyokjni/logs</code>"
      ],
      "text/plain": [
       "<IPython.core.display.HTML object>"
      ]
     },
     "metadata": {},
     "output_type": "display_data"
    }
   ],
   "source": [
    "wandb.finish()"
   ]
  },
  {
   "cell_type": "code",
   "execution_count": null,
   "metadata": {},
   "outputs": [],
   "source": []
  }
 ],
 "metadata": {
  "accelerator": "GPU",
  "colab": {
   "collapsed_sections": [
    "iYkejIkFF1Wh",
    "lw7AEpNmGqbD"
   ],
   "name": "8 - Optimizing BiLSTM and Transformer-based model for Indonesian NER",
   "provenance": []
  },
  "kernelspec": {
   "display_name": "Python 3",
   "language": "python",
   "name": "python3"
  },
  "language_info": {
   "codemirror_mode": {
    "name": "ipython",
    "version": 3
   },
   "file_extension": ".py",
   "mimetype": "text/x-python",
   "name": "python",
   "nbconvert_exporter": "python",
   "pygments_lexer": "ipython3",
   "version": "3.7.3"
  }
 },
 "nbformat": 4,
 "nbformat_minor": 4
}
