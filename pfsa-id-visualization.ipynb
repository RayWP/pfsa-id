{
 "cells": [
  {
   "cell_type": "markdown",
   "id": "a9266993-52b1-44c2-b2d0-445757ec66b4",
   "metadata": {},
   "source": [
    "## PFSA-ID: An Annotated Indonesian Corpus and Baseline Model of Public Figures Statements Attributions "
   ]
  },
  {
   "cell_type": "markdown",
   "id": "4960a755-a694-4d8c-8745-5ccab733f54a",
   "metadata": {},
   "source": [
    "### Import the library"
   ]
  },
  {
   "cell_type": "code",
   "execution_count": 1,
   "id": "5b255e2e-4b16-488e-84b4-d148bb118141",
   "metadata": {
    "gather": {
     "logged": 1740741057900
    },
    "tags": []
   },
   "outputs": [],
   "source": [
    "import spacy\n",
    "from spacy import displacy"
   ]
  },
  {
   "cell_type": "markdown",
   "id": "846c11ae-576b-4d72-994c-79e20dd96633",
   "metadata": {},
   "source": [
    "### Loading the baseline model"
   ]
  },
  {
   "cell_type": "code",
   "execution_count": 3,
   "id": "4fe51d6c-bfc6-410e-92b8-adca1544c338",
   "metadata": {
    "gather": {
     "logged": 1740741094297
    }
   },
   "outputs": [
    {
     "ename": "OSError",
     "evalue": "[E053] Could not read meta.json from bert-base-uncased-new",
     "output_type": "error",
     "traceback": [
      "\u001b[31m---------------------------------------------------------------------------\u001b[39m",
      "\u001b[31mOSError\u001b[39m                                   Traceback (most recent call last)",
      "\u001b[36mCell\u001b[39m\u001b[36m \u001b[39m\u001b[32mIn[3]\u001b[39m\u001b[32m, line 1\u001b[39m\n\u001b[32m----> \u001b[39m\u001b[32m1\u001b[39m nlp = \u001b[43mspacy\u001b[49m\u001b[43m.\u001b[49m\u001b[43mload\u001b[49m\u001b[43m(\u001b[49m\u001b[33;43m\"\u001b[39;49m\u001b[33;43mbert-base-uncased-new\u001b[39;49m\u001b[33;43m\"\u001b[39;49m\u001b[43m)\u001b[49m\n",
      "\u001b[36mFile \u001b[39m\u001b[32m/usr/local/lib/python3.11/site-packages/spacy/__init__.py:51\u001b[39m, in \u001b[36mload\u001b[39m\u001b[34m(name, vocab, disable, enable, exclude, config)\u001b[39m\n\u001b[32m     27\u001b[39m \u001b[38;5;28;01mdef\u001b[39;00m\u001b[38;5;250m \u001b[39m\u001b[34mload\u001b[39m(\n\u001b[32m     28\u001b[39m     name: Union[\u001b[38;5;28mstr\u001b[39m, Path],\n\u001b[32m     29\u001b[39m     *,\n\u001b[32m   (...)\u001b[39m\u001b[32m     34\u001b[39m     config: Union[Dict[\u001b[38;5;28mstr\u001b[39m, Any], Config] = util.SimpleFrozenDict(),\n\u001b[32m     35\u001b[39m ) -> Language:\n\u001b[32m     36\u001b[39m \u001b[38;5;250m    \u001b[39m\u001b[33;03m\"\"\"Load a spaCy model from an installed package or a local path.\u001b[39;00m\n\u001b[32m     37\u001b[39m \n\u001b[32m     38\u001b[39m \u001b[33;03m    name (str): Package name or model path.\u001b[39;00m\n\u001b[32m   (...)\u001b[39m\u001b[32m     49\u001b[39m \u001b[33;03m    RETURNS (Language): The loaded nlp object.\u001b[39;00m\n\u001b[32m     50\u001b[39m \u001b[33;03m    \"\"\"\u001b[39;00m\n\u001b[32m---> \u001b[39m\u001b[32m51\u001b[39m     \u001b[38;5;28;01mreturn\u001b[39;00m \u001b[43mutil\u001b[49m\u001b[43m.\u001b[49m\u001b[43mload_model\u001b[49m\u001b[43m(\u001b[49m\n\u001b[32m     52\u001b[39m \u001b[43m        \u001b[49m\u001b[43mname\u001b[49m\u001b[43m,\u001b[49m\n\u001b[32m     53\u001b[39m \u001b[43m        \u001b[49m\u001b[43mvocab\u001b[49m\u001b[43m=\u001b[49m\u001b[43mvocab\u001b[49m\u001b[43m,\u001b[49m\n\u001b[32m     54\u001b[39m \u001b[43m        \u001b[49m\u001b[43mdisable\u001b[49m\u001b[43m=\u001b[49m\u001b[43mdisable\u001b[49m\u001b[43m,\u001b[49m\n\u001b[32m     55\u001b[39m \u001b[43m        \u001b[49m\u001b[43menable\u001b[49m\u001b[43m=\u001b[49m\u001b[43menable\u001b[49m\u001b[43m,\u001b[49m\n\u001b[32m     56\u001b[39m \u001b[43m        \u001b[49m\u001b[43mexclude\u001b[49m\u001b[43m=\u001b[49m\u001b[43mexclude\u001b[49m\u001b[43m,\u001b[49m\n\u001b[32m     57\u001b[39m \u001b[43m        \u001b[49m\u001b[43mconfig\u001b[49m\u001b[43m=\u001b[49m\u001b[43mconfig\u001b[49m\u001b[43m,\u001b[49m\n\u001b[32m     58\u001b[39m \u001b[43m    \u001b[49m\u001b[43m)\u001b[49m\n",
      "\u001b[36mFile \u001b[39m\u001b[32m/usr/local/lib/python3.11/site-packages/spacy/util.py:467\u001b[39m, in \u001b[36mload_model\u001b[39m\u001b[34m(name, vocab, disable, enable, exclude, config)\u001b[39m\n\u001b[32m    465\u001b[39m         \u001b[38;5;28;01mreturn\u001b[39;00m load_model_from_package(name, **kwargs)  \u001b[38;5;66;03m# type: ignore[arg-type]\u001b[39;00m\n\u001b[32m    466\u001b[39m     \u001b[38;5;28;01mif\u001b[39;00m Path(name).exists():  \u001b[38;5;66;03m# path to model data directory\u001b[39;00m\n\u001b[32m--> \u001b[39m\u001b[32m467\u001b[39m         \u001b[38;5;28;01mreturn\u001b[39;00m \u001b[43mload_model_from_path\u001b[49m\u001b[43m(\u001b[49m\u001b[43mPath\u001b[49m\u001b[43m(\u001b[49m\u001b[43mname\u001b[49m\u001b[43m)\u001b[49m\u001b[43m,\u001b[49m\u001b[43m \u001b[49m\u001b[43m*\u001b[49m\u001b[43m*\u001b[49m\u001b[43mkwargs\u001b[49m\u001b[43m)\u001b[49m  \u001b[38;5;66;03m# type: ignore[arg-type]\u001b[39;00m\n\u001b[32m    468\u001b[39m \u001b[38;5;28;01melif\u001b[39;00m \u001b[38;5;28mhasattr\u001b[39m(name, \u001b[33m\"\u001b[39m\u001b[33mexists\u001b[39m\u001b[33m\"\u001b[39m):  \u001b[38;5;66;03m# Path or Path-like to model data\u001b[39;00m\n\u001b[32m    469\u001b[39m     \u001b[38;5;28;01mreturn\u001b[39;00m load_model_from_path(name, **kwargs)  \u001b[38;5;66;03m# type: ignore[arg-type]\u001b[39;00m\n",
      "\u001b[36mFile \u001b[39m\u001b[32m/usr/local/lib/python3.11/site-packages/spacy/util.py:535\u001b[39m, in \u001b[36mload_model_from_path\u001b[39m\u001b[34m(model_path, meta, vocab, disable, enable, exclude, config)\u001b[39m\n\u001b[32m    533\u001b[39m     \u001b[38;5;28;01mraise\u001b[39;00m \u001b[38;5;167;01mIOError\u001b[39;00m(Errors.E052.format(path=model_path))\n\u001b[32m    534\u001b[39m \u001b[38;5;28;01mif\u001b[39;00m \u001b[38;5;129;01mnot\u001b[39;00m meta:\n\u001b[32m--> \u001b[39m\u001b[32m535\u001b[39m     meta = \u001b[43mget_model_meta\u001b[49m\u001b[43m(\u001b[49m\u001b[43mmodel_path\u001b[49m\u001b[43m)\u001b[49m\n\u001b[32m    536\u001b[39m config_path = model_path / \u001b[33m\"\u001b[39m\u001b[33mconfig.cfg\u001b[39m\u001b[33m\"\u001b[39m\n\u001b[32m    537\u001b[39m overrides = dict_to_dot(config, for_overrides=\u001b[38;5;28;01mTrue\u001b[39;00m)\n",
      "\u001b[36mFile \u001b[39m\u001b[32m/usr/local/lib/python3.11/site-packages/spacy/util.py:929\u001b[39m, in \u001b[36mget_model_meta\u001b[39m\u001b[34m(path)\u001b[39m\n\u001b[32m    923\u001b[39m \u001b[38;5;250m\u001b[39m\u001b[33;03m\"\"\"Get model meta.json from a directory path and validate its contents.\u001b[39;00m\n\u001b[32m    924\u001b[39m \n\u001b[32m    925\u001b[39m \u001b[33;03mpath (str / Path): Path to model directory.\u001b[39;00m\n\u001b[32m    926\u001b[39m \u001b[33;03mRETURNS (Dict[str, Any]): The model's meta data.\u001b[39;00m\n\u001b[32m    927\u001b[39m \u001b[33;03m\"\"\"\u001b[39;00m\n\u001b[32m    928\u001b[39m model_path = ensure_path(path)\n\u001b[32m--> \u001b[39m\u001b[32m929\u001b[39m \u001b[38;5;28;01mreturn\u001b[39;00m \u001b[43mload_meta\u001b[49m\u001b[43m(\u001b[49m\u001b[43mmodel_path\u001b[49m\u001b[43m \u001b[49m\u001b[43m/\u001b[49m\u001b[43m \u001b[49m\u001b[33;43m\"\u001b[39;49m\u001b[33;43mmeta.json\u001b[39;49m\u001b[33;43m\"\u001b[39;49m\u001b[43m)\u001b[49m\n",
      "\u001b[36mFile \u001b[39m\u001b[32m/usr/local/lib/python3.11/site-packages/spacy/util.py:889\u001b[39m, in \u001b[36mload_meta\u001b[39m\u001b[34m(path)\u001b[39m\n\u001b[32m    887\u001b[39m     \u001b[38;5;28;01mraise\u001b[39;00m \u001b[38;5;167;01mIOError\u001b[39;00m(Errors.E052.format(path=path.parent))\n\u001b[32m    888\u001b[39m \u001b[38;5;28;01mif\u001b[39;00m \u001b[38;5;129;01mnot\u001b[39;00m path.exists() \u001b[38;5;129;01mor\u001b[39;00m \u001b[38;5;129;01mnot\u001b[39;00m path.is_file():\n\u001b[32m--> \u001b[39m\u001b[32m889\u001b[39m     \u001b[38;5;28;01mraise\u001b[39;00m \u001b[38;5;167;01mIOError\u001b[39;00m(Errors.E053.format(path=path.parent, name=\u001b[33m\"\u001b[39m\u001b[33mmeta.json\u001b[39m\u001b[33m\"\u001b[39m))\n\u001b[32m    890\u001b[39m meta = srsly.read_json(path)\n\u001b[32m    891\u001b[39m \u001b[38;5;28;01mfor\u001b[39;00m setting \u001b[38;5;129;01min\u001b[39;00m [\u001b[33m\"\u001b[39m\u001b[33mlang\u001b[39m\u001b[33m\"\u001b[39m, \u001b[33m\"\u001b[39m\u001b[33mname\u001b[39m\u001b[33m\"\u001b[39m, \u001b[33m\"\u001b[39m\u001b[33mversion\u001b[39m\u001b[33m\"\u001b[39m]:\n",
      "\u001b[31mOSError\u001b[39m: [E053] Could not read meta.json from bert-base-uncased-new"
     ]
    }
   ],
   "source": [
    "nlp = spacy.load(\"bert-base-uncased-new\")"
   ]
  },
  {
   "cell_type": "markdown",
   "id": "4fc2bc0f-5da1-425e-85c9-4ed4fa0b63f7",
   "metadata": {},
   "source": [
    "### Setting the text from the news article"
   ]
  },
  {
   "cell_type": "code",
   "execution_count": 3,
   "id": "f5d986f7-9e41-4a58-892c-2f46b4e03435",
   "metadata": {
    "gather": {
     "logged": 1740741094406
    }
   },
   "outputs": [],
   "source": [
    "#text = 'JAKARTA, KOMPAS — Para delegasi pemangku kebijakan moneter dan fiskal negara-negara anggota G-20 sepakat bahwa selain kebijakan pemulihan yang terkalibrasi dengan baik, peringanan utang negara miskin menjadi kunci ketahanan dan stabilitas dunia menuju pertumbuhan ekonomi yang berkelanjutan dan inklusif. Sebagai pemegang tampuk presidensi, Indonesia menjembatani kesepakatan yang terbentuk pada hari kedua pertemuan pertama tingkat Menteri Keuangan dan Gubernur Bank Sentral (Finance Ministers and Central Bank Governors/FMCBG) Jalur Keuangan G-20 yang berlangsung secara hibrida di Jakarta, Jumat (18/2/2022). Seusai pertemuan tersebut, Gubernur Bank Indonesia Perry Warjiyo mengatakan, dalam rangka mendukung stabilitas ekonomi makro, G-20 berkomitmen menerapkan kebijakan moneter yang terkalibrasi, terencana, dan terkomunikasikan dengan baik. ”Ini penting agar normalisasi yang dilakukan oleh negara maju berdampak minimal terhadap negara berkembang. Jika kebijakan ekonomi bisa terkalibrasi dengan baik, pemulihan ekonomi global bisa berlangsung dan scarring effect (efek kerusakan struktur ekonomi jangka menengah) bisa dihindari,” ujar Perry. Normalisasi kebijakan moneter dan fiskal yang terutama dilakukan oleh negara maju, lanjut Perry, berpotensi menciptakan pengetatan likuiditas keuangan global. Situasi ini dapat menyebabkan arus keluar modal dari pasar negara berkembang ataupun negara miskin. Pandemi Covid-19 yang terjadi sejak awal 2020 juga disadari telah menyebabkan gangguan ekonomi global yang mendalam, baik di sisi penawaran maupun permintaan di pasar global. Dampak yang ditimbulkan oleh mengetatnya likuiditas keuangan global diyakini bakal memperburuk neraca pembayaran yang menghambat pemulihan ekonomi global. Di sisi lain, negara ekonomi berkembang perlu menempuh kebijakan ekonomi makro dan sistem keuangan secara sehat, termasuk di dalamnya melakukan kebijakan moneter yang secara kuat dapat mengatasi dampak rembetan keuangan global. ”Kami sepakat agar negara berkembang melakukan kebijakan untuk mengelola arus lalu lintas modal. Ini penting untuk memperkuat aliran modal masuk ke negara berkembang yang dibutuhkan untuk mendukung pemulihan ekonomi,” ujarnya. Agar kebijakan negara maju dan negara berkembang dapat bersinergi dengan baik, lanjut Perry, dibutuhkan ketahanan yang kuat dari negara-negara berkembang dalam menghadapi guncangan pasar keuangan global. Ketahanan bisa didapat melalui penyesuaian mata uang lokal (local currency settlement) antarnegara. Dalam kesempatan yang sama, Menteri Keuangan Sri Mulyani Indrawati menegaskan, kerja sama para kreditor terutama untuk negara berpenghasilan rendah yang sedang mengalami krisis utang. Penangguhan utang menjadi jalan bagi negara-negara miskin untuk keluar dari krisis kesehatan dan ekonomi. ”Dibutuhkan kerja sama global dari negara-negara kreditor untuk dapat memberikan ruang bagi negara-negara tersebut untuk bisa pulih kembali,” ujarnya. Secara spesifik di dalam komunike atau kesepakatan bersama anggota forum FMCBG tertulis, terdapat tiga negara, yakni Chad, Zambia, dan Etiopia, yang saat ini sedang melalui proses persetujuan penangguhan utang dari para kreditor. ”Banyak kreditor, yang merupakan anggota G-20, memiliki mekanisme masing-masing terkait penangguhan utang. Di sinilah pentingnya pertemuan ini, yakni untuk menyatukan perspektif para kreditor dalam memandang permasalahan yang ada,” ujarnya. Menanggapi pertemuan FMCBG Jalur Keuangan G-20 di Indonesia, Direktur Pelaksana Dana Moneter Internasional (IMF) Kristalina Georgieva mengingatkan, kerja sama internasional yang kuat dan kelincahan kebijakan yang luar biasa akan sangat penting untuk menavigasi pemulihan pada 2022. ”Banyak negara perlu menavigasi siklus moneter yang ketat. Dalam konteks tingkat ketidakpastian yang tinggi dan perbedaan yang signifikan antarnegara, kebijakan ekonomi makro perlu dikalibrasi secara hati-hati dengan keadaan masing-masing negara,” kata Georgieva. Untuk memenuhi kebutuhan pembiayaan berkelanjutan secara global, tahun ini Bank Investasi Eropa (EIB) siap menggelontorkan dana hingga 1 triliun euro (Rp 16.280 triliun). Kucuran dana ini akan membiayai proyek-proyek hijau, termasuk proyek untuk memitigasi perubahan iklim di ratusan negara dunia, termasuk Indonesia. Wakil Presiden EIB Gelsomina Vigliotti mengatakan, aliran pembiayaan untuk memitigasi perubahan iklim sewajarnya mengalir ke seluruh dunia. Pasalnya, proyek-proyek yang bersifat berkelanjutan yang memberikan dampak ekonomi positif di suatu kawasan pastinya akan turut berdampak ke kawasan lainnya. ”Sasaran kami adalah pada 2025 sebanyak 50 persen aktivitas pembiayaan kami diarahkan untuk proyek berkelanjutan sehingga pada 2030 kami berharap bisa memobilisasi sumber daya sampai 1 triliun euro untuk proyek berkelanjutan,” kata Vigliotti. Di Indonesia, penyaluran kredit atau pinjaman dengan konsep berkelanjutan atau biasa disebut kredit hijau masih sulit diakses oleh sektor publik. Padahal, perkembangan instrumen keuangan berkelanjutan sebetulnya sudah berkembang sejak 2007. Pembiayaan berkelanjutan merupakan dukungan jasa keuangan untuk mengembangkan ekonomi yang selaras dengan kepentingan sosial dan lingkungan, termasuk untuk proyek-proyek mitigasi perubahan iklim. Perry Warjiyo dalam webinar bertajuk ”Scaling Up The Utilization Of Sustainable Financial Instruments” sebagai rangkaian acara Presidensi G-20 di Indonesia, Jumat, mengungkapkan, perluasan akses pembiayaan berkelanjutan terbentur lambatnya pengembangan metrik data dan layanan verifikasi lembaga keuangan. Untuk memperluas jangkauan pembiayaan hijau, Indonesia menyusun berbagai cara, di antaranya membuat Peta Jalan Keuangan Berkelanjutan 2021-2025 serta mengembangkan taksonomi hijau sebagai basis investasi berkelanjutan. Untuk memenuhi kebutuhan pembangunan berkelanjutan, secara total Indonesia membutuhkan biaya mencapai Rp 67,8 ribu triliun sampai 2030. Sementara berdasarkan data Perhimpunan Bank Nasional (Perbanas), perbankan nasional telah menyalurkan Rp 809,55 triliun untuk pembiayaan ekonomi berkelanjutan.'\n",
    "#text = 'JAKARTA, KOMPAS — Pemerintah serius mewujudkan transformasi energi menuju energi baru dan terbarukan, termasuk penggunaan kendaraan listrik. Pemerintah menargetkan pada 2025 sebanyak 2 juta kendaraan listrik dapat digunakan oleh masyarakat Indonesia. Apresiasi diberikan kepada perusahaan-perusahaan dalam negeri yang berkiprah dari hulu hingga hilir untuk memulai pembangunan ekosistem kendaraan listrik tersebut. ”Pemerintah sangat serius untuk masuk pada energi baru terbarukan, termasuk di dalamnya adalah menuju pada kendaraan listrik. Oleh sebab itu, saya sangat menghargai keberanian perusahaan-perusahaan yang tadi saya sebut para CEO-nya masuk dari hulu sampai hilir untuk memulai membangun ekosistem kendaraan listrik,” ujar Presiden Joko Widodo saat memberikan sambutan pada acara Peluncuran Kolaborasi Pengembangan Ekosistem Kendaraan Listrik yang digelar di Stasiun Pengisian Bahan Bakar untuk Umum (SPBU) MT Haryono, di Jakarta, Selasa (22/2/2022). Pemerintah menargetkan 2 juta unit kendaraan listrik sudah digunakan masyarakat Indonesia pada 2025. ”Dan, selanjutnya kita akan menuju ke pasar-pasar ekspor. Sekali lagi, saya sangat menghargai upaya ini dan kita harapkan nanti pabrik baterainya, baterai listriknya, segera bisa selesai dalam jumlah yang kapasitas besar,” tuturnya. Biro Pers, Media, dan Informasi Sekretariat Presiden merilis bahwa kolaborasi BUMN (badan usaha milik negara) serta swasta tersebut merupakan langkah nyata guna mempercepat terwujudnya ekosistem kendaraan listrik yang terintegrasi di Indonesia. Electrum, perusahaan patungan Gojek dan TBS Energi Utama (TBS), bersama Pertamina, Gogoro, dan Gesits bersinergi untuk mengakselerasi pengembangan ekosistem kendaraan listrik terintegrasi dan terlengkap di Indonesia. ”Kemudian kendaraannya, yang di sini sudah ada Wika Gesits, juga akan ditingkatkan lagi kapasitas produksinya. Mungkin bekerja sama dengan perusahaan dari Taiwan, Gogoro misalnya, sehingga betul-betul ekosistem kendaraan listrik ini benar-benar terbangun dan siap untuk berkompetisi dengan negara-negara lain,” kata Presiden Jokowi. Mantan Gubernur DKI Jakarta itu melihat cara pengisian daya listrik kendaraan dengan peranti yang sudah disiapkan. Proses tersebut tidak memakan waktu lama dan dilakukan dengan mudah. ”Saya kira proses manajemen seperti ini yang diinginkan oleh pemakai-pemakai kendaraan dan itu akan menarik minat semua orang untuk masuk pada kendaraan listrik karena lebih murah dan, yang paling penting, tidak menimbulkan polusi,” kata Presiden Jokowi.  Pemerintah mengharapkan, sesuai target, emisi karbon pada tahun 2030 berada di angka 29 persen dan pada tahun 2060 berada di kondisi emisi nol (net zero carbon). ”Oleh sebab itu dengan didukung oleh ekosistem kendaraan listrik dari hulu sampai hilir, kita harapkan negara kita, Indonesia, nanti betul-betul mampu merajai, menjadi produsen dari kendaraan listrik,” katanya. Direktur Utama PT Pertamina (Persero) Nicke Widyawati pada sesi konferensi pers mengatakan, program kerja sama yang diluncurkan Presiden Jokowi kali ini merupakan salah satu program transisi energi yang dilakukan Pertamina. ”(Hal ini) Karena kita menyadari bahwa program transisi ini akan berhasil kalau semuanya terintegrasi, jadi suatu ekosistem, tidak bisa hanya menyediakan sebagian-sebagian,” katanya. Integrasi hulu-hilir Kerja sama tersebut saling melengkapi. Terkait pengembangan kendaraan listrik, Pertamina merencanakan membangun dari hulu ke hilir, yakni mulai ekosistem industri baterai sampai infrastruktur pengisian baterai, dan nantinya ada pendaurulangan. ”Sehingga, dalam satu value chain (rantai nilai) secara terintegrasi, Pertamina memberikan komitmen untuk mendorong target-target yang tadi disebut Pak Presiden,” ujar Nicke. Nicke menuturkan, Pertamina menyadari bahwa hal yang harus dikembangkan bukan semata kendaraan listrik, melainkan juga energi. Energi listrik yang digunakan tersebut harus pula merupakan energi hijau. Oleh karena itu, Pertamina telah membangun green energy station, yakni SPBU yang listriknya didapat dari pembangkit listrik tenaga surya. Sejauh ini sudah ada 143 SPBU yang merupakan stasiun energi hijau. ”Tahun ini akan kami tambah menjadi 1.000 (SPBU). Dan, itu nanti targetnya semuanya akan dilistriki dari (energi hijau). Jadi, bukan hanya baterainya saja yang membuat lingkungan menjadi lebih hijau, tapi listrik untuk ngecas (mengisi daya) pun dari energi hijau,” kata Nicke. Direktur Electrum dan Co-founder serta CEO Gojek Kevin Aluwi menuturkan, pihaknya sudah menjalankan proyek percontohan selama beberapa bulan. ”Sudah ada beberapa ratus unit motor listrik yang sudah dipakai oleh mitra-mitra driver Gojek. Jadi, sekarang kami sudah mendapat masukan dari masyarakat, baik mitra driver maupun konsumen,” katanya. Kevin menuturkan, sekarang konsumen sudah ada beberapa yang dijemput dengan motor listrik. ”Dan, kami lumayan bersyukur bahwa responsnya positif sekali. Dari sudut pandang mitra driver yang (mengatakan) tarikannya mulus (dan) jangkauan kendaraan lumayan jauh. Dan, tentunya dari sudut pandang biaya kami juga senang karena lebih murah. Untuk driver kami, biaya operasional turun sekitar 30 persen, di mana per bulan bisa lebih murah sekitar Rp 500.000 sampai Rp 700.000,” ujarnya. Adapun dari sudut pandang konsumen, Kevin menuturkan, penilaian di akhir perjalanan menunjukkan bahwa orderan dari motor listrik sangat positif. ”Banyak masyarakat yang sebenarnya sudah menunggu kesempatan untuk menggunakan motor listrik dan setelah mereka mencoba, kayaknya antusiasme untuk membeli motor listrik juga ada,” katanya. CEO Electrum Pandu Sjahrir mengatakan, kolaborasi tidak dapat dibangun sendirian. ”Semua harus menjadi satu. Jadi, tadi tiga yang kami sampaikan kepada Bapak Presiden. Satu, dari sisi manufaktur, pembangunan kendaraan bermotornya. (Lalu) Juga pembangunan untuk baterainya. Dan, salah satunya juga hilirisasi, bagaimana kita bisa memanfaatkan reserve (cadangan) nikel terbesar di dunia untuk benefit kita sebesar-besarnya,” katanya. Sementara itu, Direktur Utama PT Wika Industri Manufaktur (WIMA) M Samyarto menuturkan, sudah sejak beberapa waktu lalu pihaknya bekerja sama dengan Gojek untuk pengembangan kendaraan listrik yang cocok. Kendaraan listrik diharapkan dapat dimanfaatkan secara maksimal oleh pengemudi Gojek dan masyarakat Indonesia.'\n",
    "text = \"Presiden Prabowo Subianto resmi meluncurkan Badan Pengelola Investasi Daya Anagata Nusantara (Danantara) di Halaman Istana Kepresidenan Jakarta, pada Senin, 24 Februari 2025. Peluncuran Danantara ini menandai langkah strategis pemerintah dalam mengelola investasi nasional guna mendukung pertumbuhan investasi yang berkelanjutan. “Peluncuran Danantara Indonesia hari ini memiliki arti yang sangat penting karena Danantara Indonesia bukan sekadar badan pengelola investasi melainkan harus menjadi instrumen pembangunan nasional yang akan mengoptimalkan cara kita mengelola kekayaan Indonesia,” ucap Presiden. Tidak hanya sebuah dana investasi, Presiden mengatakan bahwa pengelolaan Danantara diharapkan dapat mengubah cara pengelolaan kekayaan bangsa demi kesejahteraan rakyat. Menurut Presiden, pemerintah telah membuktikan komitmennya dengan disiplin dan tata keuangan yang bertanggung jawab. “Kita telah membuktikan komitmen dalam mengelola kekayaan negara dengan disiplin keuangan yang ketat dan tata kelola yang bertanggungjawab dalam 100 hari pertama pemerintah yang saya pimpin, kami berhasil mengamankan lebh dari 300 triliun rupiah, hampir 20 miliar dolar dalam bentuk tabungan negara,” katanya. Dana tersebut kemudian akan dikelola Danantara dan diinvestasikan dalam proyek nasional industrialisasi dan hilirisasi. Presiden Prabowo meyakini proyek-proyek tersebut memberikan dampak dalam menciptakan nilai tambah yang signifikan untuk Indonesia. “Proyek-poroyek yang berdampak tinggi yang akan menciptakan nilai tambah yang signifikan untuk bangsa kita, menciptakan manfaat nyata, lapangan kerja yang bermutu, dan kemakmuran yang berjangka panjang bagi masyarakat Indonesia,” tambahnya. Pada kesempatan tersebut, Presiden menyampaikan apresiasi atas kerja keras seluruh pihak dalam mewujudkan Danantara Indonesia. Menurutnya, ini merupakan tonggak sejarah dalam perjalanan Indonesia menuju kemandirian ekonomi, ketahanan, dan kesejahteraan. “Dengan Daya Anagata Nusantara, yang artinya adalah energi kekuatan masa depan bagi nusantara, kekuatan energi masa depan bagi Indonesia,” ucap Presiden. Kepala Negara mengingatkan agar Danantara Indonesia dapat dikelola dengan hati-hati dan transparan. Dengan peluncuran ini, Presiden meyakini Indonesia dapat terus melangkah maju dan lebih kuat serta bersatu dari sebelumnya. “Dengan keyakinan ini, mari kita bergerak bersama, bersatu dalam tujuan, teguh dalam tekad, dan yakin bahwa pencapaian terbesar Indonesia masih ada di depan kita. Saudara-saudara sekalian, percayalah Indonesia akan capai cita-citanya, kita akan menjadi negara maju, negara makmur, negara terhormat,” tandasnya. Turut hadir dalam acara tersebut yakni Wakil Presiden Gibran Rakabuming, Presiden ke-6 Republik Indonesia (RI) Susilo Bambang Yudhoyono, Presiden ke-7 RI Joko Widodo, Wakil Presiden ke-10 & 12 RI Jusuf Kalla, Wakil Presiden ke-11 RI Boediono, dan Wakil Presiden ke-13 RI Ma’ruf Amin. Selain itu, hadir pula para pimpinan lembaga negara, para menteri kabinet Merah Putih, para duta besar negara sahabat, para Ketua Umum Partai Politik, para pemimpin redaksi media nasional, dan para tokoh agama serta tokoh masyarakat.\""
   ]
  },
  {
   "cell_type": "markdown",
   "id": "16fc0e46-120b-4ca1-9c55-b2ede3cfb928",
   "metadata": {},
   "source": [
    "### Extract the public figure's statements atribution using the model"
   ]
  },
  {
   "cell_type": "code",
   "execution_count": 4,
   "id": "39498efd-eeb4-463e-8cc9-5aad6e1e8992",
   "metadata": {
    "gather": {
     "logged": 1740741094501
    }
   },
   "outputs": [],
   "source": [
    "doc = nlp(text)"
   ]
  },
  {
   "cell_type": "code",
   "execution_count": 5,
   "id": "855b0bce-3f40-4edf-8a23-3ef7de317bd5",
   "metadata": {
    "gather": {
     "logged": 1740741094587
    }
   },
   "outputs": [],
   "source": [
    "colors = { \"PERSON\": \"#ffff00\",\n",
    "    \"PERSONCOREF\": \"#9932cc\",\n",
    "    \"ROLE\": \"#ff00ff\",\n",
    "    \"AFFILIATION\": \"#00ff7f\",\n",
    "    \"CUE\": \"#ff6347\",\n",
    "    \"CUECOREF\": \"#00bfff\",\n",
    "    \"STATEMENT\": \"#ffa500\",\n",
    "    \"ISSUE\": \"#7fffd4\",\n",
    "    \"DATETIME\": \"#ffdab9\",\n",
    "    \"LOCATION\": \"#adff2f\",\n",
    "    \"EVENT\": \"#d2b48c\"\n",
    "         }\n",
    "options = { \"ents\": [\"PERSON\",\"PERSONCOREF\",\"ROLE\",\"AFFILIATION\",\"CUE\",\"CUECOREF\",\"STATEMENT\",\"ISSUE\",\"DATETIME\",\"LOCATION\",\"EVENT\"],\"colors\":colors}"
   ]
  },
  {
   "cell_type": "markdown",
   "id": "3eafdac2-fdec-4d99-b6af-436bda8a8285",
   "metadata": {},
   "source": [
    "### Display the public figure's statement attribution results"
   ]
  },
  {
   "cell_type": "code",
   "execution_count": 6,
   "id": "fdb7514d-c8d5-4c8b-8b83-9dee41d063b6",
   "metadata": {
    "gather": {
     "logged": 1740741056173
    }
   },
   "outputs": [
    {
     "name": "stderr",
     "output_type": "stream",
     "text": [
      "/anaconda/envs/custom_37/lib/python3.7/site-packages/spacy/displacy/__init__.py:94: UserWarning: [W011] It looks like you're calling displacy.serve from within a Jupyter notebook or a similar environment. This likely means you're already running a local web server, so there's no need to make displaCy start another one. Instead, you should be able to replace displacy.serve with displacy.render to show the visualization.\n",
      "  warnings.warn(Warnings.W011)\n"
     ]
    },
    {
     "data": {
      "text/html": [
       "<span class=\"tex2jax_ignore\"><!DOCTYPE html>\n",
       "<html lang=\"id\">\n",
       "    <head>\n",
       "        <title>displaCy</title>\n",
       "    </head>\n",
       "\n",
       "    <body style=\"font-size: 16px; font-family: -apple-system, BlinkMacSystemFont, 'Segoe UI', Helvetica, Arial, sans-serif, 'Apple Color Emoji', 'Segoe UI Emoji', 'Segoe UI Symbol'; padding: 4rem 2rem; direction: ltr\">\n",
       "<figure style=\"margin-bottom: 6rem\">\n",
       "<div class=\"entities\" style=\"line-height: 2.5; direction: ltr\">\n",
       "<mark class=\"entity\" style=\"background: #7fffd4; padding: 0.45em 0.6em; margin: 0 0.25em; line-height: 1; border-radius: 0.35em;\">\n",
       "    Presiden Prabowo Subianto resmi meluncurkan Badan Pengelola Investasi Daya Anagata Nusantara (Danantara) di Halaman Istana Kepresidenan Jakarta, pada Senin, 24 Februari 2025\n",
       "    <span style=\"font-size: 0.8em; font-weight: bold; line-height: 1; border-radius: 0.35em; text-transform: uppercase; vertical-align: middle; margin-left: 0.5rem\">ISSUE</span>\n",
       "</mark>\n",
       ". Peluncuran Danantara ini menandai langkah strategis pemerintah dalam mengelola investasi nasional guna mendukung pertumbuhan investasi yang berkelanjutan. \n",
       "<mark class=\"entity\" style=\"background: #ffa500; padding: 0.45em 0.6em; margin: 0 0.25em; line-height: 1; border-radius: 0.35em;\">\n",
       "    “Peluncuran Danantara Indonesia hari ini memiliki arti yang sangat penting karena Danantara Indonesia bukan sekadar badan pengelola investasi melainkan harus menjadi instrumen pembangunan nasional yang akan mengoptimalkan cara kita mengelola kekayaan Indonesia,”\n",
       "    <span style=\"font-size: 0.8em; font-weight: bold; line-height: 1; border-radius: 0.35em; text-transform: uppercase; vertical-align: middle; margin-left: 0.5rem\">STATEMENT</span>\n",
       "</mark>\n",
       " \n",
       "<mark class=\"entity\" style=\"background: #ff6347; padding: 0.45em 0.6em; margin: 0 0.25em; line-height: 1; border-radius: 0.35em;\">\n",
       "    ucap\n",
       "    <span style=\"font-size: 0.8em; font-weight: bold; line-height: 1; border-radius: 0.35em; text-transform: uppercase; vertical-align: middle; margin-left: 0.5rem\">CUE</span>\n",
       "</mark>\n",
       " \n",
       "<mark class=\"entity\" style=\"background: #9932cc; padding: 0.45em 0.6em; margin: 0 0.25em; line-height: 1; border-radius: 0.35em;\">\n",
       "    Presiden\n",
       "    <span style=\"font-size: 0.8em; font-weight: bold; line-height: 1; border-radius: 0.35em; text-transform: uppercase; vertical-align: middle; margin-left: 0.5rem\">PERSONCOREF</span>\n",
       "</mark>\n",
       ". Tidak hanya sebuah dana investasi, Presiden mengatakan bahwa pengelolaan Danantara diharapkan dapat mengubah cara pengelolaan kekayaan bangsa demi kesejahteraan rakyat. Menurut Presiden, pemerintah telah membuktikan komitmennya dengan disiplin dan tata keuangan yang bertanggung jawab. \n",
       "<mark class=\"entity\" style=\"background: #ffa500; padding: 0.45em 0.6em; margin: 0 0.25em; line-height: 1; border-radius: 0.35em;\">\n",
       "    “Kita telah membuktikan komitmen dalam mengelola kekayaan negara dengan disiplin keuangan yang ketat dan tata kelola yang bertanggungjawab dalam 100 hari pertama pemerintah yang saya pimpin, kami berhasil mengamankan lebh dari 300 triliun rupiah, hampir 20 miliar dolar dalam bentuk tabungan negara,”\n",
       "    <span style=\"font-size: 0.8em; font-weight: bold; line-height: 1; border-radius: 0.35em; text-transform: uppercase; vertical-align: middle; margin-left: 0.5rem\">STATEMENT</span>\n",
       "</mark>\n",
       " \n",
       "<mark class=\"entity\" style=\"background: #00bfff; padding: 0.45em 0.6em; margin: 0 0.25em; line-height: 1; border-radius: 0.35em;\">\n",
       "    katanya\n",
       "    <span style=\"font-size: 0.8em; font-weight: bold; line-height: 1; border-radius: 0.35em; text-transform: uppercase; vertical-align: middle; margin-left: 0.5rem\">CUECOREF</span>\n",
       "</mark>\n",
       ". Dana tersebut kemudian akan dikelola Danantara dan diinvestasikan dalam proyek nasional industrialisasi dan hilirisasi. Presiden Prabowo meyakini proyek-proyek tersebut memberikan dampak dalam menciptakan nilai tambah yang signifikan untuk Indonesia. \n",
       "<mark class=\"entity\" style=\"background: #ffa500; padding: 0.45em 0.6em; margin: 0 0.25em; line-height: 1; border-radius: 0.35em;\">\n",
       "    “Proyek-poroyek yang berdampak tinggi yang akan menciptakan nilai tambah yang signifikan untuk bangsa kita, menciptakan manfaat nyata, lapangan kerja yang bermutu, dan kemakmuran yang berjangka panjang bagi masyarakat Indonesia,”\n",
       "    <span style=\"font-size: 0.8em; font-weight: bold; line-height: 1; border-radius: 0.35em; text-transform: uppercase; vertical-align: middle; margin-left: 0.5rem\">STATEMENT</span>\n",
       "</mark>\n",
       " \n",
       "<mark class=\"entity\" style=\"background: #00bfff; padding: 0.45em 0.6em; margin: 0 0.25em; line-height: 1; border-radius: 0.35em;\">\n",
       "    tambahnya\n",
       "    <span style=\"font-size: 0.8em; font-weight: bold; line-height: 1; border-radius: 0.35em; text-transform: uppercase; vertical-align: middle; margin-left: 0.5rem\">CUECOREF</span>\n",
       "</mark>\n",
       ". Pada kesempatan tersebut, Presiden menyampaikan apresiasi atas kerja keras seluruh pihak dalam mewujudkan Danantara Indonesia. Menurutnya, ini merupakan tonggak sejarah dalam perjalanan Indonesia menuju kemandirian ekonomi, ketahanan, dan kesejahteraan. \n",
       "<mark class=\"entity\" style=\"background: #ffa500; padding: 0.45em 0.6em; margin: 0 0.25em; line-height: 1; border-radius: 0.35em;\">\n",
       "    “Dengan Daya Anagata Nusantara, yang artinya adalah energi kekuatan masa depan bagi nusantara, kekuatan energi masa depan bagi Indonesia,”\n",
       "    <span style=\"font-size: 0.8em; font-weight: bold; line-height: 1; border-radius: 0.35em; text-transform: uppercase; vertical-align: middle; margin-left: 0.5rem\">STATEMENT</span>\n",
       "</mark>\n",
       " \n",
       "<mark class=\"entity\" style=\"background: #ff6347; padding: 0.45em 0.6em; margin: 0 0.25em; line-height: 1; border-radius: 0.35em;\">\n",
       "    ucap\n",
       "    <span style=\"font-size: 0.8em; font-weight: bold; line-height: 1; border-radius: 0.35em; text-transform: uppercase; vertical-align: middle; margin-left: 0.5rem\">CUE</span>\n",
       "</mark>\n",
       " \n",
       "<mark class=\"entity\" style=\"background: #9932cc; padding: 0.45em 0.6em; margin: 0 0.25em; line-height: 1; border-radius: 0.35em;\">\n",
       "    Presiden\n",
       "    <span style=\"font-size: 0.8em; font-weight: bold; line-height: 1; border-radius: 0.35em; text-transform: uppercase; vertical-align: middle; margin-left: 0.5rem\">PERSONCOREF</span>\n",
       "</mark>\n",
       ". \n",
       "<mark class=\"entity\" style=\"background: #ff00ff; padding: 0.45em 0.6em; margin: 0 0.25em; line-height: 1; border-radius: 0.35em;\">\n",
       "    Kepala Negara mengingatkan agar Danantara Indonesia dapat dikelola dengan hati-hati dan transparan\n",
       "    <span style=\"font-size: 0.8em; font-weight: bold; line-height: 1; border-radius: 0.35em; text-transform: uppercase; vertical-align: middle; margin-left: 0.5rem\">ROLE</span>\n",
       "</mark>\n",
       ". Dengan peluncuran ini, Presiden meyakini Indonesia dapat terus melangkah maju dan lebih kuat serta bersatu dari sebelumnya. \n",
       "<mark class=\"entity\" style=\"background: #ffa500; padding: 0.45em 0.6em; margin: 0 0.25em; line-height: 1; border-radius: 0.35em;\">\n",
       "    “Dengan keyakinan ini, mari kita bergerak bersama, bersatu dalam tujuan, teguh dalam tekad, dan yakin bahwa pencapaian terbesar Indonesia masih ada di depan kita. Saudara-saudara sekalian, percayalah Indonesia akan capai cita-citanya, kita akan menjadi negara maju, negara makmur, negara terhormat,”\n",
       "    <span style=\"font-size: 0.8em; font-weight: bold; line-height: 1; border-radius: 0.35em; text-transform: uppercase; vertical-align: middle; margin-left: 0.5rem\">STATEMENT</span>\n",
       "</mark>\n",
       " \n",
       "<mark class=\"entity\" style=\"background: #00bfff; padding: 0.45em 0.6em; margin: 0 0.25em; line-height: 1; border-radius: 0.35em;\">\n",
       "    tandasnya\n",
       "    <span style=\"font-size: 0.8em; font-weight: bold; line-height: 1; border-radius: 0.35em; text-transform: uppercase; vertical-align: middle; margin-left: 0.5rem\">CUECOREF</span>\n",
       "</mark>\n",
       ". Turut hadir dalam acara tersebut yakni \n",
       "<mark class=\"entity\" style=\"background: #ff00ff; padding: 0.45em 0.6em; margin: 0 0.25em; line-height: 1; border-radius: 0.35em;\">\n",
       "    Wakil Presiden\n",
       "    <span style=\"font-size: 0.8em; font-weight: bold; line-height: 1; border-radius: 0.35em; text-transform: uppercase; vertical-align: middle; margin-left: 0.5rem\">ROLE</span>\n",
       "</mark>\n",
       " Gibran Rakabuming, Presiden ke-6 Republik Indonesia (RI) Susilo \n",
       "<mark class=\"entity\" style=\"background: #ffff00; padding: 0.45em 0.6em; margin: 0 0.25em; line-height: 1; border-radius: 0.35em;\">\n",
       "    Bambang Yudhoyono\n",
       "    <span style=\"font-size: 0.8em; font-weight: bold; line-height: 1; border-radius: 0.35em; text-transform: uppercase; vertical-align: middle; margin-left: 0.5rem\">PERSON</span>\n",
       "</mark>\n",
       ", Presiden ke-7 RI Joko Widodo, Wakil Presiden ke-10 &amp; 12 RI Jusuf Kalla, Wakil Presiden ke-11 RI Boediono, dan Wakil Presiden ke-13 RI Ma’ruf Amin. Selain itu, hadir pula para pimpinan lembaga negara, para menteri kabinet Merah Putih, para duta besar negara sahabat, para Ketua Umum Partai Politik, para pemimpin redaksi media nasional, dan para tokoh agama serta tokoh masyarakat.</div>\n",
       "</figure>\n",
       "</body>\n",
       "</html></span>"
      ],
      "text/plain": [
       "<IPython.core.display.HTML object>"
      ]
     },
     "metadata": {},
     "output_type": "display_data"
    },
    {
     "name": "stdout",
     "output_type": "stream",
     "text": [
      "\n",
      "Using the 'ent' visualizer\n",
      "Serving on http://0.0.0.0:5000 ...\n",
      "\n"
     ]
    }
   ],
   "source": [
    "displacy.serve(doc, style=\"ent\",options=options)"
   ]
  },
  {
   "cell_type": "code",
   "execution_count": null,
   "id": "ae5d50af-4969-4e21-b911-3618d823aff3",
   "metadata": {
    "gather": {
     "logged": 1740741056184
    },
    "tags": []
   },
   "outputs": [],
   "source": [
    "print(\"X\")"
   ]
  }
 ],
 "metadata": {
  "kernelspec": {
   "display_name": "Python 3",
   "language": "python",
   "name": "python3"
  },
  "language_info": {
   "codemirror_mode": {
    "name": "ipython",
    "version": 3
   },
   "file_extension": ".py",
   "mimetype": "text/x-python",
   "name": "python",
   "nbconvert_exporter": "python",
   "pygments_lexer": "ipython3",
   "version": "3.11.0"
  },
  "microsoft": {
   "ms_spell_check": {
    "ms_spell_check_language": "en"
   }
  },
  "nteract": {
   "version": "nteract-front-end@1.0.0"
  }
 },
 "nbformat": 4,
 "nbformat_minor": 5
}
