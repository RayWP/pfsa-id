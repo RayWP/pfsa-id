{
 "cells": [
  {
   "cell_type": "code",
   "execution_count": null,
   "metadata": {},
   "outputs": [],
   "source": [
    "# Install required packages\n",
    "!pip install transformers datasets torch accelerate peft ctransformers --upgrade\n",
    "!pip install bitsandbytes  # For 8-bit quantization support\n",
    "!pip install sentencepiece  # For DeepSeek tokenizer"
   ]
  },
  {
   "cell_type": "markdown",
   "metadata": {},
   "source": []
  },
  {
   "cell_type": "code",
   "execution_count": null,
   "metadata": {},
   "outputs": [],
   "source": [
    "import json\n",
    "import torch\n",
    "from transformers import AutoTokenizer, AutoModelForCausalLM, TrainingArguments, Trainer, TrainerCallback\n",
    "from datasets import Dataset\n",
    "from peft import LoraConfig, get_peft_model\n",
    "import logging\n",
    "import os"
   ]
  },
  {
   "cell_type": "code",
   "execution_count": null,
   "metadata": {},
   "outputs": [],
   "source": [
    "# Configure logging\n",
    "logging.basicConfig(\n",
    "    level=logging.INFO,\n",
    "    format='%(asctime)s - %(levelname)s - %(message)s',\n",
    "    handlers=[\n",
    "        logging.FileHandler('training_log.txt'),\n",
    "        logging.StreamHandler()\n",
    "    ]\n",
    ")\n",
    "\n",
    "# Custom callback for loss logging\n",
    "class LossLoggingCallback(TrainerCallback):\n",
    "    def on_log(self, args, state, control, logs=None, **kwargs):\n",
    "        if state.is_local_process_zero and logs is not None:\n",
    "            if 'loss' in logs:\n",
    "                epoch = state.epoch\n",
    "                step = state.global_step\n",
    "                loss = logs['loss']\n",
    "                logging.info(f'Epoch: {epoch:.2f}, Step: {step}, Loss: {loss:.4f}')\n",
    "            if 'eval_loss' in logs:\n",
    "                eval_loss = logs['eval_loss']\n",
    "                logging.info(f'Evaluation Loss: {eval_loss:.4f}')"
   ]
  },
  {
   "cell_type": "code",
   "execution_count": null,
   "metadata": {},
   "outputs": [],
   "source": [
    "# Load and process the JSONL data\n",
    "def load_conversations(file_path):\n",
    "    conversations = []\n",
    "    with open(file_path, 'r', encoding='utf-8') as f:\n",
    "        for line in f:\n",
    "            data = json.loads(line)\n",
    "            messages = data['messages']\n",
    "            # Format conversation\n",
    "            conv = \"\"\n",
    "            for msg in messages:\n",
    "                role = msg['role']\n",
    "                content = msg['content'] \n",
    "                conv += f\"<{role}>{content}</s>\"\n",
    "            conversations.append({'conversation': conv})\n",
    "    return conversations"
   ]
  },
  {
   "cell_type": "code",
   "execution_count": null,
   "metadata": {},
   "outputs": [],
   "source": [
    "# Load training data\n",
    "train_data = load_conversations('output_30.jsonl')\n",
    "val_data = load_conversations('output_70.jsonl')\n",
    "\n",
    "# Create datasets\n",
    "train_dataset = Dataset.from_list(train_data)\n",
    "val_dataset = Dataset.from_list(val_data)"
   ]
  },
  {
   "cell_type": "code",
   "execution_count": null,
   "metadata": {},
   "outputs": [],
   "source": [
    "# Initialize model and tokenizer\n",
    "model_name = \"deepseek-ai/DeepSeek-R1\"\n",
    "tokenizer = AutoTokenizer.from_pretrained(model_name)\n",
    "model = AutoModelForCausalLM.from_pretrained(model_name)\n",
    "\n",
    "# LoRA configuration - adjusted for DeepSeek\n",
    "lora_config = LoraConfig(\n",
    "    r=16,  # Increased rank for better adaptation\n",
    "    lora_alpha=64,\n",
    "    target_modules=[\"q_proj\", \"k_proj\", \"v_proj\", \"o_proj\"],  # DeepSeek attention modules\n",
    "    lora_dropout=0.1,\n",
    ")\n",
    "\n",
    "# Create PEFT model\n",
    "model = get_peft_model(model, lora_config)"
   ]
  },
  {
   "cell_type": "code",
   "execution_count": null,
   "metadata": {},
   "outputs": [],
   "source": [
    "# Training arguments with added logging\n",
    "training_args = TrainingArguments(\n",
    "    output_dir=\"tiuz-chat-model\",\n",
    "    num_train_epochs=5,\n",
    "    per_device_train_batch_size=1,\n",
    "    gradient_accumulation_steps=16,\n",
    "    learning_rate=1e-4,\n",
    "    save_strategy=\"epoch\",  # Changed to save per epoch\n",
    "    save_total_limit=1,      # Only keep latest checkpoint\n",
    "    evaluation_strategy=\"epoch\",  # Evaluate per epoch\n",
    "    bf16=True,\n",
    "    gradient_checkpointing=True,\n",
    "    optim='adamw_torch',\n",
    "    load_best_model_at_end=True,\n",
    "    save_only_model=True,    # Don't save optimizer states\n",
    "    overwrite_output_dir=True, # Overwrite existing checkpoints\n",
    "    logging_dir='./logs',      # Directory for tensorboard logs\n",
    "    logging_strategy=\"steps\",  # Log every N steps\n",
    "    logging_steps=10,          # Log every 10 steps\n",
    "    logging_first_step=True,   # Log the first step\n",
    "    report_to=[\"tensorboard\"], # Use tensorboard for logging\n",
    ")\n",
    "\n",
    "# Create trainer with callback\n",
    "trainer = Trainer(\n",
    "    model=model,\n",
    "    args=training_args,\n",
    "    train_dataset=train_dataset,\n",
    "    eval_dataset=val_dataset,\n",
    "    callbacks=[LossLoggingCallback()]\n",
    ")"
   ]
  },
  {
   "cell_type": "code",
   "execution_count": null,
   "metadata": {},
   "outputs": [],
   "source": [
    "# Start training\n",
    "trainer.train()\n",
    "\n",
    "# Save the model\n",
    "trainer.save_model(\"tiuz-chat-final\")\n",
    "\n",
    "# Convert to GGUF format\n",
    "!python3 -m ctransformers.lib.converting tiuz-chat-final tiuz-chat.gguf"
   ]
  }
 ],
 "metadata": {
  "language_info": {
   "name": "python"
  }
 },
 "nbformat": 4,
 "nbformat_minor": 2
}
