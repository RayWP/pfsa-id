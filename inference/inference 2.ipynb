{
 "cells": [
  {
   "cell_type": "code",
   "execution_count": 44,
   "metadata": {
    "gather": {
     "logged": 1741256355036
    }
   },
   "outputs": [
    {
     "name": "stderr",
     "output_type": "stream",
     "text": [
      "Device set to use cuda:0\n"
     ]
    },
    {
     "name": "stdout",
     "output_type": "stream",
     "text": [
      "[{'entity_group': 'Class', 'score': np.float32(0.844761), 'word': 'transaction', 'start': 181, 'end': 192}, {'entity_group': 'Class', 'score': np.float32(0.84119016), 'word': 'system', 'start': 205, 'end': 211}, {'entity_group': 'attr', 'score': np.float32(0.9473866), 'word': 'transaction id', 'start': 249, 'end': 263}, {'entity_group': 'attr', 'score': np.float32(0.94555604), 'word': 'date', 'start': 265, 'end': 269}, {'entity_group': 'attr', 'score': np.float32(0.9418643), 'word': 'time', 'start': 275, 'end': 279}, {'entity_group': 'Class', 'score': np.float32(0.6710595), 'word': 'cashier', 'start': 296, 'end': 303}, {'entity_group': 'Class', 'score': np.float32(0.8849998), 'word': 'sale', 'start': 343, 'end': 347}, {'entity_group': 'Class', 'score': np.float32(0.7439717), 'word': 'items', 'start': 382, 'end': 387}, {'entity_group': 'attr', 'score': np.float32(0.97832406), 'word': 'product name', 'start': 403, 'end': 415}, {'entity_group': 'attr', 'score': np.float32(0.719796), 'word': 'stock keeping unit', 'start': 422, 'end': 440}, {'entity_group': 'attr', 'score': np.float32(0.9722864), 'word': 'quantity', 'start': 443, 'end': 451}, {'entity_group': 'attr', 'score': np.float32(0.76155436), 'word': 'unit price', 'start': 453, 'end': 463}, {'entity_group': 'attr', 'score': np.float32(0.693349), 'word': 'discounts', 'start': 484, 'end': 493}, {'entity_group': 'Class', 'score': np.float32(0.35252318), 'word': 'promotions', 'start': 497, 'end': 507}, {'entity_group': 'Class', 'score': np.float32(0.7850931), 'word': 'system', 'start': 513, 'end': 519}, {'entity_group': 'attr', 'score': np.float32(0.73267245), 'word': 'cost', 'start': 559, 'end': 563}, {'entity_group': 'Class', 'score': np.float32(0.8596534), 'word': 'item', 'start': 573, 'end': 577}, {'entity_group': 'attr', 'score': np.float32(0.6771781), 'word': 'region', 'start': 604, 'end': 610}, {'entity_group': 'attr', 'score': np.float32(0.8260634), 'word': 'transaction total', 'start': 632, 'end': 649}, {'entity_group': 'attr', 'score': np.float32(0.868944), 'word': 'payment details', 'start': 651, 'end': 666}, {'entity_group': 'attr', 'score': np.float32(0.9005213), 'word': 'payment method', 'start': 699, 'end': 713}, {'entity_group': 'Class', 'score': np.float32(0.46552852), 'word': 'mobile', 'start': 730, 'end': 736}, {'entity_group': 'attr', 'score': np.float32(0.7374719), 'word': 'amount tendered', 'start': 747, 'end': 762}, {'entity_group': 'Class', 'score': np.float32(0.7775198), 'word': 'system', 'start': 804, 'end': 810}, {'entity_group': 'attr', 'score': np.float32(0.8649376), 'word': 'payment authorization details', 'start': 822, 'end': 851}, {'entity_group': 'attr', 'score': np.float32(0.8753364), 'word': 'payment processor response codes', 'start': 861, 'end': 893}, {'entity_group': 'attr', 'score': np.float32(0.4769509), 'word': 'card', 'start': 898, 'end': 902}, {'entity_group': 'Class', 'score': np.float32(0.57384896), 'word': 'transaction history', 'start': 950, 'end': 969}, {'entity_group': 'Class', 'score': np.float32(0.36354876), 'word': 'transactions', 'start': 1023, 'end': 1035}, {'entity_group': 'attr', 'score': np.float32(0.92598486), 'word': 'date range', 'start': 1039, 'end': 1049}, {'entity_group': 'attr', 'score': np.float32(0.9548101), 'word': 'product', 'start': 1051, 'end': 1058}, {'entity_group': 'attr', 'score': np.float32(0.7096198), 'word': 'customer', 'start': 1063, 'end': 1071}, {'entity_group': 'attr', 'score': np.float32(0.51389134), 'word': 'returns', 'start': 1140, 'end': 1147}, {'entity_group': 'attr', 'score': np.float32(0.740299), 'word': 'refunds', 'start': 1149, 'end': 1156}, {'entity_group': 'attr', 'score': np.float32(0.52536577), 'word': 'exchanges', 'start': 1161, 'end': 1170}, {'entity_group': 'Class', 'score': np.float32(0.80578446), 'word': 'sale', 'start': 1200, 'end': 1204}, {'entity_group': 'Class', 'score': np.float32(0.47156894), 'word': 'history', 'start': 1267, 'end': 1274}, {'entity_group': 'Class', 'score': np.float32(0.73101145), 'word': 'customer', 'start': 1293, 'end': 1301}, {'entity_group': 'attr', 'score': np.float32(0.77209044), 'word': 'information', 'start': 1302, 'end': 1313}, {'entity_group': 'attr', 'score': np.float32(0.9496144), 'word': 'loyalty points', 'start': 1339, 'end': 1353}, {'entity_group': 'attr', 'score': np.float32(0.97672474), 'word': 'customer id', 'start': 1355, 'end': 1366}, {'entity_group': 'attr', 'score': np.float32(0.65626264), 'word': 'special offers', 'start': 1376, 'end': 1390}, {'entity_group': 'attr', 'score': np.float32(0.5707091), 'word': 'sales', 'start': 1510, 'end': 1515}, {'entity_group': 'attr', 'score': np.float32(0.8241552), 'word': 'popular', 'start': 1524, 'end': 1531}, {'entity_group': 'Class', 'score': np.float32(0.74092555), 'word': 'customer', 'start': 1546, 'end': 1554}, {'entity_group': 'attr', 'score': np.float32(0.47048926), 'word': 'purchasing patterns', 'start': 1555, 'end': 1574}, {'entity_group': 'attr', 'score': np.float32(0.54145277), 'word': 'payment data', 'start': 1642, 'end': 1654}]\n"
     ]
    }
   ],
   "source": [
    "from transformers import pipeline\n",
    "\n",
    "# Load a pre-trained BERT model for NER\n",
    "model_checkpoint = \"../bert-base-uncased-new\"\n",
    "ner_pipeline = pipeline(\n",
    "    \"token-classification\", model=model_checkpoint, aggregation_strategy=\"simple\", device=0\n",
    ")\n",
    "text = \"\"\"The Point of Sale (POS) system is designed to simplify and accelerate the sales process in retail environments, providing a seamless experience for both customers and staff. When a transaction occurs, the system will capture key details such as the transaction ID, date, and time, along with the cashier’s information for accountability. Each sale will record the list of purchased items, including the product name, SKU (Stock Keeping Unit), quantity, unit price, and any applicable discounts or promotions. The system will automatically calculate the total cost for each item, apply taxes based on the region, and provide a final transaction total. Payment details will be captured, including the payment method (cash, card, or mobile payment), amount tendered, and any change given. Additionally, the system will track payment authorization details, such as payment processor response codes for card transactions, ensuring secure processing.\n",
    "\n",
    "The transaction history will be easily accessible, with filters to view past transactions by date range, product, or customer. Each record will include an option to view detailed information on returns, refunds, or exchanges associated with a particular sale, allowing managers to monitor adjustments made post-sale. The history will also capture customer information if applicable, including loyalty points, customer ID, and any special offers applied. This data will be stored securely and available for reporting purposes, providing managers with insights into sales trends, popular products, and customer purchasing patterns. Security measures will ensure that sensitive information, such as payment data, is encrypted and protected from unauthorized access.\"\"\"\n",
    "entities = ner_pipeline(text)\n",
    "print(entities)\n"
   ]
  },
  {
   "cell_type": "code",
   "execution_count": 38,
   "metadata": {
    "gather": {
     "logged": 1741257736109
    }
   },
   "outputs": [
    {
     "name": "stderr",
     "output_type": "stream",
     "text": [
      "Device set to use cuda:0\n"
     ]
    },
    {
     "ename": "ImportError",
     "evalue": "cannot import name 'display' from 'IPython.core.display' (/usr/local/lib/python3.11/site-packages/IPython/core/display.py)",
     "output_type": "error",
     "traceback": [
      "\u001b[31m---------------------------------------------------------------------------\u001b[39m",
      "\u001b[31mImportError\u001b[39m                               Traceback (most recent call last)",
      "\u001b[36mCell\u001b[39m\u001b[36m \u001b[39m\u001b[32mIn[38]\u001b[39m\u001b[32m, line 25\u001b[39m\n\u001b[32m     15\u001b[39m spacy_ents = {\n\u001b[32m     16\u001b[39m     \u001b[33m\"\u001b[39m\u001b[33mtext\u001b[39m\u001b[33m\"\u001b[39m: text,\n\u001b[32m     17\u001b[39m     \u001b[33m\"\u001b[39m\u001b[33ments\u001b[39m\u001b[33m\"\u001b[39m: [\n\u001b[32m   (...)\u001b[39m\u001b[32m     21\u001b[39m     \u001b[33m\"\u001b[39m\u001b[33mtitle\u001b[39m\u001b[33m\"\u001b[39m: \u001b[33m\"\u001b[39m\u001b[33mNamed Entity Recognition\u001b[39m\u001b[33m\"\u001b[39m,\n\u001b[32m     22\u001b[39m }\n\u001b[32m     24\u001b[39m \u001b[38;5;66;03m# Render the visualization\u001b[39;00m\n\u001b[32m---> \u001b[39m\u001b[32m25\u001b[39m \u001b[43mdisplacy\u001b[49m\u001b[43m.\u001b[49m\u001b[43mrender\u001b[49m\u001b[43m(\u001b[49m\u001b[43mspacy_ents\u001b[49m\u001b[43m,\u001b[49m\u001b[43m \u001b[49m\u001b[43mstyle\u001b[49m\u001b[43m=\u001b[49m\u001b[33;43m\"\u001b[39;49m\u001b[33;43ment\u001b[39;49m\u001b[33;43m\"\u001b[39;49m\u001b[43m,\u001b[49m\u001b[43m \u001b[49m\u001b[43mmanual\u001b[49m\u001b[43m=\u001b[49m\u001b[38;5;28;43;01mTrue\u001b[39;49;00m\u001b[43m,\u001b[49m\u001b[43m \u001b[49m\u001b[43mjupyter\u001b[49m\u001b[43m=\u001b[49m\u001b[38;5;28;43;01mTrue\u001b[39;49;00m\u001b[43m)\u001b[49m\n",
      "\u001b[36mFile \u001b[39m\u001b[32m/usr/local/lib/python3.11/site-packages/spacy/displacy/__init__.py:69\u001b[39m, in \u001b[36mrender\u001b[39m\u001b[34m(docs, style, page, minify, jupyter, options, manual)\u001b[39m\n\u001b[32m     65\u001b[39m     html = RENDER_WRAPPER(html)\n\u001b[32m     66\u001b[39m \u001b[38;5;28;01mif\u001b[39;00m jupyter \u001b[38;5;129;01mor\u001b[39;00m (jupyter \u001b[38;5;129;01mis\u001b[39;00m \u001b[38;5;28;01mNone\u001b[39;00m \u001b[38;5;129;01mand\u001b[39;00m is_in_jupyter()):\n\u001b[32m     67\u001b[39m     \u001b[38;5;66;03m# return HTML rendered by IPython display()\u001b[39;00m\n\u001b[32m     68\u001b[39m     \u001b[38;5;66;03m# See #4840 for details on span wrapper to disable mathjax\u001b[39;00m\n\u001b[32m---> \u001b[39m\u001b[32m69\u001b[39m     \u001b[38;5;28;01mfrom\u001b[39;00m\u001b[38;5;250m \u001b[39m\u001b[34;01mIPython\u001b[39;00m\u001b[34;01m.\u001b[39;00m\u001b[34;01mcore\u001b[39;00m\u001b[34;01m.\u001b[39;00m\u001b[34;01mdisplay\u001b[39;00m\u001b[38;5;250m \u001b[39m\u001b[38;5;28;01mimport\u001b[39;00m HTML, display\n\u001b[32m     71\u001b[39m     \u001b[38;5;28;01mreturn\u001b[39;00m display(HTML(\u001b[33m'\u001b[39m\u001b[33m<span class=\u001b[39m\u001b[33m\"\u001b[39m\u001b[33mtex2jax_ignore\u001b[39m\u001b[33m\"\u001b[39m\u001b[33m>\u001b[39m\u001b[38;5;132;01m{}\u001b[39;00m\u001b[33m</span>\u001b[39m\u001b[33m'\u001b[39m.format(html)))\n\u001b[32m     72\u001b[39m \u001b[38;5;28;01mreturn\u001b[39;00m html\n",
      "\u001b[31mImportError\u001b[39m: cannot import name 'display' from 'IPython.core.display' (/usr/local/lib/python3.11/site-packages/IPython/core/display.py)"
     ]
    }
   ],
   "source": [
    "from transformers import pipeline\n",
    "from spacy import displacy\n",
    "\n",
    "# Load a pre-trained BERT model for NER\n",
    "model_checkpoint = \"../bert-base-uncased-new\"\n",
    "ner_pipeline = pipeline(\n",
    "    \"token-classification\", model=model_checkpoint, aggregation_strategy=\"simple\", device=0\n",
    ")\n",
    "\n",
    "# Input text\n",
    "text = \"User will have username and password\"\n",
    "entities = ner_pipeline(text)\n",
    "\n",
    "# Convert Hugging Face output to spaCy format\n",
    "spacy_ents = {\n",
    "    \"text\": text,\n",
    "    \"ents\": [\n",
    "        {\"start\": ent[\"start\"], \"end\": ent[\"end\"], \"label\": ent[\"entity_group\"]}\n",
    "        for ent in entities\n",
    "    ],\n",
    "    \"title\": \"Named Entity Recognition\",\n",
    "}\n",
    "\n",
    "# Render the visualization\n",
    "displacy.render(spacy_ents, style=\"ent\", manual=True, jupyter=True)\n"
   ]
  }
 ],
 "metadata": {
  "kernel_info": {
   "name": "custom_37"
  },
  "kernelspec": {
   "display_name": "Python 3 (ipykernel)",
   "language": "python",
   "name": "python3"
  },
  "language_info": {
   "codemirror_mode": {
    "name": "ipython",
    "version": 3
   },
   "file_extension": ".py",
   "mimetype": "text/x-python",
   "name": "python",
   "nbconvert_exporter": "python",
   "pygments_lexer": "ipython3",
   "version": "3.11.11"
  },
  "microsoft": {
   "host": {
    "AzureML": {
     "notebookHasBeenCompleted": true
    }
   },
   "ms_spell_check": {
    "ms_spell_check_language": "en"
   }
  },
  "nteract": {
   "version": "nteract-front-end@1.0.0"
  }
 },
 "nbformat": 4,
 "nbformat_minor": 4
}
