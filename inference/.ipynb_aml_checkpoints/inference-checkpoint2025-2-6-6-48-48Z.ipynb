{
  "cells": [
    {
      "cell_type": "code",
      "source": [
        "import spacy\n",
        "from transformers import AutoModelForTokenClassification, AutoTokenizer, pipeline\n",
        "from spacy.tokens import Doc, Span\n",
        "\n",
        "# Load model and tokenizer\n",
        "model_name = \"../bert-large-mp-local\"  # Your saved model directory\n",
        "tokenizer = AutoTokenizer.from_pretrained(model_name)\n",
        "model = AutoModelForTokenClassification.from_pretrained(model_name)\n",
        "\n",
        "# Create NER pipeline\n",
        "ner_pipeline = pipeline(\"ner\", model=model, tokenizer=tokenizer, aggregation_strategy=\"simple\")\n",
        "\n"
      ],
      "outputs": [],
      "execution_count": null,
      "metadata": {}
    },
    {
      "cell_type": "code",
      "source": [
        "# Define spaCy component\n",
        "def hf_ner_pipe(doc):\n",
        "    text = doc.text\n",
        "    entities = ner_pipeline(text)\n",
        "\n",
        "    ents = []\n",
        "    for ent in entities:\n",
        "        start, end, label = ent[\"start\"], ent[\"end\"], ent[\"entity_group\"]\n",
        "        span = Span(doc, len(doc[:start]), len(doc[:end]), label=label)\n",
        "        ents.append(span)\n",
        "\n",
        "    doc.ents = ents\n",
        "    return doc\n",
        "\n",
        "# Load spaCy blank model\n",
        "nlp = spacy.blank(\"en\")  # You can change \"en\" to your desired language\n",
        "\n",
        "# Add custom pipeline\n",
        "nlp.add_pipe(\"hf_ner\", first=True, factory=lambda nlp, name: hf_ner_pipe)\n",
        "\n",
        "# Test it\n",
        "text = \"Elon Musk is the CEO of SpaceX.\"\n",
        "doc = nlp(text)\n",
        "\n",
        "# Print entities\n",
        "for ent in doc.ents:\n",
        "    print(ent.text, ent.label_)\n"
      ],
      "outputs": [],
      "execution_count": null,
      "metadata": {}
    }
  ],
  "metadata": {
    "kernelspec": {
      "display_name": "Python 3.10 - SDK v2",
      "language": "python",
      "name": "python310-sdkv2"
    },
    "language_info": {
      "name": "python",
      "version": "3.10.14",
      "mimetype": "text/x-python",
      "codemirror_mode": {
        "name": "ipython",
        "version": 3
      },
      "pygments_lexer": "ipython3",
      "nbconvert_exporter": "python",
      "file_extension": ".py"
    },
    "microsoft": {
      "ms_spell_check": {
        "ms_spell_check_language": "en"
      }
    },
    "nteract": {
      "version": "nteract-front-end@1.0.0"
    }
  },
  "nbformat": 4,
  "nbformat_minor": 2
}