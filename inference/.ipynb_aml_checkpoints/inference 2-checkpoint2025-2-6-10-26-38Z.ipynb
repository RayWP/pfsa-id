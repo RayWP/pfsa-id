{
  "cells": [
    {
      "cell_type": "code",
      "source": [
        "from transformers import BertTokenizer, BertForSequenceClassification\n",
        "import torch\n",
        "\n",
        "# Load tokenizer and model from local directory\n",
        "model_path = \"../bert-base-local\"  # Change this to your local directory\n",
        "\n",
        "tokenizer = BertTokenizer.from_pretrained(model_path)\n",
        "model = BertForSequenceClassification.from_pretrained(model_path)\n",
        "model.eval()  # Set model to evaluation mode\n",
        "\n",
        "# Sample input text\n",
        "text = \"This is a sample sentence for BERT inference.\"\n",
        "inputs = tokenizer(text, return_tensors=\"pt\", padding=True, truncation=True)\n",
        "\n",
        "# Perform inference\n",
        "with torch.no_grad():\n",
        "    outputs = model(**inputs)\n",
        "\n",
        "# Get logits and apply softmax to get probabilities\n",
        "logits = outputs.logits\n",
        "probs = torch.nn.functional.softmax(logits, dim=-1)\n",
        "\n",
        "print(\"Logits:\", logits)\n",
        "print(\"Probabilities:\", probs)\n"
      ],
      "outputs": [
        {
          "output_type": "stream",
          "name": "stdout",
          "text": "Logits: tensor([[ 0.1744,  0.0788, -0.1217,  0.3198,  0.0191, -0.0389]])\nProbabilities: tensor([[0.1827, 0.1660, 0.1359, 0.2113, 0.1564, 0.1476]])\n"
        }
      ],
      "execution_count": 1,
      "metadata": {
        "gather": {
          "logged": 1741256355036
        }
      }
    },
    {
      "cell_type": "code",
      "source": [
        "import torch\n",
        "\n",
        "# Load model from local directory\n",
        "model_path = \"bert-base-local\"  # Change this to your local directory\n",
        "\n",
        "model = torch.load(f\"{model_path}/pytorch_model.bin\", map_location=torch.device(\"cpu\"))\n",
        "\n",
        "# Tokenizer function (simple implementation, assumes WordPiece-like tokenization)\n",
        "def tokenize(text, vocab):\n",
        "    tokens = text.lower().split()\n",
        "    return [vocab[token] if token in vocab else vocab[\"[UNK]\"] for token in tokens]\n",
        "\n",
        "# Load vocabulary from txt file\n",
        "vocab = {}\n",
        "with open(f\"{model_path}/vocab.txt\", \"r\", encoding=\"utf-8\") as f:\n",
        "    for idx, token in enumerate(f.readlines()):\n",
        "        vocab[token.strip()] = idx\n",
        "\n",
        "# Load label mapping (Modify this according to your dataset)\n",
        "label_map = {\n",
        "    0: \"Negative\",\n",
        "    1: \"Neutral\",\n",
        "    2: \"Positive\",\n",
        "    3: \"three\",\n",
        "    4: \"x\",\n",
        "    5: \"xx\"\n",
        "}\n",
        "\n",
        "# Sample input text\n",
        "text = \"This is a sample sentence for BERT inference.\"\n",
        "token_ids = tokenize(text, vocab)\n",
        "inputs = torch.tensor([token_ids])\n",
        "\n",
        "# Perform inference\n",
        "with torch.no_grad():\n",
        "    outputs = model(inputs)\n",
        "\n",
        "# Get logits and apply softmax to get probabilities\n",
        "logits = outputs[0]  # Assuming first output is logits\n",
        "probs = torch.nn.functional.softmax(logits, dim=-1)\n",
        "\n",
        "# Get predicted label index\n",
        "predicted_index = torch.argmax(probs, dim=-1).item()\n",
        "\n",
        "# Convert to actual label\n",
        "predicted_label = label_map.get(predicted_index, \"Unknown\")\n",
        "\n",
        "print(\"Logits:\", logits)\n",
        "print(\"Probabilities:\", probs)\n",
        "print(\"Predicted Label:\", predicted_label)\n"
      ],
      "outputs": [
        {
          "output_type": "stream",
          "name": "stdout",
          "text": "Logits: tensor([[ 0.0487,  0.0467,  0.1169, -0.0674,  0.0919,  0.2681]])\nProbabilities: tensor([[0.1600, 0.1597, 0.1713, 0.1425, 0.1671, 0.1993]])\n"
        }
      ],
      "execution_count": 9,
      "metadata": {
        "gather": {
          "logged": 1741256685397
        }
      }
    },
    {
      "cell_type": "code",
      "source": [
        "\n",
        "\n",
        "# Get logits and apply softmax to get probabilities\n",
        "logits = outputs[0]  # Assuming first output is logits\n",
        "probs = torch.nn.functional.softmax(logits, dim=-1)\n",
        "\n",
        "print(\"Logits:\", logits)\n",
        "print(\"Probabilities:\", probs)"
      ],
      "outputs": [],
      "execution_count": null,
      "metadata": {}
    }
  ],
  "metadata": {
    "kernelspec": {
      "name": "custom_37",
      "language": "python",
      "display_name": "Python_37"
    },
    "language_info": {
      "name": "python",
      "version": "3.7.9",
      "mimetype": "text/x-python",
      "codemirror_mode": {
        "name": "ipython",
        "version": 3
      },
      "pygments_lexer": "ipython3",
      "nbconvert_exporter": "python",
      "file_extension": ".py"
    },
    "microsoft": {
      "ms_spell_check": {
        "ms_spell_check_language": "en"
      },
      "host": {
        "AzureML": {
          "notebookHasBeenCompleted": true
        }
      }
    },
    "kernel_info": {
      "name": "custom_37"
    },
    "nteract": {
      "version": "nteract-front-end@1.0.0"
    }
  },
  "nbformat": 4,
  "nbformat_minor": 2
}