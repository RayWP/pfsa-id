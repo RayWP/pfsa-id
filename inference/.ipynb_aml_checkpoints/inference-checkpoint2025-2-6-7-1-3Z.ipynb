{
  "cells": [
    {
      "cell_type": "code",
      "source": [
        "import spacy\n",
        "from spacy.pipeline import EntityRecognizer\n",
        "from spacy.tokens import Doc, Span\n",
        "from transformers import AutoModelForTokenClassification, AutoTokenizer, pipeline\n",
        "\n",
        "# Load your saved model\n",
        "model_name = \"../bert-large-mp-local\"  # Directory where your model is saved\n",
        "tokenizer = AutoTokenizer.from_pretrained(model_name)\n",
        "model = AutoModelForTokenClassification.from_pretrained(model_name)\n",
        "\n",
        "# Create an NER pipeline\n",
        "ner_pipeline = pipeline(\"ner\", model=model, tokenizer=tokenizer, aggregation_strategy=\"simple\")\n",
        "\n",
        "\n"
      ],
      "outputs": [],
      "execution_count": null,
      "metadata": {
        "gather": {
          "logged": 1741243988170
        }
      }
    },
    {
      "cell_type": "code",
      "source": [
        "# Function to process text with Hugging Face NER model\n",
        "def hf_ner_pipe(doc):\n",
        "    text = doc.text\n",
        "    entities = ner_pipeline(text)\n",
        "\n",
        "    ents = []\n",
        "    for ent in entities:\n",
        "        start_char, end_char, label = ent[\"start\"], ent[\"end\"], ent[\"entity_group\"]\n",
        "\n",
        "        # Use spaCy's built-in char_span() to avoid token index errors\n",
        "        span = doc.char_span(start_char, end_char, label=label)\n",
        "        if span is not None:  # Ensure span is valid\n",
        "            ents.append(span)\n",
        "\n",
        "    doc.ents = ents  # Assign extracted entities to the doc\n",
        "    return doc\n",
        "\n",
        "# Create a blank spaCy pipeline\n",
        "nlp = spacy.blank(\"en\")\n",
        "\n",
        "# Add custom NER component\n",
        "nlp.add_pipe(hf_ner_pipe, name=\"hf_ner\", first=True)\n",
        "\n",
        "# Test it\n",
        "text = \"Lorem ipsum is a dummy or placeholder text commonly used in graphic design, publishing, and web development to fill empty spaces in a layout that does not yet have content..\"\n",
        "doc = nlp(text)\n",
        "\n",
        "# Print extracted entities\n",
        "for ent in doc.ents:\n",
        "    print(ent.text, ent.label_)\n",
        "\n",
        "# Visualize with displaCy\n",
        "from spacy import displacy\n",
        "displacy.render(doc, style=\"ent\", jupyter=True)\n"
      ],
      "outputs": [
        {
          "output_type": "stream",
          "name": "stdout",
          "text": "Lorem ipsum is a dummy or placeholder text commonly used in graphic design, publishing, and web development to fill empty spaces in a layout that does not yet have content.. LABEL_1\n"
        },
        {
          "output_type": "display_data",
          "data": {
            "text/plain": "<IPython.core.display.HTML object>",
            "text/html": "<span class=\"tex2jax_ignore\"><div class=\"entities\" style=\"line-height: 2.5; direction: ltr\">\n<mark class=\"entity\" style=\"background: #ddd; padding: 0.45em 0.6em; margin: 0 0.25em; line-height: 1; border-radius: 0.35em;\">\n    Lorem ipsum is a dummy or placeholder text commonly used in graphic design, publishing, and web development to fill empty spaces in a layout that does not yet have content..\n    <span style=\"font-size: 0.8em; font-weight: bold; line-height: 1; border-radius: 0.35em; text-transform: uppercase; vertical-align: middle; margin-left: 0.5rem\">LABEL_1</span>\n</mark>\n</div></span>"
          },
          "metadata": {}
        }
      ],
      "execution_count": 9,
      "metadata": {
        "gather": {
          "logged": 1741244458912
        }
      }
    }
  ],
  "metadata": {
    "kernelspec": {
      "display_name": "Python 3.10 - SDK v2",
      "language": "python",
      "name": "python310-sdkv2"
    },
    "language_info": {
      "name": "python",
      "version": "3.7.9",
      "mimetype": "text/x-python",
      "codemirror_mode": {
        "name": "ipython",
        "version": 3
      },
      "pygments_lexer": "ipython3",
      "nbconvert_exporter": "python",
      "file_extension": ".py"
    },
    "microsoft": {
      "ms_spell_check": {
        "ms_spell_check_language": "en"
      },
      "host": {
        "AzureML": {
          "notebookHasBeenCompleted": true
        }
      }
    },
    "nteract": {
      "version": "nteract-front-end@1.0.0"
    }
  },
  "nbformat": 4,
  "nbformat_minor": 2
}