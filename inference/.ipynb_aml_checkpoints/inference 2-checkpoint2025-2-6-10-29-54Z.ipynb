{
  "cells": [
    {
      "cell_type": "code",
      "source": [
        "from transformers import BertTokenizer, BertForSequenceClassification\n",
        "import torch\n",
        "\n",
        "# Load tokenizer and model from local directory\n",
        "model_path = \"../bert-base-local\"  # Change this to your local directory\n",
        "\n",
        "tokenizer = BertTokenizer.from_pretrained(model_path)\n",
        "model = BertForSequenceClassification.from_pretrained(model_path)\n",
        "model.eval()  # Set model to evaluation mode\n",
        "\n",
        "# Sample input text\n",
        "text = \"This is a sample sentence for BERT inference.\"\n",
        "inputs = tokenizer(text, return_tensors=\"pt\", padding=True, truncation=True)\n",
        "\n",
        "# Perform inference\n",
        "with torch.no_grad():\n",
        "    outputs = model(**inputs)\n",
        "\n",
        "# Get logits and apply softmax to get probabilities\n",
        "logits = outputs.logits\n",
        "probs = torch.nn.functional.softmax(logits, dim=-1)\n",
        "\n",
        "print(\"Logits:\", logits)\n",
        "print(\"Probabilities:\", probs)\n"
      ],
      "outputs": [
        {
          "output_type": "stream",
          "name": "stdout",
          "text": "Logits: tensor([[ 0.1744,  0.0788, -0.1217,  0.3198,  0.0191, -0.0389]])\nProbabilities: tensor([[0.1827, 0.1660, 0.1359, 0.2113, 0.1564, 0.1476]])\n"
        }
      ],
      "execution_count": 1,
      "metadata": {
        "gather": {
          "logged": 1741256355036
        }
      }
    },
    {
      "cell_type": "code",
      "source": [
        "import torch\n",
        "from transformers import BertForSequenceClassification  # Ensure you have transformers installed\n",
        "\n",
        "# Load model from local directory\n",
        "model_path = \"../bert-base-local\"  # Change this to your local directory\n",
        "\n",
        "# Initialize model architecture\n",
        "model = BertForSequenceClassification.from_pretrained(model_path)\n",
        "\n",
        "# Load vocabulary from txt file\n",
        "def load_vocab(vocab_path):\n",
        "    vocab = {}\n",
        "    with open(vocab_path, \"r\", encoding=\"utf-8\") as f:\n",
        "        for idx, token in enumerate(f.readlines()):\n",
        "            vocab[token.strip()] = idx\n",
        "    return vocab\n",
        "\n",
        "# Tokenizer function (simple implementation, assumes WordPiece-like tokenization)\n",
        "def tokenize(text, vocab):\n",
        "    tokens = text.lower().split()\n",
        "    return [vocab.get(token, vocab.get(\"[UNK]\", 100)) for token in tokens]  # Default [UNK] index to 100 if missing\n",
        "\n",
        "# Load vocabulary\n",
        "vocab = load_vocab(f\"{model_path}/vocab.txt\")\n",
        "\n",
        "# Sample input text\n",
        "text = \"This is a sample sentence for BERT inference.\"\n",
        "token_ids = tokenize(text, vocab)\n",
        "inputs = torch.tensor([token_ids])\n",
        "\n",
        "# Perform inference\n",
        "model.eval()\n",
        "with torch.no_grad():\n",
        "    outputs = model(inputs)\n",
        "\n",
        "# Get logits and apply softmax to get probabilities\n",
        "logits = outputs.logits  # Use .logits for Hugging Face models\n",
        "probs = torch.nn.functional.softmax(logits, dim=-1)\n",
        "\n",
        "print(\"Logits:\", logits)\n",
        "print(\"Probabilities:\", probs)\n"
      ],
      "outputs": [
        {
          "output_type": "stream",
          "name": "stdout",
          "text": "Logits: tensor([[ 0.1806, -0.2435, -0.0992, -0.0145, -0.1193, -0.1122]])\nProbabilities: tensor([[0.2119, 0.1386, 0.1601, 0.1743, 0.1570, 0.1581]])\n"
        }
      ],
      "execution_count": 13,
      "metadata": {
        "gather": {
          "logged": 1741256972449
        }
      }
    },
    {
      "cell_type": "code",
      "source": [
        "# Load label mapping (Modify this according to your dataset)\n",
        "label_map = {\n",
        "    0: \"Negative\",\n",
        "    1: \"Neutral\",\n",
        "    2: \"Positive\"\n",
        "}\n",
        "\n"
      ],
      "outputs": [],
      "execution_count": 14,
      "metadata": {
        "gather": {
          "logged": 1741256988130
        }
      }
    },
    {
      "cell_type": "code",
      "source": [],
      "outputs": [],
      "execution_count": null,
      "metadata": {}
    }
  ],
  "metadata": {
    "kernelspec": {
      "name": "custom_37",
      "language": "python",
      "display_name": "Python_37"
    },
    "language_info": {
      "name": "python",
      "version": "3.7.9",
      "mimetype": "text/x-python",
      "codemirror_mode": {
        "name": "ipython",
        "version": 3
      },
      "pygments_lexer": "ipython3",
      "nbconvert_exporter": "python",
      "file_extension": ".py"
    },
    "microsoft": {
      "ms_spell_check": {
        "ms_spell_check_language": "en"
      },
      "host": {
        "AzureML": {
          "notebookHasBeenCompleted": true
        }
      }
    },
    "kernel_info": {
      "name": "custom_37"
    },
    "nteract": {
      "version": "nteract-front-end@1.0.0"
    }
  },
  "nbformat": 4,
  "nbformat_minor": 2
}